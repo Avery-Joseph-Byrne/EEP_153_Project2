{
 "cells": [
  {
   "cell_type": "markdown",
   "metadata": {},
   "source": [
    "# EEP153 Project 2 - Team Wilbur-Atwater"
   ]
  },
  {
   "cell_type": "markdown",
   "metadata": {},
   "source": [
    "### Table of Contents\n",
    "I. [Question A](#QuestionA)<br>\n",
    "> Ia. [Create the Dietary_Reference_Intake_Function](#Dietary_Reference_Intake_Function)<br>\n",
    "    \n",
    "II. [Linear Program Setup](#Linear_Program_Setup)<br>\n",
    "> IIa. [Create bmin and bmax Dataframes](#Bmin_Bmax)<br>\n",
    "\n",
    "> IIb. [Create diet_min and diet_max Dataframes](#Dietmin_Dietmax)<br>\n",
    "\n",
    "> IIc. [Create df, Price, and FoodNutrients Dataframes](#df_Price_FoodNutrients)<br>\n",
    "    >> ia. [Budget Friendly Diabetes Diet](#Budget1)<br>\n",
    "    >> ia. [Dash Diet](#Dash1)<br>\n",
    "    \n",
    "> IId. [Create Amin, Amax, and A Dataframes](#Amin_Amax_A)<br>\n",
    "    >> ia. [Budget Friendly Diabetes Diet](#Budget2)<br>\n",
    "    >> ia. [Dash Diet](#Dash2)<br>\n",
    "    \n",
    "> IIe. [Create the b Dataframe](#b)<br>\n",
    "\n",
    "> IIf. [Solving the Linear Program Problem](#Solved)<br>\n",
    "    >> ia. [Budget Friendly Diabetes Diet](#Budget3)<br>\n",
    "    >> ia. [Dash Diet](#Dash3)<br>\n",
    "    \n",
    "III. [Solve the Subsistence Problem](#Subsistence)<br>\n",
    "> IIIa. [Create the Solve_Subsistence_Problem Function](#Subsistence_function)<br>\n",
    "\n",
    "> IIIb. [Results For Target Group](#Results)<br>\n",
    "    >> ia. [Budget Friendly Diabetes Diet](#Budget4)<br>\n",
    "    >> ia. [Dash Diet](#Dash4)<br>\n",
    "    \n",
    "> IIIc. [Plotting Foods vs Prices](#Plotting)<br>\n",
    "    >> ia. [Budget Friendly Diabetes Diet](#Budget5)<br>\n",
    "    >> ia. [Dash Diet](#Dash5)<br>"
   ]
  },
  {
   "cell_type": "markdown",
   "metadata": {},
   "source": [
    "## Question A <a id='QuestionA'></a>"
   ]
  },
  {
   "cell_type": "markdown",
   "metadata": {},
   "source": [
    "### Install and import necessary libraries"
   ]
  },
  {
   "cell_type": "code",
   "execution_count": 174,
   "metadata": {
    "scrolled": true
   },
   "outputs": [
    {
     "name": "stdout",
     "output_type": "stream",
     "text": [
      "Requirement already satisfied: Pint==0.16.1 in /opt/conda/lib/python3.8/site-packages (from -r requirements.txt (line 4)) (0.16.1)\n",
      "Requirement already satisfied: gspread==3.6.0 in /opt/conda/lib/python3.8/site-packages (from -r requirements.txt (line 7)) (3.6.0)\n",
      "Requirement already satisfied: numpy==1.19.2 in /opt/conda/lib/python3.8/site-packages (from -r requirements.txt (line 10)) (1.19.2)\n",
      "Requirement already satisfied: oauth2client==4.1.3 in /opt/conda/lib/python3.8/site-packages (from -r requirements.txt (line 13)) (4.1.3)\n",
      "Requirement already satisfied: pandas==1.1.3 in /opt/conda/lib/python3.8/site-packages (from -r requirements.txt (line 17)) (1.1.3)\n",
      "Requirement already satisfied: requests==2.25.0 in /opt/conda/lib/python3.8/site-packages (from -r requirements.txt (line 20)) (2.25.0)\n",
      "Requirement already satisfied: packaging in /opt/conda/lib/python3.8/site-packages (from Pint==0.16.1->-r requirements.txt (line 4)) (20.9)\n",
      "Requirement already satisfied: google-auth-oauthlib>=0.4.1 in /opt/conda/lib/python3.8/site-packages (from gspread==3.6.0->-r requirements.txt (line 7)) (0.4.1)\n",
      "Requirement already satisfied: google-auth>=1.12.0 in /opt/conda/lib/python3.8/site-packages (from gspread==3.6.0->-r requirements.txt (line 7)) (1.25.0)\n",
      "Requirement already satisfied: rsa>=3.1.4 in /opt/conda/lib/python3.8/site-packages (from oauth2client==4.1.3->-r requirements.txt (line 13)) (4.7)\n",
      "Requirement already satisfied: httplib2>=0.9.1 in /opt/conda/lib/python3.8/site-packages (from oauth2client==4.1.3->-r requirements.txt (line 13)) (0.19.0)\n",
      "Requirement already satisfied: six>=1.6.1 in /opt/conda/lib/python3.8/site-packages (from oauth2client==4.1.3->-r requirements.txt (line 13)) (1.15.0)\n",
      "Requirement already satisfied: pyasn1-modules>=0.0.5 in /opt/conda/lib/python3.8/site-packages (from oauth2client==4.1.3->-r requirements.txt (line 13)) (0.2.8)\n",
      "Requirement already satisfied: pyasn1>=0.1.7 in /opt/conda/lib/python3.8/site-packages (from oauth2client==4.1.3->-r requirements.txt (line 13)) (0.4.8)\n",
      "Requirement already satisfied: pytz>=2017.2 in /opt/conda/lib/python3.8/site-packages (from pandas==1.1.3->-r requirements.txt (line 17)) (2020.5)\n",
      "Requirement already satisfied: python-dateutil>=2.7.3 in /opt/conda/lib/python3.8/site-packages (from pandas==1.1.3->-r requirements.txt (line 17)) (2.8.1)\n",
      "Requirement already satisfied: chardet<4,>=3.0.2 in /opt/conda/lib/python3.8/site-packages (from requests==2.25.0->-r requirements.txt (line 20)) (3.0.4)\n",
      "Requirement already satisfied: urllib3<1.27,>=1.21.1 in /opt/conda/lib/python3.8/site-packages (from requests==2.25.0->-r requirements.txt (line 20)) (1.25.7)\n",
      "Requirement already satisfied: certifi>=2017.4.17 in /opt/conda/lib/python3.8/site-packages (from requests==2.25.0->-r requirements.txt (line 20)) (2019.11.28)\n",
      "Requirement already satisfied: idna<3,>=2.5 in /opt/conda/lib/python3.8/site-packages (from requests==2.25.0->-r requirements.txt (line 20)) (2.8)\n",
      "Requirement already satisfied: pyparsing>=2.0.2 in /opt/conda/lib/python3.8/site-packages (from packaging->Pint==0.16.1->-r requirements.txt (line 4)) (2.4.7)\n",
      "Requirement already satisfied: requests-oauthlib>=0.7.0 in /opt/conda/lib/python3.8/site-packages (from google-auth-oauthlib>=0.4.1->gspread==3.6.0->-r requirements.txt (line 7)) (1.3.0)\n",
      "Requirement already satisfied: setuptools>=40.3.0 in /opt/conda/lib/python3.8/site-packages (from google-auth>=1.12.0->gspread==3.6.0->-r requirements.txt (line 7)) (49.6.0.post20210108)\n",
      "Requirement already satisfied: cachetools<5.0,>=2.0.0 in /opt/conda/lib/python3.8/site-packages (from google-auth>=1.12.0->gspread==3.6.0->-r requirements.txt (line 7)) (4.2.1)\n",
      "Requirement already satisfied: oauthlib>=3.0.0 in /opt/conda/lib/python3.8/site-packages (from requests-oauthlib>=0.7.0->google-auth-oauthlib>=0.4.1->gspread==3.6.0->-r requirements.txt (line 7)) (3.1.0)\n"
     ]
    }
   ],
   "source": [
    "!pip install -r requirements.txt"
   ]
  },
  {
   "cell_type": "code",
   "execution_count": 175,
   "metadata": {},
   "outputs": [],
   "source": [
    "import fooddatacentral as fdc\n",
    "import numpy as np\n",
    "import pandas as pd\n",
    "from eep153_tools import read_sheets\n",
    "from scipy.optimize import linprog as lp"
   ]
  },
  {
   "cell_type": "markdown",
   "metadata": {},
   "source": [
    "## Create the dietary_reference_intake_function <a id='Dietary_Reference_Intake_Function'></a>"
   ]
  },
  {
   "cell_type": "markdown",
   "metadata": {},
   "source": [
    "### Read in the minimum diet requirements dataframe"
   ]
  },
  {
   "cell_type": "markdown",
   "metadata": {},
   "source": [
    "Energy: Calories\n",
    "Protein: Grams\n",
    "Fiber: Grams\n",
    "Folate DFE: Micrograms\n",
    "Calcium Ca: Milligrams\n",
    "Carbohydrate by difference: Grams\n",
    "Iron Fe: Milligrams\n",
    "Magnesium Mg: Milligrams\n",
    "Niacin: Milligrams\n",
    "Phosphorus P: Milligrams\n",
    "Potassium K: Milligrams\n",
    "Riboflavin: Milligrams\n",
    "Thiamin: Milligrams\n",
    "Vitamin A RAE: Micrograms\n",
    "Vitamin B-12: Milligrams\n",
    "Vitamin B-6: Micrograms\n",
    "Vitamin C total ascorbic acid: Milligrams \n",
    "Vitamin E (alpha-tocopherol): Milligrams\n",
    "Vitamin K (phylloquinone): Micrograms\n",
    "Zinc Zn: Micrograms"
   ]
  },
  {
   "cell_type": "code",
   "execution_count": 176,
   "metadata": {
    "scrolled": false
   },
   "outputs": [
    {
     "data": {
      "text/html": [
       "<div>\n",
       "<style scoped>\n",
       "    .dataframe tbody tr th:only-of-type {\n",
       "        vertical-align: middle;\n",
       "    }\n",
       "\n",
       "    .dataframe tbody tr th {\n",
       "        vertical-align: top;\n",
       "    }\n",
       "\n",
       "    .dataframe thead th {\n",
       "        text-align: right;\n",
       "    }\n",
       "</style>\n",
       "<table border=\"1\" class=\"dataframe\">\n",
       "  <thead>\n",
       "    <tr style=\"text-align: right;\">\n",
       "      <th></th>\n",
       "      <th>C 1-3</th>\n",
       "      <th>F 4-8</th>\n",
       "      <th>M 4-8</th>\n",
       "      <th>F 9-13</th>\n",
       "      <th>M 9-13</th>\n",
       "      <th>F 14-18</th>\n",
       "      <th>M 14-18</th>\n",
       "      <th>F 19-30</th>\n",
       "      <th>M 19-30</th>\n",
       "      <th>F 31-50</th>\n",
       "      <th>M 31-50</th>\n",
       "      <th>F 51+</th>\n",
       "      <th>M 51+</th>\n",
       "    </tr>\n",
       "    <tr>\n",
       "      <th>Nutrition</th>\n",
       "      <th></th>\n",
       "      <th></th>\n",
       "      <th></th>\n",
       "      <th></th>\n",
       "      <th></th>\n",
       "      <th></th>\n",
       "      <th></th>\n",
       "      <th></th>\n",
       "      <th></th>\n",
       "      <th></th>\n",
       "      <th></th>\n",
       "      <th></th>\n",
       "      <th></th>\n",
       "    </tr>\n",
       "  </thead>\n",
       "  <tbody>\n",
       "    <tr>\n",
       "      <th>Energy</th>\n",
       "      <td>1000.0</td>\n",
       "      <td>1200.0</td>\n",
       "      <td>1400.0</td>\n",
       "      <td>1600.0</td>\n",
       "      <td>1800.0</td>\n",
       "      <td>1800.0</td>\n",
       "      <td>2200.0</td>\n",
       "      <td>2000.0</td>\n",
       "      <td>2400.0</td>\n",
       "      <td>1800.0</td>\n",
       "      <td>2200.0</td>\n",
       "      <td>1600.0</td>\n",
       "      <td>2000.0</td>\n",
       "    </tr>\n",
       "    <tr>\n",
       "      <th>Protein</th>\n",
       "      <td>13.0</td>\n",
       "      <td>19.0</td>\n",
       "      <td>19.0</td>\n",
       "      <td>34.0</td>\n",
       "      <td>34.0</td>\n",
       "      <td>46.0</td>\n",
       "      <td>52.0</td>\n",
       "      <td>46.0</td>\n",
       "      <td>56.0</td>\n",
       "      <td>46.0</td>\n",
       "      <td>56.0</td>\n",
       "      <td>46.0</td>\n",
       "      <td>56.0</td>\n",
       "    </tr>\n",
       "    <tr>\n",
       "      <th>Fiber, total dietary</th>\n",
       "      <td>14.0</td>\n",
       "      <td>16.8</td>\n",
       "      <td>19.6</td>\n",
       "      <td>22.4</td>\n",
       "      <td>25.2</td>\n",
       "      <td>25.2</td>\n",
       "      <td>30.8</td>\n",
       "      <td>28.0</td>\n",
       "      <td>33.6</td>\n",
       "      <td>25.2</td>\n",
       "      <td>30.8</td>\n",
       "      <td>22.4</td>\n",
       "      <td>28.0</td>\n",
       "    </tr>\n",
       "    <tr>\n",
       "      <th>Folate, DFE</th>\n",
       "      <td>150.0</td>\n",
       "      <td>200.0</td>\n",
       "      <td>200.0</td>\n",
       "      <td>300.0</td>\n",
       "      <td>300.0</td>\n",
       "      <td>400.0</td>\n",
       "      <td>400.0</td>\n",
       "      <td>400.0</td>\n",
       "      <td>400.0</td>\n",
       "      <td>400.0</td>\n",
       "      <td>400.0</td>\n",
       "      <td>400.0</td>\n",
       "      <td>400.0</td>\n",
       "    </tr>\n",
       "    <tr>\n",
       "      <th>Calcium, Ca</th>\n",
       "      <td>700.0</td>\n",
       "      <td>1000.0</td>\n",
       "      <td>1000.0</td>\n",
       "      <td>1300.0</td>\n",
       "      <td>1300.0</td>\n",
       "      <td>1300.0</td>\n",
       "      <td>1300.0</td>\n",
       "      <td>1000.0</td>\n",
       "      <td>1000.0</td>\n",
       "      <td>1000.0</td>\n",
       "      <td>1000.0</td>\n",
       "      <td>1200.0</td>\n",
       "      <td>1000.0</td>\n",
       "    </tr>\n",
       "  </tbody>\n",
       "</table>\n",
       "</div>"
      ],
      "text/plain": [
       "                       C 1-3   F 4-8   M 4-8  F 9-13  M 9-13  F 14-18  \\\n",
       "Nutrition                                                               \n",
       "Energy                1000.0  1200.0  1400.0  1600.0  1800.0   1800.0   \n",
       "Protein                 13.0    19.0    19.0    34.0    34.0     46.0   \n",
       "Fiber, total dietary    14.0    16.8    19.6    22.4    25.2     25.2   \n",
       "Folate, DFE            150.0   200.0   200.0   300.0   300.0    400.0   \n",
       "Calcium, Ca            700.0  1000.0  1000.0  1300.0  1300.0   1300.0   \n",
       "\n",
       "                      M 14-18  F 19-30  M 19-30  F 31-50  M 31-50   F 51+  \\\n",
       "Nutrition                                                                   \n",
       "Energy                 2200.0   2000.0   2400.0   1800.0   2200.0  1600.0   \n",
       "Protein                  52.0     46.0     56.0     46.0     56.0    46.0   \n",
       "Fiber, total dietary     30.8     28.0     33.6     25.2     30.8    22.4   \n",
       "Folate, DFE             400.0    400.0    400.0    400.0    400.0   400.0   \n",
       "Calcium, Ca            1300.0   1000.0   1000.0   1000.0   1000.0  1200.0   \n",
       "\n",
       "                       M 51+  \n",
       "Nutrition                     \n",
       "Energy                2000.0  \n",
       "Protein                 56.0  \n",
       "Fiber, total dietary    28.0  \n",
       "Folate, DFE            400.0  \n",
       "Calcium, Ca           1000.0  "
      ]
     },
     "execution_count": 176,
     "metadata": {},
     "output_type": "execute_result"
    }
   ],
   "source": [
    "min_diet_reqs_df = pd.read_csv('./diet_minimums.csv').set_index('Nutrition').iloc[:,2:]\n",
    "min_diet_reqs_df.head()"
   ]
  },
  {
   "cell_type": "code",
   "execution_count": 177,
   "metadata": {},
   "outputs": [
    {
     "data": {
      "text/html": [
       "<div>\n",
       "<style scoped>\n",
       "    .dataframe tbody tr th:only-of-type {\n",
       "        vertical-align: middle;\n",
       "    }\n",
       "\n",
       "    .dataframe tbody tr th {\n",
       "        vertical-align: top;\n",
       "    }\n",
       "\n",
       "    .dataframe thead th {\n",
       "        text-align: right;\n",
       "    }\n",
       "</style>\n",
       "<table border=\"1\" class=\"dataframe\">\n",
       "  <thead>\n",
       "    <tr style=\"text-align: right;\">\n",
       "      <th></th>\n",
       "      <th>F 19-30</th>\n",
       "      <th>M 19-30</th>\n",
       "      <th>F 31-50</th>\n",
       "      <th>M 31-50</th>\n",
       "      <th>F 51+</th>\n",
       "      <th>M 51+</th>\n",
       "    </tr>\n",
       "    <tr>\n",
       "      <th>Nutrition</th>\n",
       "      <th></th>\n",
       "      <th></th>\n",
       "      <th></th>\n",
       "      <th></th>\n",
       "      <th></th>\n",
       "      <th></th>\n",
       "    </tr>\n",
       "  </thead>\n",
       "  <tbody>\n",
       "    <tr>\n",
       "      <th>Energy</th>\n",
       "      <td>2000.0</td>\n",
       "      <td>2400.0</td>\n",
       "      <td>1800.0</td>\n",
       "      <td>2200.0</td>\n",
       "      <td>1600.0</td>\n",
       "      <td>2000.0</td>\n",
       "    </tr>\n",
       "    <tr>\n",
       "      <th>Protein</th>\n",
       "      <td>46.0</td>\n",
       "      <td>56.0</td>\n",
       "      <td>46.0</td>\n",
       "      <td>56.0</td>\n",
       "      <td>46.0</td>\n",
       "      <td>56.0</td>\n",
       "    </tr>\n",
       "    <tr>\n",
       "      <th>Fiber, total dietary</th>\n",
       "      <td>28.0</td>\n",
       "      <td>33.6</td>\n",
       "      <td>25.2</td>\n",
       "      <td>30.8</td>\n",
       "      <td>22.4</td>\n",
       "      <td>28.0</td>\n",
       "    </tr>\n",
       "    <tr>\n",
       "      <th>Folate, DFE</th>\n",
       "      <td>400.0</td>\n",
       "      <td>400.0</td>\n",
       "      <td>400.0</td>\n",
       "      <td>400.0</td>\n",
       "      <td>400.0</td>\n",
       "      <td>400.0</td>\n",
       "    </tr>\n",
       "    <tr>\n",
       "      <th>Calcium, Ca</th>\n",
       "      <td>1000.0</td>\n",
       "      <td>1000.0</td>\n",
       "      <td>1000.0</td>\n",
       "      <td>1000.0</td>\n",
       "      <td>1200.0</td>\n",
       "      <td>1000.0</td>\n",
       "    </tr>\n",
       "  </tbody>\n",
       "</table>\n",
       "</div>"
      ],
      "text/plain": [
       "                      F 19-30  M 19-30  F 31-50  M 31-50   F 51+   M 51+\n",
       "Nutrition                                                               \n",
       "Energy                 2000.0   2400.0   1800.0   2200.0  1600.0  2000.0\n",
       "Protein                  46.0     56.0     46.0     56.0    46.0    56.0\n",
       "Fiber, total dietary     28.0     33.6     25.2     30.8    22.4    28.0\n",
       "Folate, DFE             400.0    400.0    400.0    400.0   400.0   400.0\n",
       "Calcium, Ca            1000.0   1000.0   1000.0   1000.0  1200.0  1000.0"
      ]
     },
     "execution_count": 177,
     "metadata": {},
     "output_type": "execute_result"
    }
   ],
   "source": [
    "diet_age_range_df = min_diet_reqs_df[[\"F 19-30\", \"M 19-30\", \"F 31-50\", \"M 31-50\", \"F 51+\", \"M 51+\"]]\n",
    "diet_age_range_df.head()"
   ]
  },
  {
   "cell_type": "markdown",
   "metadata": {},
   "source": [
    "### Scalars"
   ]
  },
  {
   "cell_type": "markdown",
   "metadata": {
    "scrolled": true
   },
   "source": [
    "Low in saturated and trans fats\n",
    "Rich in potassium, calcium, magnesium, fiber, and protein\n",
    "Lower in sodium\n",
    "\n",
    "Carbs: 55%\n",
    "Potassium: 4700 mg\n",
    "Calcium: 1250 mg\n",
    "Magnesium: 500 g"
   ]
  },
  {
   "cell_type": "code",
   "execution_count": 178,
   "metadata": {
    "scrolled": false
   },
   "outputs": [
    {
     "data": {
      "text/html": [
       "<div>\n",
       "<style scoped>\n",
       "    .dataframe tbody tr th:only-of-type {\n",
       "        vertical-align: middle;\n",
       "    }\n",
       "\n",
       "    .dataframe tbody tr th {\n",
       "        vertical-align: top;\n",
       "    }\n",
       "\n",
       "    .dataframe thead th {\n",
       "        text-align: right;\n",
       "    }\n",
       "</style>\n",
       "<table border=\"1\" class=\"dataframe\">\n",
       "  <thead>\n",
       "    <tr style=\"text-align: right;\">\n",
       "      <th></th>\n",
       "      <th>F 19-30</th>\n",
       "      <th>M 19-30</th>\n",
       "      <th>F 31-50</th>\n",
       "      <th>M 31-50</th>\n",
       "      <th>F 51+</th>\n",
       "      <th>M 51+</th>\n",
       "    </tr>\n",
       "    <tr>\n",
       "      <th>Nutrition</th>\n",
       "      <th></th>\n",
       "      <th></th>\n",
       "      <th></th>\n",
       "      <th></th>\n",
       "      <th></th>\n",
       "      <th></th>\n",
       "    </tr>\n",
       "  </thead>\n",
       "  <tbody>\n",
       "    <tr>\n",
       "      <th>Energy</th>\n",
       "      <td>2000.0</td>\n",
       "      <td>2400.0</td>\n",
       "      <td>1800.0</td>\n",
       "      <td>2200.0</td>\n",
       "      <td>1600.0</td>\n",
       "      <td>2000.0</td>\n",
       "    </tr>\n",
       "    <tr>\n",
       "      <th>Protein</th>\n",
       "      <td>46.0</td>\n",
       "      <td>56.0</td>\n",
       "      <td>46.0</td>\n",
       "      <td>56.0</td>\n",
       "      <td>46.0</td>\n",
       "      <td>56.0</td>\n",
       "    </tr>\n",
       "    <tr>\n",
       "      <th>Fiber, total dietary</th>\n",
       "      <td>28.0</td>\n",
       "      <td>33.6</td>\n",
       "      <td>25.2</td>\n",
       "      <td>30.8</td>\n",
       "      <td>22.4</td>\n",
       "      <td>28.0</td>\n",
       "    </tr>\n",
       "    <tr>\n",
       "      <th>Folate, DFE</th>\n",
       "      <td>400.0</td>\n",
       "      <td>400.0</td>\n",
       "      <td>400.0</td>\n",
       "      <td>400.0</td>\n",
       "      <td>400.0</td>\n",
       "      <td>400.0</td>\n",
       "    </tr>\n",
       "    <tr>\n",
       "      <th>Calcium, Ca</th>\n",
       "      <td>1200.0</td>\n",
       "      <td>1200.0</td>\n",
       "      <td>1200.0</td>\n",
       "      <td>1200.0</td>\n",
       "      <td>1200.0</td>\n",
       "      <td>1200.0</td>\n",
       "    </tr>\n",
       "  </tbody>\n",
       "</table>\n",
       "</div>"
      ],
      "text/plain": [
       "                      F 19-30  M 19-30  F 31-50  M 31-50   F 51+   M 51+\n",
       "Nutrition                                                               \n",
       "Energy                 2000.0   2400.0   1800.0   2200.0  1600.0  2000.0\n",
       "Protein                  46.0     56.0     46.0     56.0    46.0    56.0\n",
       "Fiber, total dietary     28.0     33.6     25.2     30.8    22.4    28.0\n",
       "Folate, DFE             400.0    400.0    400.0    400.0   400.0   400.0\n",
       "Calcium, Ca            1200.0   1200.0   1200.0   1200.0  1200.0  1200.0"
      ]
     },
     "execution_count": 178,
     "metadata": {},
     "output_type": "execute_result"
    }
   ],
   "source": [
    "for i in range(len(diet_age_range_df.loc[\"Carbohydrate, by difference\",:])):\n",
    "    diet_age_range_df.loc[\"Carbohydrate, by difference\",:][i] = (diet_age_range_df.loc[\"Energy\",:][i] * .55)\n",
    "               \n",
    "diet_age_range_df.loc[\"Calcium, Ca\",:] = 1200\n",
    "diet_age_range_df.loc[\"Magnesium, Mg\",:] = 500\n",
    "diet_age_range_df.head()"
   ]
  },
  {
   "cell_type": "markdown",
   "metadata": {},
   "source": [
    "### dietary_reference_intake_function "
   ]
  },
  {
   "cell_type": "code",
   "execution_count": 179,
   "metadata": {},
   "outputs": [
    {
     "data": {
      "text/plain": [
       "Nutrition\n",
       "Energy                            2400.0\n",
       "Protein                             56.0\n",
       "Fiber, total dietary                33.6\n",
       "Folate, DFE                        400.0\n",
       "Calcium, Ca                       1200.0\n",
       "Carbohydrate, by difference       1320.0\n",
       "Iron, Fe                             8.0\n",
       "Magnesium, Mg                      500.0\n",
       "Niacin                              16.0\n",
       "Phosphorus, P                      700.0\n",
       "Potassium, K                      4700.0\n",
       "Riboflavin                           1.3\n",
       "Thiamin                              1.2\n",
       "Vitamin A, RAE                     900.0\n",
       "Vitamin B-12                         2.4\n",
       "Vitamin B-6                          1.3\n",
       "Vitamin C, total ascorbic acid      90.0\n",
       "Vitamin E (alpha-tocopherol)        15.0\n",
       "Vitamin K (phylloquinone)          120.0\n",
       "Zinc, Zn                            11.0\n",
       "Name: M 19-30, dtype: float64"
      ]
     },
     "execution_count": 179,
     "metadata": {},
     "output_type": "execute_result"
    }
   ],
   "source": [
    "def dietary_reference_intake_function(group, activity_level=None):\n",
    "    \n",
    "    sex_age_series = diet_age_range_df[group]\n",
    "    \n",
    "    if activity_level:\n",
    "        if activity_level != sex_age_series[0]:\n",
    "            scalar = activity_level / sex_age_series[0]\n",
    "            sex_age_series = sex_age_series.multiply(scalar)\n",
    "    \n",
    "    return sex_age_series\n",
    "                                                 \n",
    "dietary_reference_intake_function('M 19-30')"
   ]
  },
  {
   "cell_type": "markdown",
   "metadata": {},
   "source": [
    "## Linear Program Setup <a id='Linear_Program_Setup'></a>"
   ]
  },
  {
   "cell_type": "markdown",
   "metadata": {},
   "source": [
    "### Create bmin and bmax  dataframes <a id='Bmin_Bmax'></a>"
   ]
  },
  {
   "cell_type": "code",
   "execution_count": 180,
   "metadata": {},
   "outputs": [],
   "source": [
    "apikey = 'wkD3aDAMmafxVnYDrkUqEUA9aoUjGoGXoTviwdpc'"
   ]
  },
  {
   "cell_type": "code",
   "execution_count": 181,
   "metadata": {
    "scrolled": true
   },
   "outputs": [
    {
     "data": {
      "text/html": [
       "<div>\n",
       "<style scoped>\n",
       "    .dataframe tbody tr th:only-of-type {\n",
       "        vertical-align: middle;\n",
       "    }\n",
       "\n",
       "    .dataframe tbody tr th {\n",
       "        vertical-align: top;\n",
       "    }\n",
       "\n",
       "    .dataframe thead th {\n",
       "        text-align: right;\n",
       "    }\n",
       "</style>\n",
       "<table border=\"1\" class=\"dataframe\">\n",
       "  <thead>\n",
       "    <tr style=\"text-align: right;\">\n",
       "      <th></th>\n",
       "      <th>C 1-3</th>\n",
       "      <th>F 4-8</th>\n",
       "      <th>M 4-8</th>\n",
       "      <th>F 9-13</th>\n",
       "      <th>M 9-13</th>\n",
       "      <th>F 14-18</th>\n",
       "      <th>M 14-18</th>\n",
       "      <th>F 19-30</th>\n",
       "      <th>M 19-30</th>\n",
       "      <th>F 31-50</th>\n",
       "      <th>M 31-50</th>\n",
       "      <th>F 51+</th>\n",
       "      <th>M 51+</th>\n",
       "    </tr>\n",
       "    <tr>\n",
       "      <th>Nutrition</th>\n",
       "      <th></th>\n",
       "      <th></th>\n",
       "      <th></th>\n",
       "      <th></th>\n",
       "      <th></th>\n",
       "      <th></th>\n",
       "      <th></th>\n",
       "      <th></th>\n",
       "      <th></th>\n",
       "      <th></th>\n",
       "      <th></th>\n",
       "      <th></th>\n",
       "      <th></th>\n",
       "    </tr>\n",
       "  </thead>\n",
       "  <tbody>\n",
       "    <tr>\n",
       "      <th>Energy</th>\n",
       "      <td>1000.0</td>\n",
       "      <td>1200.0</td>\n",
       "      <td>1400.0</td>\n",
       "      <td>1600.0</td>\n",
       "      <td>1800.0</td>\n",
       "      <td>1800.0</td>\n",
       "      <td>2200.0</td>\n",
       "      <td>2000.0</td>\n",
       "      <td>2400.0</td>\n",
       "      <td>1800.0</td>\n",
       "      <td>2200.0</td>\n",
       "      <td>1600.0</td>\n",
       "      <td>2000.0</td>\n",
       "    </tr>\n",
       "    <tr>\n",
       "      <th>Protein</th>\n",
       "      <td>13.0</td>\n",
       "      <td>19.0</td>\n",
       "      <td>19.0</td>\n",
       "      <td>34.0</td>\n",
       "      <td>34.0</td>\n",
       "      <td>46.0</td>\n",
       "      <td>52.0</td>\n",
       "      <td>46.0</td>\n",
       "      <td>56.0</td>\n",
       "      <td>46.0</td>\n",
       "      <td>56.0</td>\n",
       "      <td>46.0</td>\n",
       "      <td>56.0</td>\n",
       "    </tr>\n",
       "    <tr>\n",
       "      <th>Fiber, total dietary</th>\n",
       "      <td>14.0</td>\n",
       "      <td>16.8</td>\n",
       "      <td>19.6</td>\n",
       "      <td>22.4</td>\n",
       "      <td>25.2</td>\n",
       "      <td>25.2</td>\n",
       "      <td>30.8</td>\n",
       "      <td>28.0</td>\n",
       "      <td>33.6</td>\n",
       "      <td>25.2</td>\n",
       "      <td>30.8</td>\n",
       "      <td>22.4</td>\n",
       "      <td>28.0</td>\n",
       "    </tr>\n",
       "    <tr>\n",
       "      <th>Folate, DFE</th>\n",
       "      <td>150.0</td>\n",
       "      <td>200.0</td>\n",
       "      <td>200.0</td>\n",
       "      <td>300.0</td>\n",
       "      <td>300.0</td>\n",
       "      <td>400.0</td>\n",
       "      <td>400.0</td>\n",
       "      <td>400.0</td>\n",
       "      <td>400.0</td>\n",
       "      <td>400.0</td>\n",
       "      <td>400.0</td>\n",
       "      <td>400.0</td>\n",
       "      <td>400.0</td>\n",
       "    </tr>\n",
       "    <tr>\n",
       "      <th>Calcium, Ca</th>\n",
       "      <td>700.0</td>\n",
       "      <td>1000.0</td>\n",
       "      <td>1000.0</td>\n",
       "      <td>1300.0</td>\n",
       "      <td>1300.0</td>\n",
       "      <td>1300.0</td>\n",
       "      <td>1300.0</td>\n",
       "      <td>1000.0</td>\n",
       "      <td>1000.0</td>\n",
       "      <td>1000.0</td>\n",
       "      <td>1000.0</td>\n",
       "      <td>1200.0</td>\n",
       "      <td>1000.0</td>\n",
       "    </tr>\n",
       "  </tbody>\n",
       "</table>\n",
       "</div>"
      ],
      "text/plain": [
       "                       C 1-3   F 4-8   M 4-8  F 9-13  M 9-13  F 14-18  \\\n",
       "Nutrition                                                               \n",
       "Energy                1000.0  1200.0  1400.0  1600.0  1800.0   1800.0   \n",
       "Protein                 13.0    19.0    19.0    34.0    34.0     46.0   \n",
       "Fiber, total dietary    14.0    16.8    19.6    22.4    25.2     25.2   \n",
       "Folate, DFE            150.0   200.0   200.0   300.0   300.0    400.0   \n",
       "Calcium, Ca            700.0  1000.0  1000.0  1300.0  1300.0   1300.0   \n",
       "\n",
       "                      M 14-18  F 19-30  M 19-30  F 31-50  M 31-50   F 51+  \\\n",
       "Nutrition                                                                   \n",
       "Energy                 2200.0   2000.0   2400.0   1800.0   2200.0  1600.0   \n",
       "Protein                  52.0     46.0     56.0     46.0     56.0    46.0   \n",
       "Fiber, total dietary     30.8     28.0     33.6     25.2     30.8    22.4   \n",
       "Folate, DFE             400.0    400.0    400.0    400.0    400.0   400.0   \n",
       "Calcium, Ca            1300.0   1000.0   1000.0   1000.0   1000.0  1200.0   \n",
       "\n",
       "                       M 51+  \n",
       "Nutrition                     \n",
       "Energy                2000.0  \n",
       "Protein                 56.0  \n",
       "Fiber, total dietary    28.0  \n",
       "Folate, DFE            400.0  \n",
       "Calcium, Ca           1000.0  "
      ]
     },
     "execution_count": 181,
     "metadata": {},
     "output_type": "execute_result"
    }
   ],
   "source": [
    "bmin = pd.read_csv('./diet_minimums.csv').set_index('Nutrition').iloc[:,2:]\n",
    "bmin.head()"
   ]
  },
  {
   "cell_type": "code",
   "execution_count": 182,
   "metadata": {},
   "outputs": [
    {
     "data": {
      "text/html": [
       "<div>\n",
       "<style scoped>\n",
       "    .dataframe tbody tr th:only-of-type {\n",
       "        vertical-align: middle;\n",
       "    }\n",
       "\n",
       "    .dataframe tbody tr th {\n",
       "        vertical-align: top;\n",
       "    }\n",
       "\n",
       "    .dataframe thead th {\n",
       "        text-align: right;\n",
       "    }\n",
       "</style>\n",
       "<table border=\"1\" class=\"dataframe\">\n",
       "  <thead>\n",
       "    <tr style=\"text-align: right;\">\n",
       "      <th></th>\n",
       "      <th>C 1-3</th>\n",
       "      <th>F 4-8</th>\n",
       "      <th>M 4-8</th>\n",
       "      <th>F 9-13</th>\n",
       "      <th>M 9-13</th>\n",
       "      <th>F 14-18</th>\n",
       "      <th>M 14-18</th>\n",
       "      <th>F 19-30</th>\n",
       "      <th>M 19-30</th>\n",
       "      <th>F 31-50</th>\n",
       "      <th>M 31-50</th>\n",
       "      <th>F 51+</th>\n",
       "      <th>M 51+</th>\n",
       "    </tr>\n",
       "    <tr>\n",
       "      <th>Nutrition</th>\n",
       "      <th></th>\n",
       "      <th></th>\n",
       "      <th></th>\n",
       "      <th></th>\n",
       "      <th></th>\n",
       "      <th></th>\n",
       "      <th></th>\n",
       "      <th></th>\n",
       "      <th></th>\n",
       "      <th></th>\n",
       "      <th></th>\n",
       "      <th></th>\n",
       "      <th></th>\n",
       "    </tr>\n",
       "  </thead>\n",
       "  <tbody>\n",
       "    <tr>\n",
       "      <th>Sodium, Na</th>\n",
       "      <td>1500</td>\n",
       "      <td>1900</td>\n",
       "      <td>1900</td>\n",
       "      <td>2200</td>\n",
       "      <td>2200</td>\n",
       "      <td>2300</td>\n",
       "      <td>2300</td>\n",
       "      <td>2300</td>\n",
       "      <td>2300</td>\n",
       "      <td>2300</td>\n",
       "      <td>2300</td>\n",
       "      <td>2300</td>\n",
       "      <td>2300</td>\n",
       "    </tr>\n",
       "  </tbody>\n",
       "</table>\n",
       "</div>"
      ],
      "text/plain": [
       "            C 1-3  F 4-8  M 4-8  F 9-13  M 9-13  F 14-18  M 14-18  F 19-30  \\\n",
       "Nutrition                                                                    \n",
       "Sodium, Na   1500   1900   1900    2200    2200     2300     2300     2300   \n",
       "\n",
       "            M 19-30  F 31-50  M 31-50  F 51+  M 51+  \n",
       "Nutrition                                            \n",
       "Sodium, Na     2300     2300     2300   2300   2300  "
      ]
     },
     "execution_count": 182,
     "metadata": {},
     "output_type": "execute_result"
    }
   ],
   "source": [
    "bmax = pd.read_csv('./diet_maximums.csv').set_index('Nutrition').iloc[:,2:]\n",
    "bmax"
   ]
  },
  {
   "cell_type": "markdown",
   "metadata": {},
   "source": [
    "### Create the diet_min and diet_max dataframes <a id='Dietmin_Dietmax'></a>"
   ]
  },
  {
   "cell_type": "code",
   "execution_count": 183,
   "metadata": {
    "scrolled": true
   },
   "outputs": [
    {
     "name": "stdout",
     "output_type": "stream",
     "text": [
      "gpg: AES256 encrypted data\n",
      "gpg: encrypted with 1 passphrase\n"
     ]
    }
   ],
   "source": [
    "!gpg --batch --passphrase \"noodle octopus\" -d ../students-9093fa174318.json.gpg > ../students-9093fa174318.json"
   ]
  },
  {
   "cell_type": "code",
   "execution_count": 184,
   "metadata": {},
   "outputs": [],
   "source": [
    "user = \"ligon\"\n",
    "\n",
    "serviceacct = {'ligon':'../students-9093fa174318.json'}\n",
    "DRIs = \"https://docs.google.com/spreadsheets/d/1y95IsQ4HKspPW3HHDtH7QMtlDA66IUsCHJLutVL-MMc/\"\n",
    "\n",
    "# Define *minimums*\n",
    "diet_min = read_sheets(DRIs,json_creds=serviceacct[user],sheet='diet_minimums').set_index('Nutrition')\n",
    "\n",
    "# Define *maximums*\n",
    "diet_max = read_sheets(DRIs,json_creds=serviceacct[user],sheet='diet_maximums').set_index('Nutrition')"
   ]
  },
  {
   "cell_type": "markdown",
   "metadata": {},
   "source": [
    "### Create the df, Price, and FoodNutrients dataframes <a id='df_Price_FoodNutrients'></a>"
   ]
  },
  {
   "cell_type": "markdown",
   "metadata": {},
   "source": [
    "#### Budget Friendly Diabetes Diet <a id='Budget1'></a>"
   ]
  },
  {
   "cell_type": "code",
   "execution_count": 185,
   "metadata": {
    "scrolled": false
   },
   "outputs": [
    {
     "data": {
      "text/html": [
       "<div>\n",
       "<style scoped>\n",
       "    .dataframe tbody tr th:only-of-type {\n",
       "        vertical-align: middle;\n",
       "    }\n",
       "\n",
       "    .dataframe tbody tr th {\n",
       "        vertical-align: top;\n",
       "    }\n",
       "\n",
       "    .dataframe thead th {\n",
       "        text-align: right;\n",
       "    }\n",
       "</style>\n",
       "<table border=\"1\" class=\"dataframe\">\n",
       "  <thead>\n",
       "    <tr style=\"text-align: right;\">\n",
       "      <th></th>\n",
       "      <th>Food</th>\n",
       "      <th>Quantity</th>\n",
       "      <th>Units</th>\n",
       "      <th>Price</th>\n",
       "      <th>Date</th>\n",
       "      <th>Location</th>\n",
       "      <th>FDC Code</th>\n",
       "    </tr>\n",
       "  </thead>\n",
       "  <tbody>\n",
       "    <tr>\n",
       "      <th>0</th>\n",
       "      <td>Potatoes</td>\n",
       "      <td>1.0</td>\n",
       "      <td>lb</td>\n",
       "      <td>$1.89</td>\n",
       "      <td>[2021-03-03 Wednesday]</td>\n",
       "      <td>Berkeley Bowl West</td>\n",
       "      <td>1192521</td>\n",
       "    </tr>\n",
       "    <tr>\n",
       "      <th>1</th>\n",
       "      <td>Eggs</td>\n",
       "      <td>18.0</td>\n",
       "      <td>ct</td>\n",
       "      <td>$1.74</td>\n",
       "      <td>[2021-03-08 Sunday]</td>\n",
       "      <td>Walmart</td>\n",
       "      <td>747997</td>\n",
       "    </tr>\n",
       "    <tr>\n",
       "      <th>2</th>\n",
       "      <td>Tofu</td>\n",
       "      <td>16.0</td>\n",
       "      <td>oz</td>\n",
       "      <td>$3.69</td>\n",
       "      <td>[2021-03-10 Wednesday]</td>\n",
       "      <td>Berkeley Bowl West</td>\n",
       "      <td>496446</td>\n",
       "    </tr>\n",
       "    <tr>\n",
       "      <th>3</th>\n",
       "      <td>Pinto beans</td>\n",
       "      <td>8.0</td>\n",
       "      <td>lb</td>\n",
       "      <td>$5.98</td>\n",
       "      <td>[2021-03-10 Wednesday]</td>\n",
       "      <td>Walmart</td>\n",
       "      <td>1249329</td>\n",
       "    </tr>\n",
       "    <tr>\n",
       "      <th>4</th>\n",
       "      <td>Low fat cottage cheese</td>\n",
       "      <td>16.0</td>\n",
       "      <td>oz</td>\n",
       "      <td>$3.29</td>\n",
       "      <td>[2021-03-10 Wednesday]</td>\n",
       "      <td>Berkeley Bowl West</td>\n",
       "      <td>1191554</td>\n",
       "    </tr>\n",
       "  </tbody>\n",
       "</table>\n",
       "</div>"
      ],
      "text/plain": [
       "                     Food  Quantity Units  Price                    Date  \\\n",
       "0                Potatoes       1.0    lb  $1.89  [2021-03-03 Wednesday]   \n",
       "1                    Eggs      18.0    ct  $1.74     [2021-03-08 Sunday]   \n",
       "2                    Tofu      16.0    oz  $3.69  [2021-03-10 Wednesday]   \n",
       "3             Pinto beans       8.0    lb  $5.98  [2021-03-10 Wednesday]   \n",
       "4  Low fat cottage cheese      16.0    oz  $3.29  [2021-03-10 Wednesday]   \n",
       "\n",
       "             Location  FDC Code  \n",
       "0  Berkeley Bowl West   1192521  \n",
       "1             Walmart    747997  \n",
       "2  Berkeley Bowl West    496446  \n",
       "3             Walmart   1249329  \n",
       "4  Berkeley Bowl West   1191554  "
      ]
     },
     "metadata": {},
     "output_type": "display_data"
    }
   ],
   "source": [
    "budget_friendly_diabetes_diet_df = pd.read_csv(\"Budget_Friendly_Diabetes_Diet.csv\")\n",
    "display(budget_friendly_diabetes_diet_df.head())"
   ]
  },
  {
   "cell_type": "code",
   "execution_count": 186,
   "metadata": {},
   "outputs": [],
   "source": [
    "int_price_lst = [float(i[1:]) for i in budget_friendly_diabetes_diet_df[\"Price\"]]\n",
    "budget_friendly_diabetes_diet_df[\"Price\"] = int_price_lst\n",
    "budget_friendly_diabetes_diet_df = budget_friendly_diabetes_diet_df.rename(columns={\"FDC Code\":\"FDC\"})"
   ]
  },
  {
   "cell_type": "code",
   "execution_count": 187,
   "metadata": {},
   "outputs": [],
   "source": [
    "# Convert food quantities to FDC units\n",
    "budget_friendly_diabetes_diet_df['FDC Quantity'] = budget_friendly_diabetes_diet_df[['Quantity','Units']].T.apply(lambda x : fdc.units(x['Quantity'],x['Units']))\n",
    "\n",
    "# Now divide price by the FDC Quantity to get, e.g., price per hectoliter\n",
    "budget_friendly_diabetes_diet_df['FDC Price'] = budget_friendly_diabetes_diet_df['Price']/budget_friendly_diabetes_diet_df['FDC Quantity']\n",
    "\n",
    "budget_friendly_diabetes_diet_df.dropna(how='any') # Drop food with any missing data\n",
    "\n",
    "# To use minimum price observed\n",
    "budget_friendly_diabetes_diet_prices = budget_friendly_diabetes_diet_df.groupby('Food')['FDC Price'].min()"
   ]
  },
  {
   "cell_type": "code",
   "execution_count": 188,
   "metadata": {},
   "outputs": [],
   "source": [
    "\n",
    "D = {}\n",
    "count = 0\n",
    "for food in budget_friendly_diabetes_diet_df.Food.tolist():\n",
    "    try:\n",
    "        FDC = budget_friendly_diabetes_diet_df.loc[budget_friendly_diabetes_diet_df.Food==food,:].FDC[count]\n",
    "        count+=1\n",
    "        D[food] = fdc.nutrients(apikey,FDC).Quantity\n",
    "    except AttributeError: \n",
    "        print(\"Attribute Error\")\n",
    "        #warnings.warn(\"Couldn't find FDC Code %s for food %s.\" % (food,FDC))        \n",
    "\n",
    "BudgetFoodNutrients = pd.DataFrame(D,dtype=float)"
   ]
  },
  {
   "cell_type": "code",
   "execution_count": 189,
   "metadata": {},
   "outputs": [],
   "source": [
    "budget_p = budget_friendly_diabetes_diet_prices.apply(lambda x:x.magnitude).dropna()\n",
    "\n",
    "# Compile list that we have both prices and nutritional info for; drop if either missing\n",
    "use = list(set(budget_p.index.tolist()).intersection(BudgetFoodNutrients.columns.tolist()))\n",
    "budget_p = budget_p[use]"
   ]
  },
  {
   "cell_type": "code",
   "execution_count": 190,
   "metadata": {
    "scrolled": false
   },
   "outputs": [
    {
     "data": {
      "text/html": [
       "<div>\n",
       "<style scoped>\n",
       "    .dataframe tbody tr th:only-of-type {\n",
       "        vertical-align: middle;\n",
       "    }\n",
       "\n",
       "    .dataframe tbody tr th {\n",
       "        vertical-align: top;\n",
       "    }\n",
       "\n",
       "    .dataframe thead th {\n",
       "        text-align: right;\n",
       "    }\n",
       "</style>\n",
       "<table border=\"1\" class=\"dataframe\">\n",
       "  <thead>\n",
       "    <tr style=\"text-align: right;\">\n",
       "      <th></th>\n",
       "      <th>Food</th>\n",
       "      <th>Quantity</th>\n",
       "      <th>Units</th>\n",
       "      <th>Price</th>\n",
       "      <th>Date</th>\n",
       "      <th>Location</th>\n",
       "      <th>FDC</th>\n",
       "      <th>FDC Quantity</th>\n",
       "      <th>FDC Price</th>\n",
       "    </tr>\n",
       "  </thead>\n",
       "  <tbody>\n",
       "    <tr>\n",
       "      <th>0</th>\n",
       "      <td>Potatoes</td>\n",
       "      <td>1.0</td>\n",
       "      <td>lb</td>\n",
       "      <td>1.89</td>\n",
       "      <td>[2021-03-03 Wednesday]</td>\n",
       "      <td>Berkeley Bowl West</td>\n",
       "      <td>1192521</td>\n",
       "      <td>4.535923700000001 hectogram</td>\n",
       "      <td>0.41667367552941853 / hectogram</td>\n",
       "    </tr>\n",
       "    <tr>\n",
       "      <th>1</th>\n",
       "      <td>Eggs</td>\n",
       "      <td>18.0</td>\n",
       "      <td>ct</td>\n",
       "      <td>1.74</td>\n",
       "      <td>[2021-03-08 Sunday]</td>\n",
       "      <td>Walmart</td>\n",
       "      <td>747997</td>\n",
       "      <td>0.036000000000000004 hectogram</td>\n",
       "      <td>48.33333333333333 / hectogram</td>\n",
       "    </tr>\n",
       "    <tr>\n",
       "      <th>2</th>\n",
       "      <td>Tofu</td>\n",
       "      <td>16.0</td>\n",
       "      <td>oz</td>\n",
       "      <td>3.69</td>\n",
       "      <td>[2021-03-10 Wednesday]</td>\n",
       "      <td>Berkeley Bowl West</td>\n",
       "      <td>496446</td>\n",
       "      <td>4.535923700000001 hectogram</td>\n",
       "      <td>0.8135057474621982 / hectogram</td>\n",
       "    </tr>\n",
       "    <tr>\n",
       "      <th>3</th>\n",
       "      <td>Pinto beans</td>\n",
       "      <td>8.0</td>\n",
       "      <td>lb</td>\n",
       "      <td>5.98</td>\n",
       "      <td>[2021-03-10 Wednesday]</td>\n",
       "      <td>Walmart</td>\n",
       "      <td>1249329</td>\n",
       "      <td>36.287389600000004 hectogram</td>\n",
       "      <td>0.164795540983196 / hectogram</td>\n",
       "    </tr>\n",
       "    <tr>\n",
       "      <th>4</th>\n",
       "      <td>Low fat cottage cheese</td>\n",
       "      <td>16.0</td>\n",
       "      <td>oz</td>\n",
       "      <td>3.29</td>\n",
       "      <td>[2021-03-10 Wednesday]</td>\n",
       "      <td>Berkeley Bowl West</td>\n",
       "      <td>1191554</td>\n",
       "      <td>4.535923700000001 hectogram</td>\n",
       "      <td>0.7253208425882471 / hectogram</td>\n",
       "    </tr>\n",
       "  </tbody>\n",
       "</table>\n",
       "</div>"
      ],
      "text/plain": [
       "                     Food  Quantity Units  Price                    Date  \\\n",
       "0                Potatoes       1.0    lb   1.89  [2021-03-03 Wednesday]   \n",
       "1                    Eggs      18.0    ct   1.74     [2021-03-08 Sunday]   \n",
       "2                    Tofu      16.0    oz   3.69  [2021-03-10 Wednesday]   \n",
       "3             Pinto beans       8.0    lb   5.98  [2021-03-10 Wednesday]   \n",
       "4  Low fat cottage cheese      16.0    oz   3.29  [2021-03-10 Wednesday]   \n",
       "\n",
       "             Location      FDC                    FDC Quantity  \\\n",
       "0  Berkeley Bowl West  1192521     4.535923700000001 hectogram   \n",
       "1             Walmart   747997  0.036000000000000004 hectogram   \n",
       "2  Berkeley Bowl West   496446     4.535923700000001 hectogram   \n",
       "3             Walmart  1249329    36.287389600000004 hectogram   \n",
       "4  Berkeley Bowl West  1191554     4.535923700000001 hectogram   \n",
       "\n",
       "                         FDC Price  \n",
       "0  0.41667367552941853 / hectogram  \n",
       "1    48.33333333333333 / hectogram  \n",
       "2   0.8135057474621982 / hectogram  \n",
       "3    0.164795540983196 / hectogram  \n",
       "4   0.7253208425882471 / hectogram  "
      ]
     },
     "metadata": {},
     "output_type": "display_data"
    },
    {
     "data": {
      "text/html": [
       "<div>\n",
       "<style scoped>\n",
       "    .dataframe tbody tr th:only-of-type {\n",
       "        vertical-align: middle;\n",
       "    }\n",
       "\n",
       "    .dataframe tbody tr th {\n",
       "        vertical-align: top;\n",
       "    }\n",
       "\n",
       "    .dataframe thead th {\n",
       "        text-align: right;\n",
       "    }\n",
       "</style>\n",
       "<table border=\"1\" class=\"dataframe\">\n",
       "  <thead>\n",
       "    <tr style=\"text-align: right;\">\n",
       "      <th></th>\n",
       "      <th>Potatoes</th>\n",
       "      <th>Eggs</th>\n",
       "      <th>Tofu</th>\n",
       "      <th>Pinto beans</th>\n",
       "      <th>Low fat cottage cheese</th>\n",
       "      <th>Canned tuna</th>\n",
       "      <th>Pita bread</th>\n",
       "      <th>Frozen fruit mix</th>\n",
       "      <th>Steel cut oats</th>\n",
       "      <th>Peanut butter</th>\n",
       "      <th>...</th>\n",
       "      <th>Greek Yogurt</th>\n",
       "      <th>Onions</th>\n",
       "      <th>Green beans (canned)</th>\n",
       "      <th>Oranges</th>\n",
       "      <th>Brown Rice</th>\n",
       "      <th>Sweet Potato</th>\n",
       "      <th>Frozen vegetables</th>\n",
       "      <th>Oatmeal</th>\n",
       "      <th>Salsa</th>\n",
       "      <th>Popcorn (kernels no additives)</th>\n",
       "    </tr>\n",
       "  </thead>\n",
       "  <tbody>\n",
       "    <tr>\n",
       "      <th>10:0</th>\n",
       "      <td>NaN</td>\n",
       "      <td>NaN</td>\n",
       "      <td>NaN</td>\n",
       "      <td>NaN</td>\n",
       "      <td>NaN</td>\n",
       "      <td>0.002</td>\n",
       "      <td>NaN</td>\n",
       "      <td>0.000</td>\n",
       "      <td>NaN</td>\n",
       "      <td>NaN</td>\n",
       "      <td>...</td>\n",
       "      <td>NaN</td>\n",
       "      <td>0.000</td>\n",
       "      <td>0.00</td>\n",
       "      <td>0.000</td>\n",
       "      <td>NaN</td>\n",
       "      <td>NaN</td>\n",
       "      <td>0.000</td>\n",
       "      <td>NaN</td>\n",
       "      <td>NaN</td>\n",
       "      <td>NaN</td>\n",
       "    </tr>\n",
       "    <tr>\n",
       "      <th>12:0</th>\n",
       "      <td>NaN</td>\n",
       "      <td>NaN</td>\n",
       "      <td>NaN</td>\n",
       "      <td>NaN</td>\n",
       "      <td>NaN</td>\n",
       "      <td>0.000</td>\n",
       "      <td>NaN</td>\n",
       "      <td>0.000</td>\n",
       "      <td>NaN</td>\n",
       "      <td>NaN</td>\n",
       "      <td>...</td>\n",
       "      <td>NaN</td>\n",
       "      <td>0.000</td>\n",
       "      <td>0.00</td>\n",
       "      <td>0.000</td>\n",
       "      <td>NaN</td>\n",
       "      <td>NaN</td>\n",
       "      <td>0.001</td>\n",
       "      <td>NaN</td>\n",
       "      <td>NaN</td>\n",
       "      <td>NaN</td>\n",
       "    </tr>\n",
       "    <tr>\n",
       "      <th>14:0</th>\n",
       "      <td>NaN</td>\n",
       "      <td>NaN</td>\n",
       "      <td>NaN</td>\n",
       "      <td>NaN</td>\n",
       "      <td>NaN</td>\n",
       "      <td>0.011</td>\n",
       "      <td>NaN</td>\n",
       "      <td>0.003</td>\n",
       "      <td>NaN</td>\n",
       "      <td>NaN</td>\n",
       "      <td>...</td>\n",
       "      <td>NaN</td>\n",
       "      <td>0.004</td>\n",
       "      <td>0.00</td>\n",
       "      <td>0.000</td>\n",
       "      <td>NaN</td>\n",
       "      <td>NaN</td>\n",
       "      <td>0.001</td>\n",
       "      <td>NaN</td>\n",
       "      <td>NaN</td>\n",
       "      <td>NaN</td>\n",
       "    </tr>\n",
       "    <tr>\n",
       "      <th>16:0</th>\n",
       "      <td>NaN</td>\n",
       "      <td>NaN</td>\n",
       "      <td>NaN</td>\n",
       "      <td>NaN</td>\n",
       "      <td>NaN</td>\n",
       "      <td>0.134</td>\n",
       "      <td>NaN</td>\n",
       "      <td>0.028</td>\n",
       "      <td>NaN</td>\n",
       "      <td>NaN</td>\n",
       "      <td>...</td>\n",
       "      <td>NaN</td>\n",
       "      <td>0.034</td>\n",
       "      <td>0.08</td>\n",
       "      <td>0.013</td>\n",
       "      <td>NaN</td>\n",
       "      <td>NaN</td>\n",
       "      <td>0.086</td>\n",
       "      <td>NaN</td>\n",
       "      <td>NaN</td>\n",
       "      <td>NaN</td>\n",
       "    </tr>\n",
       "    <tr>\n",
       "      <th>16:1</th>\n",
       "      <td>NaN</td>\n",
       "      <td>NaN</td>\n",
       "      <td>NaN</td>\n",
       "      <td>NaN</td>\n",
       "      <td>NaN</td>\n",
       "      <td>0.017</td>\n",
       "      <td>NaN</td>\n",
       "      <td>0.014</td>\n",
       "      <td>NaN</td>\n",
       "      <td>NaN</td>\n",
       "      <td>...</td>\n",
       "      <td>NaN</td>\n",
       "      <td>0.000</td>\n",
       "      <td>0.00</td>\n",
       "      <td>0.003</td>\n",
       "      <td>NaN</td>\n",
       "      <td>NaN</td>\n",
       "      <td>0.001</td>\n",
       "      <td>NaN</td>\n",
       "      <td>NaN</td>\n",
       "      <td>NaN</td>\n",
       "    </tr>\n",
       "    <tr>\n",
       "      <th>...</th>\n",
       "      <td>...</td>\n",
       "      <td>...</td>\n",
       "      <td>...</td>\n",
       "      <td>...</td>\n",
       "      <td>...</td>\n",
       "      <td>...</td>\n",
       "      <td>...</td>\n",
       "      <td>...</td>\n",
       "      <td>...</td>\n",
       "      <td>...</td>\n",
       "      <td>...</td>\n",
       "      <td>...</td>\n",
       "      <td>...</td>\n",
       "      <td>...</td>\n",
       "      <td>...</td>\n",
       "      <td>...</td>\n",
       "      <td>...</td>\n",
       "      <td>...</td>\n",
       "      <td>...</td>\n",
       "      <td>...</td>\n",
       "      <td>...</td>\n",
       "    </tr>\n",
       "    <tr>\n",
       "      <th>Vitamin E, added</th>\n",
       "      <td>NaN</td>\n",
       "      <td>NaN</td>\n",
       "      <td>NaN</td>\n",
       "      <td>NaN</td>\n",
       "      <td>NaN</td>\n",
       "      <td>0.000</td>\n",
       "      <td>NaN</td>\n",
       "      <td>0.000</td>\n",
       "      <td>NaN</td>\n",
       "      <td>NaN</td>\n",
       "      <td>...</td>\n",
       "      <td>NaN</td>\n",
       "      <td>0.000</td>\n",
       "      <td>0.00</td>\n",
       "      <td>0.000</td>\n",
       "      <td>NaN</td>\n",
       "      <td>NaN</td>\n",
       "      <td>NaN</td>\n",
       "      <td>NaN</td>\n",
       "      <td>NaN</td>\n",
       "      <td>NaN</td>\n",
       "    </tr>\n",
       "    <tr>\n",
       "      <th>Vitamin K (phylloquinone)</th>\n",
       "      <td>NaN</td>\n",
       "      <td>NaN</td>\n",
       "      <td>NaN</td>\n",
       "      <td>NaN</td>\n",
       "      <td>NaN</td>\n",
       "      <td>0.200</td>\n",
       "      <td>NaN</td>\n",
       "      <td>2.600</td>\n",
       "      <td>NaN</td>\n",
       "      <td>NaN</td>\n",
       "      <td>...</td>\n",
       "      <td>NaN</td>\n",
       "      <td>0.400</td>\n",
       "      <td>38.90</td>\n",
       "      <td>0.000</td>\n",
       "      <td>NaN</td>\n",
       "      <td>NaN</td>\n",
       "      <td>NaN</td>\n",
       "      <td>NaN</td>\n",
       "      <td>NaN</td>\n",
       "      <td>NaN</td>\n",
       "    </tr>\n",
       "    <tr>\n",
       "      <th>Vitamins and Other Components</th>\n",
       "      <td>NaN</td>\n",
       "      <td>0.0</td>\n",
       "      <td>NaN</td>\n",
       "      <td>NaN</td>\n",
       "      <td>NaN</td>\n",
       "      <td>0.000</td>\n",
       "      <td>NaN</td>\n",
       "      <td>0.000</td>\n",
       "      <td>NaN</td>\n",
       "      <td>NaN</td>\n",
       "      <td>...</td>\n",
       "      <td>NaN</td>\n",
       "      <td>0.000</td>\n",
       "      <td>0.00</td>\n",
       "      <td>0.000</td>\n",
       "      <td>NaN</td>\n",
       "      <td>NaN</td>\n",
       "      <td>0.000</td>\n",
       "      <td>NaN</td>\n",
       "      <td>NaN</td>\n",
       "      <td>NaN</td>\n",
       "    </tr>\n",
       "    <tr>\n",
       "      <th>Water</th>\n",
       "      <td>NaN</td>\n",
       "      <td>86.3</td>\n",
       "      <td>NaN</td>\n",
       "      <td>NaN</td>\n",
       "      <td>NaN</td>\n",
       "      <td>79.000</td>\n",
       "      <td>NaN</td>\n",
       "      <td>87.590</td>\n",
       "      <td>NaN</td>\n",
       "      <td>NaN</td>\n",
       "      <td>...</td>\n",
       "      <td>NaN</td>\n",
       "      <td>89.110</td>\n",
       "      <td>93.60</td>\n",
       "      <td>86.750</td>\n",
       "      <td>NaN</td>\n",
       "      <td>NaN</td>\n",
       "      <td>82.080</td>\n",
       "      <td>NaN</td>\n",
       "      <td>NaN</td>\n",
       "      <td>NaN</td>\n",
       "    </tr>\n",
       "    <tr>\n",
       "      <th>Zinc, Zn</th>\n",
       "      <td>NaN</td>\n",
       "      <td>NaN</td>\n",
       "      <td>NaN</td>\n",
       "      <td>NaN</td>\n",
       "      <td>NaN</td>\n",
       "      <td>0.660</td>\n",
       "      <td>NaN</td>\n",
       "      <td>0.200</td>\n",
       "      <td>NaN</td>\n",
       "      <td>NaN</td>\n",
       "      <td>...</td>\n",
       "      <td>NaN</td>\n",
       "      <td>0.170</td>\n",
       "      <td>0.19</td>\n",
       "      <td>0.070</td>\n",
       "      <td>NaN</td>\n",
       "      <td>NaN</td>\n",
       "      <td>0.450</td>\n",
       "      <td>NaN</td>\n",
       "      <td>NaN</td>\n",
       "      <td>NaN</td>\n",
       "    </tr>\n",
       "  </tbody>\n",
       "</table>\n",
       "<p>100 rows × 31 columns</p>\n",
       "</div>"
      ],
      "text/plain": [
       "                               Potatoes  Eggs  Tofu  Pinto beans  \\\n",
       "10:0                                NaN   NaN   NaN          NaN   \n",
       "12:0                                NaN   NaN   NaN          NaN   \n",
       "14:0                                NaN   NaN   NaN          NaN   \n",
       "16:0                                NaN   NaN   NaN          NaN   \n",
       "16:1                                NaN   NaN   NaN          NaN   \n",
       "...                                 ...   ...   ...          ...   \n",
       "Vitamin E, added                    NaN   NaN   NaN          NaN   \n",
       "Vitamin K (phylloquinone)           NaN   NaN   NaN          NaN   \n",
       "Vitamins and Other Components       NaN   0.0   NaN          NaN   \n",
       "Water                               NaN  86.3   NaN          NaN   \n",
       "Zinc, Zn                            NaN   NaN   NaN          NaN   \n",
       "\n",
       "                               Low fat cottage cheese  Canned tuna  \\\n",
       "10:0                                              NaN        0.002   \n",
       "12:0                                              NaN        0.000   \n",
       "14:0                                              NaN        0.011   \n",
       "16:0                                              NaN        0.134   \n",
       "16:1                                              NaN        0.017   \n",
       "...                                               ...          ...   \n",
       "Vitamin E, added                                  NaN        0.000   \n",
       "Vitamin K (phylloquinone)                         NaN        0.200   \n",
       "Vitamins and Other Components                     NaN        0.000   \n",
       "Water                                             NaN       79.000   \n",
       "Zinc, Zn                                          NaN        0.660   \n",
       "\n",
       "                               Pita bread  Frozen fruit mix  Steel cut oats  \\\n",
       "10:0                                  NaN             0.000             NaN   \n",
       "12:0                                  NaN             0.000             NaN   \n",
       "14:0                                  NaN             0.003             NaN   \n",
       "16:0                                  NaN             0.028             NaN   \n",
       "16:1                                  NaN             0.014             NaN   \n",
       "...                                   ...               ...             ...   \n",
       "Vitamin E, added                      NaN             0.000             NaN   \n",
       "Vitamin K (phylloquinone)             NaN             2.600             NaN   \n",
       "Vitamins and Other Components         NaN             0.000             NaN   \n",
       "Water                                 NaN            87.590             NaN   \n",
       "Zinc, Zn                              NaN             0.200             NaN   \n",
       "\n",
       "                               Peanut butter  ...  Greek Yogurt  Onions  \\\n",
       "10:0                                     NaN  ...           NaN   0.000   \n",
       "12:0                                     NaN  ...           NaN   0.000   \n",
       "14:0                                     NaN  ...           NaN   0.004   \n",
       "16:0                                     NaN  ...           NaN   0.034   \n",
       "16:1                                     NaN  ...           NaN   0.000   \n",
       "...                                      ...  ...           ...     ...   \n",
       "Vitamin E, added                         NaN  ...           NaN   0.000   \n",
       "Vitamin K (phylloquinone)                NaN  ...           NaN   0.400   \n",
       "Vitamins and Other Components            NaN  ...           NaN   0.000   \n",
       "Water                                    NaN  ...           NaN  89.110   \n",
       "Zinc, Zn                                 NaN  ...           NaN   0.170   \n",
       "\n",
       "                               Green beans (canned)  Oranges  Brown Rice  \\\n",
       "10:0                                           0.00    0.000         NaN   \n",
       "12:0                                           0.00    0.000         NaN   \n",
       "14:0                                           0.00    0.000         NaN   \n",
       "16:0                                           0.08    0.013         NaN   \n",
       "16:1                                           0.00    0.003         NaN   \n",
       "...                                             ...      ...         ...   \n",
       "Vitamin E, added                               0.00    0.000         NaN   \n",
       "Vitamin K (phylloquinone)                     38.90    0.000         NaN   \n",
       "Vitamins and Other Components                  0.00    0.000         NaN   \n",
       "Water                                         93.60   86.750         NaN   \n",
       "Zinc, Zn                                       0.19    0.070         NaN   \n",
       "\n",
       "                               Sweet Potato  Frozen vegetables  Oatmeal  \\\n",
       "10:0                                    NaN              0.000      NaN   \n",
       "12:0                                    NaN              0.001      NaN   \n",
       "14:0                                    NaN              0.001      NaN   \n",
       "16:0                                    NaN              0.086      NaN   \n",
       "16:1                                    NaN              0.001      NaN   \n",
       "...                                     ...                ...      ...   \n",
       "Vitamin E, added                        NaN                NaN      NaN   \n",
       "Vitamin K (phylloquinone)               NaN                NaN      NaN   \n",
       "Vitamins and Other Components           NaN              0.000      NaN   \n",
       "Water                                   NaN             82.080      NaN   \n",
       "Zinc, Zn                                NaN              0.450      NaN   \n",
       "\n",
       "                               Salsa  Popcorn (kernels no additives)  \n",
       "10:0                             NaN                             NaN  \n",
       "12:0                             NaN                             NaN  \n",
       "14:0                             NaN                             NaN  \n",
       "16:0                             NaN                             NaN  \n",
       "16:1                             NaN                             NaN  \n",
       "...                              ...                             ...  \n",
       "Vitamin E, added                 NaN                             NaN  \n",
       "Vitamin K (phylloquinone)        NaN                             NaN  \n",
       "Vitamins and Other Components    NaN                             NaN  \n",
       "Water                            NaN                             NaN  \n",
       "Zinc, Zn                         NaN                             NaN  \n",
       "\n",
       "[100 rows x 31 columns]"
      ]
     },
     "metadata": {},
     "output_type": "display_data"
    },
    {
     "data": {
      "text/plain": [
       "Food\n",
       "Greek Yogurt                                0.382502\n",
       "Black Beans                                 0.220462\n",
       "Pita bread                                  1.143464\n",
       "Almonds                                     0.204589\n",
       "Salsa                                       0.296301\n",
       "Brown Rice                                  0.244272\n",
       "Green beans (canned)                        0.287057\n",
       "Spinach                                     1.452846\n",
       "Tofu                                        0.813506\n",
       "Whole-grain cereal (Honey Nut Cheerios)     1.937128\n",
       "Oatmeal                                     0.325864\n",
       "Potatoes                                    0.416674\n",
       "Salad greens                                0.850984\n",
       "Sweet Potato                                0.482812\n",
       "Onions                                      0.135217\n",
       "Canned tuna                                 1.466809\n",
       "Popcorn (kernels no additives)              0.350388\n",
       "Steel cut oats                              0.463265\n",
       "Frozen vegetables                           0.293950\n",
       "Apples                                      0.460766\n",
       "Low fat cottage cheese                      0.725321\n",
       "Strawberries                                0.825631\n",
       "Pinto beans                                 0.164796\n",
       "Canned salmon                               1.410958\n",
       "Broccoli                                    0.482812\n",
       "Peanut butter                               0.153442\n",
       "Frozen fruit mix                            0.520291\n",
       "Eggs                                       48.333333\n",
       "Nut and fruit trail mix                     1.368630\n",
       "Bananas                                     0.306443\n",
       "Oranges                                     0.208337\n",
       "Name: FDC Price, dtype: float64"
      ]
     },
     "metadata": {},
     "output_type": "display_data"
    }
   ],
   "source": [
    "display(budget_friendly_diabetes_diet_df.head())\n",
    "display(BudgetFoodNutrients)\n",
    "display(budget_p)"
   ]
  },
  {
   "cell_type": "markdown",
   "metadata": {},
   "source": [
    "#### Dash Diet <a id='Dash1'></a>"
   ]
  },
  {
   "cell_type": "code",
   "execution_count": 191,
   "metadata": {
    "scrolled": true
   },
   "outputs": [
    {
     "data": {
      "text/html": [
       "<div>\n",
       "<style scoped>\n",
       "    .dataframe tbody tr th:only-of-type {\n",
       "        vertical-align: middle;\n",
       "    }\n",
       "\n",
       "    .dataframe tbody tr th {\n",
       "        vertical-align: top;\n",
       "    }\n",
       "\n",
       "    .dataframe thead th {\n",
       "        text-align: right;\n",
       "    }\n",
       "</style>\n",
       "<table border=\"1\" class=\"dataframe\">\n",
       "  <thead>\n",
       "    <tr style=\"text-align: right;\">\n",
       "      <th></th>\n",
       "      <th>Food</th>\n",
       "      <th>Quantity</th>\n",
       "      <th>Units</th>\n",
       "      <th>Price</th>\n",
       "      <th>Date</th>\n",
       "      <th>Location</th>\n",
       "      <th>FDC Code</th>\n",
       "    </tr>\n",
       "  </thead>\n",
       "  <tbody>\n",
       "    <tr>\n",
       "      <th>0</th>\n",
       "      <td>Chicken breast</td>\n",
       "      <td>3.0</td>\n",
       "      <td>lb</td>\n",
       "      <td>$10.47</td>\n",
       "      <td>[2021-03-03 Wednesday]</td>\n",
       "      <td>Safeway: 5100 Broadway</td>\n",
       "      <td>1098444</td>\n",
       "    </tr>\n",
       "    <tr>\n",
       "      <th>1</th>\n",
       "      <td>Chicken drumsticks, dark meat</td>\n",
       "      <td>2.5</td>\n",
       "      <td>lb</td>\n",
       "      <td>$7.48</td>\n",
       "      <td>[2021-03-03 Wednesday]</td>\n",
       "      <td>Safeway: 5100 Broadway</td>\n",
       "      <td>172855</td>\n",
       "    </tr>\n",
       "    <tr>\n",
       "      <th>2</th>\n",
       "      <td>Salmon</td>\n",
       "      <td>1.0</td>\n",
       "      <td>lb</td>\n",
       "      <td>$9.99</td>\n",
       "      <td>[2021-03-03 Wednesday]</td>\n",
       "      <td>Safeway: 5100 Broadway</td>\n",
       "      <td>1266792</td>\n",
       "    </tr>\n",
       "    <tr>\n",
       "      <th>3</th>\n",
       "      <td>Tuna Canned</td>\n",
       "      <td>12.0</td>\n",
       "      <td>oz</td>\n",
       "      <td>$4.99</td>\n",
       "      <td>[2021-03-08 Sunday]</td>\n",
       "      <td>Safeway: 5100 Broadway</td>\n",
       "      <td>1099042</td>\n",
       "    </tr>\n",
       "    <tr>\n",
       "      <th>4</th>\n",
       "      <td>Tuna Ahi Steak</td>\n",
       "      <td>12.0</td>\n",
       "      <td>oz</td>\n",
       "      <td>$6.99</td>\n",
       "      <td>[2021-03-08 Sunday]</td>\n",
       "      <td>Safeway: 5100 Broadway</td>\n",
       "      <td>487435</td>\n",
       "    </tr>\n",
       "  </tbody>\n",
       "</table>\n",
       "</div>"
      ],
      "text/plain": [
       "                            Food  Quantity Units   Price  \\\n",
       "0                 Chicken breast       3.0    lb  $10.47   \n",
       "1  Chicken drumsticks, dark meat       2.5    lb   $7.48   \n",
       "2                         Salmon       1.0    lb   $9.99   \n",
       "3                    Tuna Canned      12.0    oz   $4.99   \n",
       "4                 Tuna Ahi Steak      12.0    oz   $6.99   \n",
       "\n",
       "                     Date                Location  FDC Code  \n",
       "0  [2021-03-03 Wednesday]  Safeway: 5100 Broadway   1098444  \n",
       "1  [2021-03-03 Wednesday]  Safeway: 5100 Broadway    172855  \n",
       "2  [2021-03-03 Wednesday]  Safeway: 5100 Broadway   1266792  \n",
       "3     [2021-03-08 Sunday]  Safeway: 5100 Broadway   1099042  \n",
       "4     [2021-03-08 Sunday]  Safeway: 5100 Broadway    487435  "
      ]
     },
     "metadata": {},
     "output_type": "display_data"
    }
   ],
   "source": [
    "dash_diet_df = pd.read_csv(\"Dash_Diet.csv\")\n",
    "display(dash_diet_df.head())"
   ]
  },
  {
   "cell_type": "code",
   "execution_count": 192,
   "metadata": {},
   "outputs": [],
   "source": [
    "int_price_lst = [float(i[1:]) for i in dash_diet_df[\"Price\"]]\n",
    "dash_diet_df[\"Price\"] = int_price_lst\n",
    "dash_diet_df = dash_diet_df.rename(columns={\"FDC Code\":\"FDC\"})"
   ]
  },
  {
   "cell_type": "code",
   "execution_count": 193,
   "metadata": {},
   "outputs": [],
   "source": [
    "# Convert food quantities to FDC units\n",
    "dash_diet_df['FDC Quantity'] = dash_diet_df[['Quantity','Units']].T.apply(lambda x : fdc.units(x['Quantity'],x['Units']))\n",
    "\n",
    "# Now divide price by the FDC Quantity to get, e.g., price per hectoliter\n",
    "dash_diet_df['FDC Price'] = dash_diet_df['Price']/dash_diet_df['FDC Quantity']\n",
    "\n",
    "dash_diet_df.dropna(how='any') # Drop food with any missing data\n",
    "\n",
    "# To use minimum price observed\n",
    "dash_diet_prices = dash_diet_df.groupby('Food')['FDC Price'].min()"
   ]
  },
  {
   "cell_type": "code",
   "execution_count": 194,
   "metadata": {},
   "outputs": [],
   "source": [
    "\n",
    "D = {}\n",
    "count = 0\n",
    "for food in dash_diet_df.Food.tolist():\n",
    "    try:\n",
    "        FDC = dash_diet_df.loc[dash_diet_df.Food==food,:].FDC[count]\n",
    "        count+=1\n",
    "        D[food] = fdc.nutrients(apikey,FDC).Quantity\n",
    "    except AttributeError: \n",
    "        print(\"Attribute Error\")\n",
    "        #warnings.warn(\"Couldn't find FDC Code %s for food %s.\" % (food,FDC))        \n",
    "\n",
    "DashFoodNutrients = pd.DataFrame(D,dtype=float)"
   ]
  },
  {
   "cell_type": "code",
   "execution_count": 195,
   "metadata": {},
   "outputs": [],
   "source": [
    "dash_p = dash_diet_prices.apply(lambda x:x.magnitude).dropna()\n",
    "\n",
    "# Compile list that we have both prices and nutritional info for; drop if either missing\n",
    "use = list(set(dash_p.index.tolist()).intersection(DashFoodNutrients.columns.tolist()))\n",
    "dash_p = dash_p[use]"
   ]
  },
  {
   "cell_type": "code",
   "execution_count": 196,
   "metadata": {},
   "outputs": [
    {
     "data": {
      "text/html": [
       "<div>\n",
       "<style scoped>\n",
       "    .dataframe tbody tr th:only-of-type {\n",
       "        vertical-align: middle;\n",
       "    }\n",
       "\n",
       "    .dataframe tbody tr th {\n",
       "        vertical-align: top;\n",
       "    }\n",
       "\n",
       "    .dataframe thead th {\n",
       "        text-align: right;\n",
       "    }\n",
       "</style>\n",
       "<table border=\"1\" class=\"dataframe\">\n",
       "  <thead>\n",
       "    <tr style=\"text-align: right;\">\n",
       "      <th></th>\n",
       "      <th>Food</th>\n",
       "      <th>Quantity</th>\n",
       "      <th>Units</th>\n",
       "      <th>Price</th>\n",
       "      <th>Date</th>\n",
       "      <th>Location</th>\n",
       "      <th>FDC</th>\n",
       "      <th>FDC Quantity</th>\n",
       "      <th>FDC Price</th>\n",
       "    </tr>\n",
       "  </thead>\n",
       "  <tbody>\n",
       "    <tr>\n",
       "      <th>0</th>\n",
       "      <td>Chicken breast</td>\n",
       "      <td>3.0</td>\n",
       "      <td>lb</td>\n",
       "      <td>10.47</td>\n",
       "      <td>[2021-03-03 Wednesday]</td>\n",
       "      <td>Safeway: 5100 Broadway</td>\n",
       "      <td>1098444</td>\n",
       "      <td>13.6077711 hectogram</td>\n",
       "      <td>0.7694132950252227 / hectogram</td>\n",
       "    </tr>\n",
       "    <tr>\n",
       "      <th>1</th>\n",
       "      <td>Chicken drumsticks, dark meat</td>\n",
       "      <td>2.5</td>\n",
       "      <td>lb</td>\n",
       "      <td>7.48</td>\n",
       "      <td>[2021-03-03 Wednesday]</td>\n",
       "      <td>Safeway: 5100 Broadway</td>\n",
       "      <td>172855</td>\n",
       "      <td>11.339809250000002 hectogram</td>\n",
       "      <td>0.6596230884571537 / hectogram</td>\n",
       "    </tr>\n",
       "    <tr>\n",
       "      <th>2</th>\n",
       "      <td>Salmon</td>\n",
       "      <td>1.0</td>\n",
       "      <td>lb</td>\n",
       "      <td>9.99</td>\n",
       "      <td>[2021-03-03 Wednesday]</td>\n",
       "      <td>Safeway: 5100 Broadway</td>\n",
       "      <td>1266792</td>\n",
       "      <td>4.535923700000001 hectogram</td>\n",
       "      <td>2.2024179992269266 / hectogram</td>\n",
       "    </tr>\n",
       "    <tr>\n",
       "      <th>3</th>\n",
       "      <td>Tuna Canned</td>\n",
       "      <td>12.0</td>\n",
       "      <td>oz</td>\n",
       "      <td>4.99</td>\n",
       "      <td>[2021-03-08 Sunday]</td>\n",
       "      <td>Safeway: 5100 Broadway</td>\n",
       "      <td>1099042</td>\n",
       "      <td>3.401942775 hectogram</td>\n",
       "      <td>1.4668089177367187 / hectogram</td>\n",
       "    </tr>\n",
       "    <tr>\n",
       "      <th>4</th>\n",
       "      <td>Tuna Ahi Steak</td>\n",
       "      <td>12.0</td>\n",
       "      <td>oz</td>\n",
       "      <td>6.99</td>\n",
       "      <td>[2021-03-08 Sunday]</td>\n",
       "      <td>Safeway: 5100 Broadway</td>\n",
       "      <td>487435</td>\n",
       "      <td>3.401942775 hectogram</td>\n",
       "      <td>2.054708283563059 / hectogram</td>\n",
       "    </tr>\n",
       "  </tbody>\n",
       "</table>\n",
       "</div>"
      ],
      "text/plain": [
       "                            Food  Quantity Units  Price  \\\n",
       "0                 Chicken breast       3.0    lb  10.47   \n",
       "1  Chicken drumsticks, dark meat       2.5    lb   7.48   \n",
       "2                         Salmon       1.0    lb   9.99   \n",
       "3                    Tuna Canned      12.0    oz   4.99   \n",
       "4                 Tuna Ahi Steak      12.0    oz   6.99   \n",
       "\n",
       "                     Date                Location      FDC  \\\n",
       "0  [2021-03-03 Wednesday]  Safeway: 5100 Broadway  1098444   \n",
       "1  [2021-03-03 Wednesday]  Safeway: 5100 Broadway   172855   \n",
       "2  [2021-03-03 Wednesday]  Safeway: 5100 Broadway  1266792   \n",
       "3     [2021-03-08 Sunday]  Safeway: 5100 Broadway  1099042   \n",
       "4     [2021-03-08 Sunday]  Safeway: 5100 Broadway   487435   \n",
       "\n",
       "                   FDC Quantity                       FDC Price  \n",
       "0          13.6077711 hectogram  0.7694132950252227 / hectogram  \n",
       "1  11.339809250000002 hectogram  0.6596230884571537 / hectogram  \n",
       "2   4.535923700000001 hectogram  2.2024179992269266 / hectogram  \n",
       "3         3.401942775 hectogram  1.4668089177367187 / hectogram  \n",
       "4         3.401942775 hectogram   2.054708283563059 / hectogram  "
      ]
     },
     "metadata": {},
     "output_type": "display_data"
    },
    {
     "data": {
      "text/html": [
       "<div>\n",
       "<style scoped>\n",
       "    .dataframe tbody tr th:only-of-type {\n",
       "        vertical-align: middle;\n",
       "    }\n",
       "\n",
       "    .dataframe tbody tr th {\n",
       "        vertical-align: top;\n",
       "    }\n",
       "\n",
       "    .dataframe thead th {\n",
       "        text-align: right;\n",
       "    }\n",
       "</style>\n",
       "<table border=\"1\" class=\"dataframe\">\n",
       "  <thead>\n",
       "    <tr style=\"text-align: right;\">\n",
       "      <th></th>\n",
       "      <th>Chicken breast</th>\n",
       "      <th>Chicken drumsticks, dark meat</th>\n",
       "      <th>Salmon</th>\n",
       "      <th>Tuna Canned</th>\n",
       "      <th>Tuna Ahi Steak</th>\n",
       "      <th>Ground Turkey</th>\n",
       "      <th>Lean Ground Beef</th>\n",
       "      <th>Pork Top Loin</th>\n",
       "      <th>Broccoli</th>\n",
       "      <th>Carrots</th>\n",
       "      <th>...</th>\n",
       "      <th>Lentils</th>\n",
       "      <th>Sweet peas</th>\n",
       "      <th>Olive oil</th>\n",
       "      <th>Low-fat mayonnaise</th>\n",
       "      <th>Instant oatmeal, flavored</th>\n",
       "      <th>Whole wheat bagel</th>\n",
       "      <th>Romaine lettuce</th>\n",
       "      <th>Mushrooms</th>\n",
       "      <th>Corn (Canned)</th>\n",
       "      <th>Corn</th>\n",
       "    </tr>\n",
       "  </thead>\n",
       "  <tbody>\n",
       "    <tr>\n",
       "      <th>10:0</th>\n",
       "      <td>0.018</td>\n",
       "      <td>0.005</td>\n",
       "      <td>NaN</td>\n",
       "      <td>0.002</td>\n",
       "      <td>NaN</td>\n",
       "      <td>NaN</td>\n",
       "      <td>NaN</td>\n",
       "      <td>0.004</td>\n",
       "      <td>NaN</td>\n",
       "      <td>0.00</td>\n",
       "      <td>...</td>\n",
       "      <td>NaN</td>\n",
       "      <td>NaN</td>\n",
       "      <td>0.0</td>\n",
       "      <td>NaN</td>\n",
       "      <td>0.001</td>\n",
       "      <td>0.00</td>\n",
       "      <td>NaN</td>\n",
       "      <td>0.00</td>\n",
       "      <td>0.003</td>\n",
       "      <td>0.003</td>\n",
       "    </tr>\n",
       "    <tr>\n",
       "      <th>12:0</th>\n",
       "      <td>0.010</td>\n",
       "      <td>0.021</td>\n",
       "      <td>NaN</td>\n",
       "      <td>0.000</td>\n",
       "      <td>NaN</td>\n",
       "      <td>NaN</td>\n",
       "      <td>NaN</td>\n",
       "      <td>0.003</td>\n",
       "      <td>NaN</td>\n",
       "      <td>0.00</td>\n",
       "      <td>...</td>\n",
       "      <td>NaN</td>\n",
       "      <td>NaN</td>\n",
       "      <td>0.0</td>\n",
       "      <td>NaN</td>\n",
       "      <td>0.000</td>\n",
       "      <td>0.00</td>\n",
       "      <td>NaN</td>\n",
       "      <td>0.00</td>\n",
       "      <td>0.000</td>\n",
       "      <td>0.001</td>\n",
       "    </tr>\n",
       "    <tr>\n",
       "      <th>14:0</th>\n",
       "      <td>0.062</td>\n",
       "      <td>0.253</td>\n",
       "      <td>NaN</td>\n",
       "      <td>0.011</td>\n",
       "      <td>NaN</td>\n",
       "      <td>NaN</td>\n",
       "      <td>NaN</td>\n",
       "      <td>0.098</td>\n",
       "      <td>NaN</td>\n",
       "      <td>0.00</td>\n",
       "      <td>...</td>\n",
       "      <td>NaN</td>\n",
       "      <td>NaN</td>\n",
       "      <td>0.0</td>\n",
       "      <td>NaN</td>\n",
       "      <td>0.003</td>\n",
       "      <td>0.00</td>\n",
       "      <td>NaN</td>\n",
       "      <td>0.00</td>\n",
       "      <td>0.002</td>\n",
       "      <td>0.001</td>\n",
       "    </tr>\n",
       "    <tr>\n",
       "      <th>14:1</th>\n",
       "      <td>NaN</td>\n",
       "      <td>0.091</td>\n",
       "      <td>NaN</td>\n",
       "      <td>NaN</td>\n",
       "      <td>NaN</td>\n",
       "      <td>NaN</td>\n",
       "      <td>NaN</td>\n",
       "      <td>0.001</td>\n",
       "      <td>NaN</td>\n",
       "      <td>NaN</td>\n",
       "      <td>...</td>\n",
       "      <td>NaN</td>\n",
       "      <td>NaN</td>\n",
       "      <td>NaN</td>\n",
       "      <td>NaN</td>\n",
       "      <td>NaN</td>\n",
       "      <td>NaN</td>\n",
       "      <td>NaN</td>\n",
       "      <td>NaN</td>\n",
       "      <td>NaN</td>\n",
       "      <td>NaN</td>\n",
       "    </tr>\n",
       "    <tr>\n",
       "      <th>15:0</th>\n",
       "      <td>NaN</td>\n",
       "      <td>0.027</td>\n",
       "      <td>NaN</td>\n",
       "      <td>NaN</td>\n",
       "      <td>NaN</td>\n",
       "      <td>NaN</td>\n",
       "      <td>NaN</td>\n",
       "      <td>0.002</td>\n",
       "      <td>NaN</td>\n",
       "      <td>NaN</td>\n",
       "      <td>...</td>\n",
       "      <td>NaN</td>\n",
       "      <td>NaN</td>\n",
       "      <td>NaN</td>\n",
       "      <td>NaN</td>\n",
       "      <td>NaN</td>\n",
       "      <td>NaN</td>\n",
       "      <td>NaN</td>\n",
       "      <td>NaN</td>\n",
       "      <td>NaN</td>\n",
       "      <td>NaN</td>\n",
       "    </tr>\n",
       "    <tr>\n",
       "      <th>...</th>\n",
       "      <td>...</td>\n",
       "      <td>...</td>\n",
       "      <td>...</td>\n",
       "      <td>...</td>\n",
       "      <td>...</td>\n",
       "      <td>...</td>\n",
       "      <td>...</td>\n",
       "      <td>...</td>\n",
       "      <td>...</td>\n",
       "      <td>...</td>\n",
       "      <td>...</td>\n",
       "      <td>...</td>\n",
       "      <td>...</td>\n",
       "      <td>...</td>\n",
       "      <td>...</td>\n",
       "      <td>...</td>\n",
       "      <td>...</td>\n",
       "      <td>...</td>\n",
       "      <td>...</td>\n",
       "      <td>...</td>\n",
       "      <td>...</td>\n",
       "    </tr>\n",
       "    <tr>\n",
       "      <th>Vitamin K (Dihydrophylloquinone)</th>\n",
       "      <td>NaN</td>\n",
       "      <td>NaN</td>\n",
       "      <td>NaN</td>\n",
       "      <td>NaN</td>\n",
       "      <td>NaN</td>\n",
       "      <td>NaN</td>\n",
       "      <td>NaN</td>\n",
       "      <td>0.000</td>\n",
       "      <td>NaN</td>\n",
       "      <td>NaN</td>\n",
       "      <td>...</td>\n",
       "      <td>NaN</td>\n",
       "      <td>NaN</td>\n",
       "      <td>NaN</td>\n",
       "      <td>NaN</td>\n",
       "      <td>NaN</td>\n",
       "      <td>NaN</td>\n",
       "      <td>NaN</td>\n",
       "      <td>NaN</td>\n",
       "      <td>NaN</td>\n",
       "      <td>NaN</td>\n",
       "    </tr>\n",
       "    <tr>\n",
       "      <th>Vitamin K (phylloquinone)</th>\n",
       "      <td>0.500</td>\n",
       "      <td>0.400</td>\n",
       "      <td>NaN</td>\n",
       "      <td>0.200</td>\n",
       "      <td>NaN</td>\n",
       "      <td>NaN</td>\n",
       "      <td>NaN</td>\n",
       "      <td>0.000</td>\n",
       "      <td>NaN</td>\n",
       "      <td>13.20</td>\n",
       "      <td>...</td>\n",
       "      <td>NaN</td>\n",
       "      <td>NaN</td>\n",
       "      <td>60.2</td>\n",
       "      <td>NaN</td>\n",
       "      <td>0.400</td>\n",
       "      <td>1.50</td>\n",
       "      <td>NaN</td>\n",
       "      <td>0.00</td>\n",
       "      <td>3.400</td>\n",
       "      <td>0.300</td>\n",
       "    </tr>\n",
       "    <tr>\n",
       "      <th>Vitamins and Other Components</th>\n",
       "      <td>0.000</td>\n",
       "      <td>0.000</td>\n",
       "      <td>NaN</td>\n",
       "      <td>0.000</td>\n",
       "      <td>NaN</td>\n",
       "      <td>NaN</td>\n",
       "      <td>NaN</td>\n",
       "      <td>0.000</td>\n",
       "      <td>NaN</td>\n",
       "      <td>0.00</td>\n",
       "      <td>...</td>\n",
       "      <td>NaN</td>\n",
       "      <td>NaN</td>\n",
       "      <td>0.0</td>\n",
       "      <td>NaN</td>\n",
       "      <td>0.000</td>\n",
       "      <td>0.00</td>\n",
       "      <td>NaN</td>\n",
       "      <td>0.00</td>\n",
       "      <td>0.000</td>\n",
       "      <td>0.000</td>\n",
       "    </tr>\n",
       "    <tr>\n",
       "      <th>Water</th>\n",
       "      <td>63.160</td>\n",
       "      <td>44.910</td>\n",
       "      <td>NaN</td>\n",
       "      <td>79.000</td>\n",
       "      <td>NaN</td>\n",
       "      <td>NaN</td>\n",
       "      <td>NaN</td>\n",
       "      <td>70.140</td>\n",
       "      <td>NaN</td>\n",
       "      <td>88.29</td>\n",
       "      <td>...</td>\n",
       "      <td>NaN</td>\n",
       "      <td>NaN</td>\n",
       "      <td>0.0</td>\n",
       "      <td>NaN</td>\n",
       "      <td>75.230</td>\n",
       "      <td>37.55</td>\n",
       "      <td>NaN</td>\n",
       "      <td>92.45</td>\n",
       "      <td>79.040</td>\n",
       "      <td>76.050</td>\n",
       "    </tr>\n",
       "    <tr>\n",
       "      <th>Zinc, Zn</th>\n",
       "      <td>0.890</td>\n",
       "      <td>0.650</td>\n",
       "      <td>NaN</td>\n",
       "      <td>0.660</td>\n",
       "      <td>NaN</td>\n",
       "      <td>NaN</td>\n",
       "      <td>NaN</td>\n",
       "      <td>1.730</td>\n",
       "      <td>NaN</td>\n",
       "      <td>0.24</td>\n",
       "      <td>...</td>\n",
       "      <td>NaN</td>\n",
       "      <td>NaN</td>\n",
       "      <td>0.0</td>\n",
       "      <td>NaN</td>\n",
       "      <td>0.460</td>\n",
       "      <td>1.10</td>\n",
       "      <td>NaN</td>\n",
       "      <td>0.52</td>\n",
       "      <td>0.310</td>\n",
       "      <td>0.460</td>\n",
       "    </tr>\n",
       "  </tbody>\n",
       "</table>\n",
       "<p>136 rows × 51 columns</p>\n",
       "</div>"
      ],
      "text/plain": [
       "                                  Chicken breast  \\\n",
       "10:0                                       0.018   \n",
       "12:0                                       0.010   \n",
       "14:0                                       0.062   \n",
       "14:1                                         NaN   \n",
       "15:0                                         NaN   \n",
       "...                                          ...   \n",
       "Vitamin K (Dihydrophylloquinone)             NaN   \n",
       "Vitamin K (phylloquinone)                  0.500   \n",
       "Vitamins and Other Components              0.000   \n",
       "Water                                     63.160   \n",
       "Zinc, Zn                                   0.890   \n",
       "\n",
       "                                  Chicken drumsticks, dark meat  Salmon  \\\n",
       "10:0                                                      0.005     NaN   \n",
       "12:0                                                      0.021     NaN   \n",
       "14:0                                                      0.253     NaN   \n",
       "14:1                                                      0.091     NaN   \n",
       "15:0                                                      0.027     NaN   \n",
       "...                                                         ...     ...   \n",
       "Vitamin K (Dihydrophylloquinone)                            NaN     NaN   \n",
       "Vitamin K (phylloquinone)                                 0.400     NaN   \n",
       "Vitamins and Other Components                             0.000     NaN   \n",
       "Water                                                    44.910     NaN   \n",
       "Zinc, Zn                                                  0.650     NaN   \n",
       "\n",
       "                                  Tuna Canned  Tuna Ahi Steak  Ground Turkey  \\\n",
       "10:0                                    0.002             NaN            NaN   \n",
       "12:0                                    0.000             NaN            NaN   \n",
       "14:0                                    0.011             NaN            NaN   \n",
       "14:1                                      NaN             NaN            NaN   \n",
       "15:0                                      NaN             NaN            NaN   \n",
       "...                                       ...             ...            ...   \n",
       "Vitamin K (Dihydrophylloquinone)          NaN             NaN            NaN   \n",
       "Vitamin K (phylloquinone)               0.200             NaN            NaN   \n",
       "Vitamins and Other Components           0.000             NaN            NaN   \n",
       "Water                                  79.000             NaN            NaN   \n",
       "Zinc, Zn                                0.660             NaN            NaN   \n",
       "\n",
       "                                  Lean Ground Beef  Pork Top Loin  Broccoli  \\\n",
       "10:0                                           NaN          0.004       NaN   \n",
       "12:0                                           NaN          0.003       NaN   \n",
       "14:0                                           NaN          0.098       NaN   \n",
       "14:1                                           NaN          0.001       NaN   \n",
       "15:0                                           NaN          0.002       NaN   \n",
       "...                                            ...            ...       ...   \n",
       "Vitamin K (Dihydrophylloquinone)               NaN          0.000       NaN   \n",
       "Vitamin K (phylloquinone)                      NaN          0.000       NaN   \n",
       "Vitamins and Other Components                  NaN          0.000       NaN   \n",
       "Water                                          NaN         70.140       NaN   \n",
       "Zinc, Zn                                       NaN          1.730       NaN   \n",
       "\n",
       "                                  Carrots  ...  Lentils  Sweet peas  \\\n",
       "10:0                                 0.00  ...      NaN         NaN   \n",
       "12:0                                 0.00  ...      NaN         NaN   \n",
       "14:0                                 0.00  ...      NaN         NaN   \n",
       "14:1                                  NaN  ...      NaN         NaN   \n",
       "15:0                                  NaN  ...      NaN         NaN   \n",
       "...                                   ...  ...      ...         ...   \n",
       "Vitamin K (Dihydrophylloquinone)      NaN  ...      NaN         NaN   \n",
       "Vitamin K (phylloquinone)           13.20  ...      NaN         NaN   \n",
       "Vitamins and Other Components        0.00  ...      NaN         NaN   \n",
       "Water                               88.29  ...      NaN         NaN   \n",
       "Zinc, Zn                             0.24  ...      NaN         NaN   \n",
       "\n",
       "                                  Olive oil  Low-fat mayonnaise  \\\n",
       "10:0                                    0.0                 NaN   \n",
       "12:0                                    0.0                 NaN   \n",
       "14:0                                    0.0                 NaN   \n",
       "14:1                                    NaN                 NaN   \n",
       "15:0                                    NaN                 NaN   \n",
       "...                                     ...                 ...   \n",
       "Vitamin K (Dihydrophylloquinone)        NaN                 NaN   \n",
       "Vitamin K (phylloquinone)              60.2                 NaN   \n",
       "Vitamins and Other Components           0.0                 NaN   \n",
       "Water                                   0.0                 NaN   \n",
       "Zinc, Zn                                0.0                 NaN   \n",
       "\n",
       "                                  Instant oatmeal, flavored  \\\n",
       "10:0                                                  0.001   \n",
       "12:0                                                  0.000   \n",
       "14:0                                                  0.003   \n",
       "14:1                                                    NaN   \n",
       "15:0                                                    NaN   \n",
       "...                                                     ...   \n",
       "Vitamin K (Dihydrophylloquinone)                        NaN   \n",
       "Vitamin K (phylloquinone)                             0.400   \n",
       "Vitamins and Other Components                         0.000   \n",
       "Water                                                75.230   \n",
       "Zinc, Zn                                              0.460   \n",
       "\n",
       "                                  Whole wheat bagel  Romaine lettuce  \\\n",
       "10:0                                           0.00              NaN   \n",
       "12:0                                           0.00              NaN   \n",
       "14:0                                           0.00              NaN   \n",
       "14:1                                            NaN              NaN   \n",
       "15:0                                            NaN              NaN   \n",
       "...                                             ...              ...   \n",
       "Vitamin K (Dihydrophylloquinone)                NaN              NaN   \n",
       "Vitamin K (phylloquinone)                      1.50              NaN   \n",
       "Vitamins and Other Components                  0.00              NaN   \n",
       "Water                                         37.55              NaN   \n",
       "Zinc, Zn                                       1.10              NaN   \n",
       "\n",
       "                                  Mushrooms  Corn (Canned)    Corn  \n",
       "10:0                                   0.00          0.003   0.003  \n",
       "12:0                                   0.00          0.000   0.001  \n",
       "14:0                                   0.00          0.002   0.001  \n",
       "14:1                                    NaN            NaN     NaN  \n",
       "15:0                                    NaN            NaN     NaN  \n",
       "...                                     ...            ...     ...  \n",
       "Vitamin K (Dihydrophylloquinone)        NaN            NaN     NaN  \n",
       "Vitamin K (phylloquinone)              0.00          3.400   0.300  \n",
       "Vitamins and Other Components          0.00          0.000   0.000  \n",
       "Water                                 92.45         79.040  76.050  \n",
       "Zinc, Zn                               0.52          0.310   0.460  \n",
       "\n",
       "[136 rows x 51 columns]"
      ]
     },
     "metadata": {},
     "output_type": "display_data"
    },
    {
     "data": {
      "text/plain": [
       "Food\n",
       "Egg                                     85.000000\n",
       "Low-fat mayonnaise                       0.700776\n",
       "Rasins                                   1.171879\n",
       "Tomatoes                                 0.967829\n",
       "Tuna Ahi Steak                           2.054708\n",
       "Salmon                                   2.202418\n",
       "Ground Turkey                            0.879644\n",
       "Green Beans                              0.659182\n",
       "Cantaloupe Melon                         0.659182\n",
       "Walnuts                                  1.194905\n",
       "Mushrooms                                1.318364\n",
       "Lentils                                  0.216053\n",
       "Chicken breast                           0.769413\n",
       "Instant oatmeal, flavored               74.500000\n",
       "Spinach                                  1.452846\n",
       "Corn                                     0.152119\n",
       "Kale                                     1.254745\n",
       "Olive oil                                0.817526\n",
       "Romaine lettuce                          0.593043\n",
       "Yellow Peach                             1.848356\n",
       "Yogurt, Low-fat , Vanilla                0.191802\n",
       "Potatoes                                 0.416674\n",
       "Sweet peas                               0.226341\n",
       "Yogurt, Fat-free                         0.665546\n",
       "Chicken drumsticks, dark meat            0.659623\n",
       "Squash                                   0.416674\n",
       "Low-fat mozzarella cheese                0.873031\n",
       "Apples                                   0.460766\n",
       "Pineapples                            2745.000000\n",
       "Grapefruit                             895.000000\n",
       "Mangos                                   0.367437\n",
       "Strawberries                             0.825631\n",
       "Lima Beans                               0.548951\n",
       "Unsalted Peanuts                         0.436515\n",
       "Kidney beans (Canned)                    0.109235\n",
       "Corn (Canned)                            0.228992\n",
       "Sweet Potatoes                           0.482812\n",
       "Lean Ground Beef                         1.541472\n",
       "Broccoli                                 0.482812\n",
       "Carrots                                  0.328489\n",
       "Low-fat buttermilk                       0.188091\n",
       "Peanut butter                            0.479726\n",
       "Whole wheat bagel                        0.571438\n",
       "Almonds, Low Sodium Lightly Salted       1.373333\n",
       "Milk, Fat-free                           0.113594\n",
       "Green Peas                               1.160513\n",
       "Collards                                 0.460766\n",
       "Tuna Canned                              1.466809\n",
       "Bananas                                  0.306443\n",
       "Pork Top Loin                            1.100107\n",
       "Oranges                                  0.350535\n",
       "Name: FDC Price, dtype: float64"
      ]
     },
     "metadata": {},
     "output_type": "display_data"
    }
   ],
   "source": [
    "display(dash_diet_df.head())\n",
    "display(DashFoodNutrients)\n",
    "display(dash_p)"
   ]
  },
  {
   "cell_type": "markdown",
   "metadata": {},
   "source": [
    "### Create the Amin, Amax, and A dataframes <a id='Amin_Amax_A'></a>"
   ]
  },
  {
   "cell_type": "markdown",
   "metadata": {},
   "source": [
    "#### Budget Friendly Diabetes Diet <a id='Budget2'></a>"
   ]
  },
  {
   "cell_type": "code",
   "execution_count": 197,
   "metadata": {},
   "outputs": [
    {
     "data": {
      "text/html": [
       "<div>\n",
       "<style scoped>\n",
       "    .dataframe tbody tr th:only-of-type {\n",
       "        vertical-align: middle;\n",
       "    }\n",
       "\n",
       "    .dataframe tbody tr th {\n",
       "        vertical-align: top;\n",
       "    }\n",
       "\n",
       "    .dataframe thead th {\n",
       "        text-align: right;\n",
       "    }\n",
       "</style>\n",
       "<table border=\"1\" class=\"dataframe\">\n",
       "  <thead>\n",
       "    <tr style=\"text-align: right;\">\n",
       "      <th></th>\n",
       "      <th>Greek Yogurt</th>\n",
       "      <th>Black Beans</th>\n",
       "      <th>Pita bread</th>\n",
       "      <th>Almonds</th>\n",
       "      <th>Salsa</th>\n",
       "      <th>Brown Rice</th>\n",
       "      <th>Green beans (canned)</th>\n",
       "      <th>Spinach</th>\n",
       "      <th>Tofu</th>\n",
       "      <th>Whole-grain cereal (Honey Nut Cheerios)</th>\n",
       "      <th>...</th>\n",
       "      <th>Strawberries</th>\n",
       "      <th>Pinto beans</th>\n",
       "      <th>Canned salmon</th>\n",
       "      <th>Broccoli</th>\n",
       "      <th>Peanut butter</th>\n",
       "      <th>Frozen fruit mix</th>\n",
       "      <th>Eggs</th>\n",
       "      <th>Nut and fruit trail mix</th>\n",
       "      <th>Bananas</th>\n",
       "      <th>Oranges</th>\n",
       "    </tr>\n",
       "    <tr>\n",
       "      <th>Nutrition</th>\n",
       "      <th></th>\n",
       "      <th></th>\n",
       "      <th></th>\n",
       "      <th></th>\n",
       "      <th></th>\n",
       "      <th></th>\n",
       "      <th></th>\n",
       "      <th></th>\n",
       "      <th></th>\n",
       "      <th></th>\n",
       "      <th></th>\n",
       "      <th></th>\n",
       "      <th></th>\n",
       "      <th></th>\n",
       "      <th></th>\n",
       "      <th></th>\n",
       "      <th></th>\n",
       "      <th></th>\n",
       "      <th></th>\n",
       "      <th></th>\n",
       "      <th></th>\n",
       "    </tr>\n",
       "  </thead>\n",
       "  <tbody>\n",
       "    <tr>\n",
       "      <th>Energy</th>\n",
       "      <td>467.00</td>\n",
       "      <td>234.00</td>\n",
       "      <td>231.00</td>\n",
       "      <td>604.00</td>\n",
       "      <td>48.0</td>\n",
       "      <td>378.00</td>\n",
       "      <td>21.00</td>\n",
       "      <td>24.00</td>\n",
       "      <td>82.00</td>\n",
       "      <td>376.00</td>\n",
       "      <td>...</td>\n",
       "      <td>32.00</td>\n",
       "      <td>229.0</td>\n",
       "      <td>137.00</td>\n",
       "      <td>34.0</td>\n",
       "      <td>594.0</td>\n",
       "      <td>44.0</td>\n",
       "      <td>231.0</td>\n",
       "      <td>452.0</td>\n",
       "      <td>89.00</td>\n",
       "      <td>47.00</td>\n",
       "    </tr>\n",
       "    <tr>\n",
       "      <th>Protein</th>\n",
       "      <td>3.33</td>\n",
       "      <td>19.15</td>\n",
       "      <td>10.26</td>\n",
       "      <td>20.23</td>\n",
       "      <td>0.0</td>\n",
       "      <td>8.89</td>\n",
       "      <td>1.04</td>\n",
       "      <td>2.35</td>\n",
       "      <td>10.59</td>\n",
       "      <td>8.85</td>\n",
       "      <td>...</td>\n",
       "      <td>0.67</td>\n",
       "      <td>20.0</td>\n",
       "      <td>20.55</td>\n",
       "      <td>2.7</td>\n",
       "      <td>25.0</td>\n",
       "      <td>0.7</td>\n",
       "      <td>10.7</td>\n",
       "      <td>10.9</td>\n",
       "      <td>1.09</td>\n",
       "      <td>0.94</td>\n",
       "    </tr>\n",
       "    <tr>\n",
       "      <th>Fiber, total dietary</th>\n",
       "      <td>3.30</td>\n",
       "      <td>27.70</td>\n",
       "      <td>5.10</td>\n",
       "      <td>10.50</td>\n",
       "      <td>3.2</td>\n",
       "      <td>4.40</td>\n",
       "      <td>1.90</td>\n",
       "      <td>2.40</td>\n",
       "      <td>1.20</td>\n",
       "      <td>7.10</td>\n",
       "      <td>...</td>\n",
       "      <td>2.00</td>\n",
       "      <td>34.3</td>\n",
       "      <td>0.00</td>\n",
       "      <td>2.0</td>\n",
       "      <td>9.4</td>\n",
       "      <td>1.5</td>\n",
       "      <td>0.0</td>\n",
       "      <td>6.5</td>\n",
       "      <td>2.60</td>\n",
       "      <td>2.40</td>\n",
       "    </tr>\n",
       "    <tr>\n",
       "      <th>Folate, DFE</th>\n",
       "      <td>0.00</td>\n",
       "      <td>0.00</td>\n",
       "      <td>0.00</td>\n",
       "      <td>53.00</td>\n",
       "      <td>0.0</td>\n",
       "      <td>0.00</td>\n",
       "      <td>23.00</td>\n",
       "      <td>0.00</td>\n",
       "      <td>0.00</td>\n",
       "      <td>1106.00</td>\n",
       "      <td>...</td>\n",
       "      <td>24.00</td>\n",
       "      <td>0.0</td>\n",
       "      <td>13.00</td>\n",
       "      <td>0.0</td>\n",
       "      <td>0.0</td>\n",
       "      <td>20.0</td>\n",
       "      <td>0.0</td>\n",
       "      <td>51.0</td>\n",
       "      <td>20.00</td>\n",
       "      <td>30.00</td>\n",
       "    </tr>\n",
       "    <tr>\n",
       "      <th>Calcium, Ca</th>\n",
       "      <td>133.00</td>\n",
       "      <td>34.00</td>\n",
       "      <td>154.00</td>\n",
       "      <td>259.00</td>\n",
       "      <td>0.0</td>\n",
       "      <td>0.00</td>\n",
       "      <td>36.00</td>\n",
       "      <td>94.00</td>\n",
       "      <td>118.00</td>\n",
       "      <td>425.00</td>\n",
       "      <td>...</td>\n",
       "      <td>16.00</td>\n",
       "      <td>0.0</td>\n",
       "      <td>220.00</td>\n",
       "      <td>41.0</td>\n",
       "      <td>59.0</td>\n",
       "      <td>11.0</td>\n",
       "      <td>0.0</td>\n",
       "      <td>62.0</td>\n",
       "      <td>5.00</td>\n",
       "      <td>40.00</td>\n",
       "    </tr>\n",
       "  </tbody>\n",
       "</table>\n",
       "<p>5 rows × 31 columns</p>\n",
       "</div>"
      ],
      "text/plain": [
       "                      Greek Yogurt  Black Beans  Pita bread  Almonds  Salsa  \\\n",
       "Nutrition                                                                     \n",
       "Energy                      467.00       234.00      231.00   604.00   48.0   \n",
       "Protein                       3.33        19.15       10.26    20.23    0.0   \n",
       "Fiber, total dietary          3.30        27.70        5.10    10.50    3.2   \n",
       "Folate, DFE                   0.00         0.00        0.00    53.00    0.0   \n",
       "Calcium, Ca                 133.00        34.00      154.00   259.00    0.0   \n",
       "\n",
       "                      Brown Rice  Green beans (canned)  Spinach    Tofu  \\\n",
       "Nutrition                                                                 \n",
       "Energy                    378.00                 21.00    24.00   82.00   \n",
       "Protein                     8.89                  1.04     2.35   10.59   \n",
       "Fiber, total dietary        4.40                  1.90     2.40    1.20   \n",
       "Folate, DFE                 0.00                 23.00     0.00    0.00   \n",
       "Calcium, Ca                 0.00                 36.00    94.00  118.00   \n",
       "\n",
       "                      Whole-grain cereal (Honey Nut Cheerios)  ...  \\\n",
       "Nutrition                                                      ...   \n",
       "Energy                                                 376.00  ...   \n",
       "Protein                                                  8.85  ...   \n",
       "Fiber, total dietary                                     7.10  ...   \n",
       "Folate, DFE                                           1106.00  ...   \n",
       "Calcium, Ca                                            425.00  ...   \n",
       "\n",
       "                      Strawberries  Pinto beans  Canned salmon  Broccoli  \\\n",
       "Nutrition                                                                  \n",
       "Energy                       32.00        229.0         137.00      34.0   \n",
       "Protein                       0.67         20.0          20.55       2.7   \n",
       "Fiber, total dietary          2.00         34.3           0.00       2.0   \n",
       "Folate, DFE                  24.00          0.0          13.00       0.0   \n",
       "Calcium, Ca                  16.00          0.0         220.00      41.0   \n",
       "\n",
       "                      Peanut butter  Frozen fruit mix   Eggs  \\\n",
       "Nutrition                                                      \n",
       "Energy                        594.0              44.0  231.0   \n",
       "Protein                        25.0               0.7   10.7   \n",
       "Fiber, total dietary            9.4               1.5    0.0   \n",
       "Folate, DFE                     0.0              20.0    0.0   \n",
       "Calcium, Ca                    59.0              11.0    0.0   \n",
       "\n",
       "                      Nut and fruit trail mix  Bananas  Oranges  \n",
       "Nutrition                                                        \n",
       "Energy                                  452.0    89.00    47.00  \n",
       "Protein                                  10.9     1.09     0.94  \n",
       "Fiber, total dietary                      6.5     2.60     2.40  \n",
       "Folate, DFE                              51.0    20.00    30.00  \n",
       "Calcium, Ca                              62.0     5.00    40.00  \n",
       "\n",
       "[5 rows x 31 columns]"
      ]
     },
     "execution_count": 197,
     "metadata": {},
     "output_type": "execute_result"
    }
   ],
   "source": [
    "# Drop nutritional information for foods we don't know the price of,\n",
    "# and replace missing nutrients with zeros.\n",
    "BudgetAall = BudgetFoodNutrients[budget_p.index].fillna(0)\n",
    "\n",
    "# Drop rows of A that we don't have constraints for.\n",
    "BudgetAmin = BudgetAall.loc[bmin.index]\n",
    "\n",
    "BudgetAmax = BudgetAall.loc[bmax.index]\n",
    "\n",
    "# Minimum requirements involve multiplying constraint by -1 to make <=.\n",
    "BudgetA = pd.concat([BudgetAmin,-BudgetAmax])\n",
    "\n",
    "BudgetA.head()"
   ]
  },
  {
   "cell_type": "markdown",
   "metadata": {},
   "source": [
    "#### Dash Diet <a id='Dash2'></a>"
   ]
  },
  {
   "cell_type": "code",
   "execution_count": 198,
   "metadata": {},
   "outputs": [
    {
     "data": {
      "text/html": [
       "<div>\n",
       "<style scoped>\n",
       "    .dataframe tbody tr th:only-of-type {\n",
       "        vertical-align: middle;\n",
       "    }\n",
       "\n",
       "    .dataframe tbody tr th {\n",
       "        vertical-align: top;\n",
       "    }\n",
       "\n",
       "    .dataframe thead th {\n",
       "        text-align: right;\n",
       "    }\n",
       "</style>\n",
       "<table border=\"1\" class=\"dataframe\">\n",
       "  <thead>\n",
       "    <tr style=\"text-align: right;\">\n",
       "      <th></th>\n",
       "      <th>Egg</th>\n",
       "      <th>Low-fat mayonnaise</th>\n",
       "      <th>Rasins</th>\n",
       "      <th>Tomatoes</th>\n",
       "      <th>Tuna Ahi Steak</th>\n",
       "      <th>Salmon</th>\n",
       "      <th>Ground Turkey</th>\n",
       "      <th>Green Beans</th>\n",
       "      <th>Cantaloupe Melon</th>\n",
       "      <th>Walnuts</th>\n",
       "      <th>...</th>\n",
       "      <th>Peanut butter</th>\n",
       "      <th>Whole wheat bagel</th>\n",
       "      <th>Almonds, Low Sodium Lightly Salted</th>\n",
       "      <th>Milk, Fat-free</th>\n",
       "      <th>Green Peas</th>\n",
       "      <th>Collards</th>\n",
       "      <th>Tuna Canned</th>\n",
       "      <th>Bananas</th>\n",
       "      <th>Pork Top Loin</th>\n",
       "      <th>Oranges</th>\n",
       "    </tr>\n",
       "    <tr>\n",
       "      <th>Nutrition</th>\n",
       "      <th></th>\n",
       "      <th></th>\n",
       "      <th></th>\n",
       "      <th></th>\n",
       "      <th></th>\n",
       "      <th></th>\n",
       "      <th></th>\n",
       "      <th></th>\n",
       "      <th></th>\n",
       "      <th></th>\n",
       "      <th></th>\n",
       "      <th></th>\n",
       "      <th></th>\n",
       "      <th></th>\n",
       "      <th></th>\n",
       "      <th></th>\n",
       "      <th></th>\n",
       "      <th></th>\n",
       "      <th></th>\n",
       "      <th></th>\n",
       "      <th></th>\n",
       "    </tr>\n",
       "  </thead>\n",
       "  <tbody>\n",
       "    <tr>\n",
       "      <th>Energy</th>\n",
       "      <td>231.0</td>\n",
       "      <td>400.0</td>\n",
       "      <td>464.00</td>\n",
       "      <td>14.0</td>\n",
       "      <td>106.00</td>\n",
       "      <td>193.00</td>\n",
       "      <td>143.00</td>\n",
       "      <td>31.00</td>\n",
       "      <td>34.00</td>\n",
       "      <td>667.00</td>\n",
       "      <td>...</td>\n",
       "      <td>594.0</td>\n",
       "      <td>250.0</td>\n",
       "      <td>604.00</td>\n",
       "      <td>348.00</td>\n",
       "      <td>82.00</td>\n",
       "      <td>32.00</td>\n",
       "      <td>90.0</td>\n",
       "      <td>89.00</td>\n",
       "      <td>696.00</td>\n",
       "      <td>47.00</td>\n",
       "    </tr>\n",
       "    <tr>\n",
       "      <th>Protein</th>\n",
       "      <td>10.7</td>\n",
       "      <td>0.0</td>\n",
       "      <td>14.29</td>\n",
       "      <td>0.0</td>\n",
       "      <td>23.89</td>\n",
       "      <td>19.33</td>\n",
       "      <td>19.64</td>\n",
       "      <td>1.83</td>\n",
       "      <td>0.82</td>\n",
       "      <td>16.67</td>\n",
       "      <td>...</td>\n",
       "      <td>25.0</td>\n",
       "      <td>10.2</td>\n",
       "      <td>20.23</td>\n",
       "      <td>34.78</td>\n",
       "      <td>5.88</td>\n",
       "      <td>3.02</td>\n",
       "      <td>19.0</td>\n",
       "      <td>1.09</td>\n",
       "      <td>21.34</td>\n",
       "      <td>0.94</td>\n",
       "    </tr>\n",
       "    <tr>\n",
       "      <th>Fiber, total dietary</th>\n",
       "      <td>0.0</td>\n",
       "      <td>0.0</td>\n",
       "      <td>7.10</td>\n",
       "      <td>0.0</td>\n",
       "      <td>0.00</td>\n",
       "      <td>0.00</td>\n",
       "      <td>0.00</td>\n",
       "      <td>2.70</td>\n",
       "      <td>0.80</td>\n",
       "      <td>6.70</td>\n",
       "      <td>...</td>\n",
       "      <td>9.4</td>\n",
       "      <td>4.1</td>\n",
       "      <td>10.50</td>\n",
       "      <td>0.00</td>\n",
       "      <td>5.90</td>\n",
       "      <td>4.00</td>\n",
       "      <td>0.0</td>\n",
       "      <td>2.60</td>\n",
       "      <td>0.00</td>\n",
       "      <td>2.40</td>\n",
       "    </tr>\n",
       "    <tr>\n",
       "      <th>Folate, DFE</th>\n",
       "      <td>0.0</td>\n",
       "      <td>0.0</td>\n",
       "      <td>0.00</td>\n",
       "      <td>0.0</td>\n",
       "      <td>0.00</td>\n",
       "      <td>0.00</td>\n",
       "      <td>0.00</td>\n",
       "      <td>33.00</td>\n",
       "      <td>14.00</td>\n",
       "      <td>0.00</td>\n",
       "      <td>...</td>\n",
       "      <td>0.0</td>\n",
       "      <td>108.0</td>\n",
       "      <td>53.00</td>\n",
       "      <td>0.00</td>\n",
       "      <td>0.00</td>\n",
       "      <td>129.00</td>\n",
       "      <td>4.0</td>\n",
       "      <td>20.00</td>\n",
       "      <td>0.00</td>\n",
       "      <td>30.00</td>\n",
       "    </tr>\n",
       "    <tr>\n",
       "      <th>Calcium, Ca</th>\n",
       "      <td>0.0</td>\n",
       "      <td>7.0</td>\n",
       "      <td>71.00</td>\n",
       "      <td>0.0</td>\n",
       "      <td>18.00</td>\n",
       "      <td>13.00</td>\n",
       "      <td>0.00</td>\n",
       "      <td>37.00</td>\n",
       "      <td>9.00</td>\n",
       "      <td>97.00</td>\n",
       "      <td>...</td>\n",
       "      <td>59.0</td>\n",
       "      <td>105.0</td>\n",
       "      <td>259.00</td>\n",
       "      <td>1304.00</td>\n",
       "      <td>25.00</td>\n",
       "      <td>232.00</td>\n",
       "      <td>18.0</td>\n",
       "      <td>5.00</td>\n",
       "      <td>7.00</td>\n",
       "      <td>40.00</td>\n",
       "    </tr>\n",
       "  </tbody>\n",
       "</table>\n",
       "<p>5 rows × 51 columns</p>\n",
       "</div>"
      ],
      "text/plain": [
       "                        Egg  Low-fat mayonnaise  Rasins  Tomatoes  \\\n",
       "Nutrition                                                           \n",
       "Energy                231.0               400.0  464.00      14.0   \n",
       "Protein                10.7                 0.0   14.29       0.0   \n",
       "Fiber, total dietary    0.0                 0.0    7.10       0.0   \n",
       "Folate, DFE             0.0                 0.0    0.00       0.0   \n",
       "Calcium, Ca             0.0                 7.0   71.00       0.0   \n",
       "\n",
       "                      Tuna Ahi Steak  Salmon  Ground Turkey  Green Beans  \\\n",
       "Nutrition                                                                  \n",
       "Energy                        106.00  193.00         143.00        31.00   \n",
       "Protein                        23.89   19.33          19.64         1.83   \n",
       "Fiber, total dietary            0.00    0.00           0.00         2.70   \n",
       "Folate, DFE                     0.00    0.00           0.00        33.00   \n",
       "Calcium, Ca                    18.00   13.00           0.00        37.00   \n",
       "\n",
       "                      Cantaloupe Melon  Walnuts  ...  Peanut butter  \\\n",
       "Nutrition                                        ...                  \n",
       "Energy                           34.00   667.00  ...          594.0   \n",
       "Protein                           0.82    16.67  ...           25.0   \n",
       "Fiber, total dietary              0.80     6.70  ...            9.4   \n",
       "Folate, DFE                      14.00     0.00  ...            0.0   \n",
       "Calcium, Ca                       9.00    97.00  ...           59.0   \n",
       "\n",
       "                      Whole wheat bagel  Almonds, Low Sodium Lightly Salted  \\\n",
       "Nutrition                                                                     \n",
       "Energy                            250.0                              604.00   \n",
       "Protein                            10.2                               20.23   \n",
       "Fiber, total dietary                4.1                               10.50   \n",
       "Folate, DFE                       108.0                               53.00   \n",
       "Calcium, Ca                       105.0                              259.00   \n",
       "\n",
       "                      Milk, Fat-free  Green Peas  Collards  Tuna Canned  \\\n",
       "Nutrition                                                                 \n",
       "Energy                        348.00       82.00     32.00         90.0   \n",
       "Protein                        34.78        5.88      3.02         19.0   \n",
       "Fiber, total dietary            0.00        5.90      4.00          0.0   \n",
       "Folate, DFE                     0.00        0.00    129.00          4.0   \n",
       "Calcium, Ca                  1304.00       25.00    232.00         18.0   \n",
       "\n",
       "                      Bananas  Pork Top Loin  Oranges  \n",
       "Nutrition                                              \n",
       "Energy                  89.00         696.00    47.00  \n",
       "Protein                  1.09          21.34     0.94  \n",
       "Fiber, total dietary     2.60           0.00     2.40  \n",
       "Folate, DFE             20.00           0.00    30.00  \n",
       "Calcium, Ca              5.00           7.00    40.00  \n",
       "\n",
       "[5 rows x 51 columns]"
      ]
     },
     "execution_count": 198,
     "metadata": {},
     "output_type": "execute_result"
    }
   ],
   "source": [
    "# Drop nutritional information for foods we don't know the price of,\n",
    "# and replace missing nutrients with zeros.\n",
    "DashAall = DashFoodNutrients[dash_p.index].fillna(0)\n",
    "\n",
    "# Drop rows of A that we don't have constraints for.\n",
    "DashAmin = DashAall.loc[bmin.index]\n",
    "\n",
    "DashAmax = DashAall.loc[bmax.index]\n",
    "\n",
    "# Minimum requirements involve multiplying constraint by -1 to make <=.\n",
    "DashA = pd.concat([DashAmin,-DashAmax])\n",
    "\n",
    "DashA.head()"
   ]
  },
  {
   "cell_type": "markdown",
   "metadata": {},
   "source": [
    "### Create the b dataframe <a id='b'></a>"
   ]
  },
  {
   "cell_type": "code",
   "execution_count": 199,
   "metadata": {},
   "outputs": [
    {
     "data": {
      "text/html": [
       "<div>\n",
       "<style scoped>\n",
       "    .dataframe tbody tr th:only-of-type {\n",
       "        vertical-align: middle;\n",
       "    }\n",
       "\n",
       "    .dataframe tbody tr th {\n",
       "        vertical-align: top;\n",
       "    }\n",
       "\n",
       "    .dataframe thead th {\n",
       "        text-align: right;\n",
       "    }\n",
       "</style>\n",
       "<table border=\"1\" class=\"dataframe\">\n",
       "  <thead>\n",
       "    <tr style=\"text-align: right;\">\n",
       "      <th></th>\n",
       "      <th>C 1-3</th>\n",
       "      <th>F 4-8</th>\n",
       "      <th>M 4-8</th>\n",
       "      <th>F 9-13</th>\n",
       "      <th>M 9-13</th>\n",
       "      <th>F 14-18</th>\n",
       "      <th>M 14-18</th>\n",
       "      <th>F 19-30</th>\n",
       "      <th>M 19-30</th>\n",
       "      <th>F 31-50</th>\n",
       "      <th>M 31-50</th>\n",
       "      <th>F 51+</th>\n",
       "      <th>M 51+</th>\n",
       "    </tr>\n",
       "    <tr>\n",
       "      <th>Nutrition</th>\n",
       "      <th></th>\n",
       "      <th></th>\n",
       "      <th></th>\n",
       "      <th></th>\n",
       "      <th></th>\n",
       "      <th></th>\n",
       "      <th></th>\n",
       "      <th></th>\n",
       "      <th></th>\n",
       "      <th></th>\n",
       "      <th></th>\n",
       "      <th></th>\n",
       "      <th></th>\n",
       "    </tr>\n",
       "  </thead>\n",
       "  <tbody>\n",
       "    <tr>\n",
       "      <th>Energy</th>\n",
       "      <td>1000.0</td>\n",
       "      <td>1200.0</td>\n",
       "      <td>1400.0</td>\n",
       "      <td>1600.0</td>\n",
       "      <td>1800.0</td>\n",
       "      <td>1800.0</td>\n",
       "      <td>2200.0</td>\n",
       "      <td>2000.0</td>\n",
       "      <td>2400.0</td>\n",
       "      <td>1800.0</td>\n",
       "      <td>2200.0</td>\n",
       "      <td>1600.0</td>\n",
       "      <td>2000.0</td>\n",
       "    </tr>\n",
       "    <tr>\n",
       "      <th>Protein</th>\n",
       "      <td>13.0</td>\n",
       "      <td>19.0</td>\n",
       "      <td>19.0</td>\n",
       "      <td>34.0</td>\n",
       "      <td>34.0</td>\n",
       "      <td>46.0</td>\n",
       "      <td>52.0</td>\n",
       "      <td>46.0</td>\n",
       "      <td>56.0</td>\n",
       "      <td>46.0</td>\n",
       "      <td>56.0</td>\n",
       "      <td>46.0</td>\n",
       "      <td>56.0</td>\n",
       "    </tr>\n",
       "    <tr>\n",
       "      <th>Fiber, total dietary</th>\n",
       "      <td>14.0</td>\n",
       "      <td>16.8</td>\n",
       "      <td>19.6</td>\n",
       "      <td>22.4</td>\n",
       "      <td>25.2</td>\n",
       "      <td>25.2</td>\n",
       "      <td>30.8</td>\n",
       "      <td>28.0</td>\n",
       "      <td>33.6</td>\n",
       "      <td>25.2</td>\n",
       "      <td>30.8</td>\n",
       "      <td>22.4</td>\n",
       "      <td>28.0</td>\n",
       "    </tr>\n",
       "    <tr>\n",
       "      <th>Folate, DFE</th>\n",
       "      <td>150.0</td>\n",
       "      <td>200.0</td>\n",
       "      <td>200.0</td>\n",
       "      <td>300.0</td>\n",
       "      <td>300.0</td>\n",
       "      <td>400.0</td>\n",
       "      <td>400.0</td>\n",
       "      <td>400.0</td>\n",
       "      <td>400.0</td>\n",
       "      <td>400.0</td>\n",
       "      <td>400.0</td>\n",
       "      <td>400.0</td>\n",
       "      <td>400.0</td>\n",
       "    </tr>\n",
       "    <tr>\n",
       "      <th>Calcium, Ca</th>\n",
       "      <td>700.0</td>\n",
       "      <td>1000.0</td>\n",
       "      <td>1000.0</td>\n",
       "      <td>1300.0</td>\n",
       "      <td>1300.0</td>\n",
       "      <td>1300.0</td>\n",
       "      <td>1300.0</td>\n",
       "      <td>1000.0</td>\n",
       "      <td>1000.0</td>\n",
       "      <td>1000.0</td>\n",
       "      <td>1000.0</td>\n",
       "      <td>1200.0</td>\n",
       "      <td>1000.0</td>\n",
       "    </tr>\n",
       "  </tbody>\n",
       "</table>\n",
       "</div>"
      ],
      "text/plain": [
       "                       C 1-3   F 4-8   M 4-8  F 9-13  M 9-13  F 14-18  \\\n",
       "Nutrition                                                               \n",
       "Energy                1000.0  1200.0  1400.0  1600.0  1800.0   1800.0   \n",
       "Protein                 13.0    19.0    19.0    34.0    34.0     46.0   \n",
       "Fiber, total dietary    14.0    16.8    19.6    22.4    25.2     25.2   \n",
       "Folate, DFE            150.0   200.0   200.0   300.0   300.0    400.0   \n",
       "Calcium, Ca            700.0  1000.0  1000.0  1300.0  1300.0   1300.0   \n",
       "\n",
       "                      M 14-18  F 19-30  M 19-30  F 31-50  M 31-50   F 51+  \\\n",
       "Nutrition                                                                   \n",
       "Energy                 2200.0   2000.0   2400.0   1800.0   2200.0  1600.0   \n",
       "Protein                  52.0     46.0     56.0     46.0     56.0    46.0   \n",
       "Fiber, total dietary     30.8     28.0     33.6     25.2     30.8    22.4   \n",
       "Folate, DFE             400.0    400.0    400.0    400.0    400.0   400.0   \n",
       "Calcium, Ca            1300.0   1000.0   1000.0   1000.0   1000.0  1200.0   \n",
       "\n",
       "                       M 51+  \n",
       "Nutrition                     \n",
       "Energy                2000.0  \n",
       "Protein                 56.0  \n",
       "Fiber, total dietary    28.0  \n",
       "Folate, DFE            400.0  \n",
       "Calcium, Ca           1000.0  "
      ]
     },
     "execution_count": 199,
     "metadata": {},
     "output_type": "execute_result"
    }
   ],
   "source": [
    "b = pd.concat([bmin,-bmax]) # Note sign change for max constraints\n",
    "\n",
    "b.head()"
   ]
  },
  {
   "cell_type": "markdown",
   "metadata": {},
   "source": [
    "### Solving the Linear Program Problem <a id='Solved'></a>"
   ]
  },
  {
   "cell_type": "markdown",
   "metadata": {},
   "source": [
    "#### Budget Friendly Diabetes Diet <a id='Budget3'></a>"
   ]
  },
  {
   "cell_type": "code",
   "execution_count": 200,
   "metadata": {},
   "outputs": [
    {
     "data": {
      "text/plain": [
       "     con: array([], dtype=float64)\n",
       "     fun: 2.6102339974778848\n",
       " message: 'Optimization terminated successfully.'\n",
       "     nit: 16\n",
       "   slack: array([4.13976267e+02, 3.31707052e+01, 4.36044814e+01, 2.12618086e+02,\n",
       "       3.50271716e-06, 5.43195757e+01, 1.87183540e+01, 4.82890716e+02,\n",
       "       4.12789619e+00, 8.65932473e+02, 1.21973662e-05, 2.89879254e+00,\n",
       "       3.62919916e-09, 1.36707990e-06, 1.31447768e-08, 9.56348052e-02,\n",
       "       2.65637667e-07, 5.27509864e+01, 1.50686844e-07, 4.82574839e+00,\n",
       "       1.40551635e+03])\n",
       "  status: 0\n",
       " success: True\n",
       "       x: array([1.05125883e-09, 2.90730765e-09, 3.82873886e-10, 2.87484253e+00,\n",
       "       1.80648328e-08, 3.34405964e-09, 1.31116777e-08, 1.71481604e-01,\n",
       "       4.12541521e-10, 3.20000001e-01, 1.03389216e-09, 1.23631784e-09,\n",
       "       1.39042818e-01, 8.47535071e-10, 6.57456068e-09, 3.20901604e-10,\n",
       "       1.04653445e-09, 1.78824665e-09, 2.27969277e+00, 1.13070909e-09,\n",
       "       5.56622875e-10, 7.09175134e-10, 9.51228981e-01, 3.25960635e-10,\n",
       "       1.24146772e-09, 5.67301719e-09, 1.12091128e-09, 8.92119501e-12,\n",
       "       3.97924537e-10, 1.94563972e-09, 9.97705689e-01])"
      ]
     },
     "execution_count": 200,
     "metadata": {},
     "output_type": "execute_result"
    }
   ],
   "source": [
    "tol = 1e-6 # Numbers in solution smaller than this (in absolute value) treated as zeros\n",
    "group = 'M 19-30'\n",
    "\n",
    "# Now solve problem!  (Note that the linear program solver we'll use assumes\n",
    "# \"less-than-or-equal\" constraints.  We can switch back and forth by\n",
    "# multiplying $A$ and $b$ by $-1$.)\n",
    "\n",
    "budget_result = lp(budget_p, -BudgetA, -b[group], method='interior-point')\n",
    "\n",
    "budget_result"
   ]
  },
  {
   "cell_type": "code",
   "execution_count": 201,
   "metadata": {},
   "outputs": [
    {
     "name": "stdout",
     "output_type": "stream",
     "text": [
      "Cost of diet for M 19-30 is $2.61 per day.\n"
     ]
    }
   ],
   "source": [
    "print(\"Cost of diet for %s is $%4.2f per day.\" % (group,budget_result.fun))"
   ]
  },
  {
   "cell_type": "code",
   "execution_count": 202,
   "metadata": {},
   "outputs": [
    {
     "name": "stdout",
     "output_type": "stream",
     "text": [
      "\n",
      "You'll be eating (in 100s of grams or milliliters):\n",
      "Food\n",
      "Almonds                                    2.874843\n",
      "Spinach                                    0.171482\n",
      "Whole-grain cereal (Honey Nut Cheerios)    0.320000\n",
      "Salad greens                               0.139043\n",
      "Frozen vegetables                          2.279693\n",
      "Pinto beans                                0.951229\n",
      "Oranges                                    0.997706\n",
      "dtype: float64\n"
     ]
    }
   ],
   "source": [
    "# Put back into nice series\n",
    "budget_diet = pd.Series(budget_result.x,index=budget_p.index)\n",
    "\n",
    "print(\"\\nYou'll be eating (in 100s of grams or milliliters):\")\n",
    "print(budget_diet[budget_diet >= tol])  # Drop items with quantities less than precision of calculation."
   ]
  },
  {
   "cell_type": "code",
   "execution_count": 203,
   "metadata": {},
   "outputs": [
    {
     "name": "stdout",
     "output_type": "stream",
     "text": [
      "\n",
      "With the following nutritional outcomes of interest:\n"
     ]
    },
    {
     "data": {
      "text/html": [
       "<div>\n",
       "<style scoped>\n",
       "    .dataframe tbody tr th:only-of-type {\n",
       "        vertical-align: middle;\n",
       "    }\n",
       "\n",
       "    .dataframe tbody tr th {\n",
       "        vertical-align: top;\n",
       "    }\n",
       "\n",
       "    .dataframe thead th {\n",
       "        text-align: right;\n",
       "    }\n",
       "</style>\n",
       "<table border=\"1\" class=\"dataframe\">\n",
       "  <thead>\n",
       "    <tr style=\"text-align: right;\">\n",
       "      <th></th>\n",
       "      <th>Outcome</th>\n",
       "      <th>Recommendation</th>\n",
       "    </tr>\n",
       "    <tr>\n",
       "      <th>Nutrition</th>\n",
       "      <th></th>\n",
       "      <th></th>\n",
       "    </tr>\n",
       "  </thead>\n",
       "  <tbody>\n",
       "    <tr>\n",
       "      <th>Energy</th>\n",
       "      <td>2813.976267</td>\n",
       "      <td>2400.0</td>\n",
       "    </tr>\n",
       "    <tr>\n",
       "      <th>Protein</th>\n",
       "      <td>89.170705</td>\n",
       "      <td>56.0</td>\n",
       "    </tr>\n",
       "    <tr>\n",
       "      <th>Fiber, total dietary</th>\n",
       "      <td>77.204481</td>\n",
       "      <td>33.6</td>\n",
       "    </tr>\n",
       "    <tr>\n",
       "      <th>Folate, DFE</th>\n",
       "      <td>612.618086</td>\n",
       "      <td>400.0</td>\n",
       "    </tr>\n",
       "    <tr>\n",
       "      <th>Calcium, Ca</th>\n",
       "      <td>1000.000004</td>\n",
       "      <td>1000.0</td>\n",
       "    </tr>\n",
       "    <tr>\n",
       "      <th>Carbohydrate, by difference</th>\n",
       "      <td>184.319576</td>\n",
       "      <td>130.0</td>\n",
       "    </tr>\n",
       "    <tr>\n",
       "      <th>Iron, Fe</th>\n",
       "      <td>26.718354</td>\n",
       "      <td>8.0</td>\n",
       "    </tr>\n",
       "    <tr>\n",
       "      <th>Magnesium, Mg</th>\n",
       "      <td>882.890716</td>\n",
       "      <td>400.0</td>\n",
       "    </tr>\n",
       "    <tr>\n",
       "      <th>Niacin</th>\n",
       "      <td>20.127896</td>\n",
       "      <td>16.0</td>\n",
       "    </tr>\n",
       "    <tr>\n",
       "      <th>Phosphorus, P</th>\n",
       "      <td>1565.932473</td>\n",
       "      <td>700.0</td>\n",
       "    </tr>\n",
       "    <tr>\n",
       "      <th>Potassium, K</th>\n",
       "      <td>4700.000012</td>\n",
       "      <td>4700.0</td>\n",
       "    </tr>\n",
       "    <tr>\n",
       "      <th>Riboflavin</th>\n",
       "      <td>4.198793</td>\n",
       "      <td>1.3</td>\n",
       "    </tr>\n",
       "    <tr>\n",
       "      <th>Thiamin</th>\n",
       "      <td>1.200000</td>\n",
       "      <td>1.2</td>\n",
       "    </tr>\n",
       "    <tr>\n",
       "      <th>Vitamin A, RAE</th>\n",
       "      <td>900.000001</td>\n",
       "      <td>900.0</td>\n",
       "    </tr>\n",
       "    <tr>\n",
       "      <th>Vitamin B-12</th>\n",
       "      <td>2.400000</td>\n",
       "      <td>2.4</td>\n",
       "    </tr>\n",
       "    <tr>\n",
       "      <th>Vitamin B-6</th>\n",
       "      <td>1.395635</td>\n",
       "      <td>1.3</td>\n",
       "    </tr>\n",
       "    <tr>\n",
       "      <th>Vitamin C, total ascorbic acid</th>\n",
       "      <td>90.000000</td>\n",
       "      <td>90.0</td>\n",
       "    </tr>\n",
       "    <tr>\n",
       "      <th>Vitamin E (alpha-tocopherol)</th>\n",
       "      <td>67.750986</td>\n",
       "      <td>15.0</td>\n",
       "    </tr>\n",
       "    <tr>\n",
       "      <th>Vitamin K (phylloquinone)</th>\n",
       "      <td>120.000000</td>\n",
       "      <td>120.0</td>\n",
       "    </tr>\n",
       "    <tr>\n",
       "      <th>Zinc, Zn</th>\n",
       "      <td>15.825748</td>\n",
       "      <td>11.0</td>\n",
       "    </tr>\n",
       "    <tr>\n",
       "      <th>Sodium, Na</th>\n",
       "      <td>894.483653</td>\n",
       "      <td>2300.0</td>\n",
       "    </tr>\n",
       "  </tbody>\n",
       "</table>\n",
       "</div>"
      ],
      "text/plain": [
       "                                    Outcome  Recommendation\n",
       "Nutrition                                                  \n",
       "Energy                          2813.976267          2400.0\n",
       "Protein                           89.170705            56.0\n",
       "Fiber, total dietary              77.204481            33.6\n",
       "Folate, DFE                      612.618086           400.0\n",
       "Calcium, Ca                     1000.000004          1000.0\n",
       "Carbohydrate, by difference      184.319576           130.0\n",
       "Iron, Fe                          26.718354             8.0\n",
       "Magnesium, Mg                    882.890716           400.0\n",
       "Niacin                            20.127896            16.0\n",
       "Phosphorus, P                   1565.932473           700.0\n",
       "Potassium, K                    4700.000012          4700.0\n",
       "Riboflavin                         4.198793             1.3\n",
       "Thiamin                            1.200000             1.2\n",
       "Vitamin A, RAE                   900.000001           900.0\n",
       "Vitamin B-12                       2.400000             2.4\n",
       "Vitamin B-6                        1.395635             1.3\n",
       "Vitamin C, total ascorbic acid    90.000000            90.0\n",
       "Vitamin E (alpha-tocopherol)      67.750986            15.0\n",
       "Vitamin K (phylloquinone)        120.000000           120.0\n",
       "Zinc, Zn                          15.825748            11.0\n",
       "Sodium, Na                       894.483653          2300.0"
      ]
     },
     "execution_count": 203,
     "metadata": {},
     "output_type": "execute_result"
    }
   ],
   "source": [
    "budget_tab = pd.DataFrame({\"Outcome\":np.abs(BudgetA).dot(budget_diet),\"Recommendation\":np.abs(b[group])})\n",
    "print(\"\\nWith the following nutritional outcomes of interest:\")\n",
    "budget_tab"
   ]
  },
  {
   "cell_type": "code",
   "execution_count": 204,
   "metadata": {
    "scrolled": true
   },
   "outputs": [
    {
     "name": "stdout",
     "output_type": "stream",
     "text": [
      "\n",
      "Constraining nutrients are:\n",
      "['Thiamin', 'Vitamin B-12', 'Vitamin C, total ascorbic acid', 'Vitamin K (phylloquinone)']\n"
     ]
    }
   ],
   "source": [
    "print(\"\\nConstraining nutrients are:\")\n",
    "budget_excess = budget_tab.diff(axis=1).iloc[:,1]\n",
    "print(budget_excess.loc[np.abs(budget_excess) < tol].index.tolist())"
   ]
  },
  {
   "cell_type": "markdown",
   "metadata": {},
   "source": [
    "#### Dash Diet <a id='Dash3'></a>"
   ]
  },
  {
   "cell_type": "code",
   "execution_count": 205,
   "metadata": {},
   "outputs": [
    {
     "data": {
      "text/plain": [
       "     con: array([], dtype=float64)\n",
       "     fun: 3.9649765626549276\n",
       " message: 'Optimization terminated successfully.'\n",
       "     nit: 16\n",
       "   slack: array([1.32744933e+02, 5.48904585e+01, 3.11148006e+01, 9.02957489e+01,\n",
       "       2.66080747e+02, 8.22242183e+01, 1.17145036e+01, 1.86364485e+02,\n",
       "       6.72979539e-09, 1.09076128e+03, 3.92261427e-07, 3.17577713e-01,\n",
       "       1.32459353e-01, 5.70377779e-07, 1.77662773e-10, 1.77603709e-01,\n",
       "       2.43902889e-08, 2.30702391e-09, 3.11264998e-07, 6.74273082e-10,\n",
       "       2.85322130e-07])\n",
       "  status: 0\n",
       " success: True\n",
       "       x: array([1.59612001e-12, 1.38908077e-10, 7.48374722e-11, 1.25880305e-10,\n",
       "       5.27143254e-11, 4.33033954e-11, 1.07041296e-10, 1.95825498e-10,\n",
       "       2.02765344e-10, 7.72498288e-11, 1.02749033e-10, 1.25581842e-09,\n",
       "       1.15960652e-10, 1.89453435e-12, 8.02218906e-11, 7.06684925e-11,\n",
       "       8.43415560e-11, 4.67736688e-10, 1.70816399e-10, 6.60209589e-11,\n",
       "       4.21919939e-10, 3.10414371e-10, 7.51747249e-10, 1.39846957e-10,\n",
       "       5.32708873e-10, 9.59974480e-10, 4.07218377e-01, 2.20422725e-10,\n",
       "       3.74740753e-14, 4.62808012e-13, 5.35685258e-10, 2.78629906e-10,\n",
       "       5.07925624e-01, 2.02587511e-10, 5.54060175e+00, 4.14839678e-10,\n",
       "       1.94557075e-10, 6.51106819e-11, 7.89450856e-01, 9.51068859e-01,\n",
       "       5.72751386e-09, 2.08197353e-10, 1.56980537e-10, 5.63152613e-01,\n",
       "       3.09527008e-01, 9.10161658e-11, 1.46100670e-01, 7.88077468e-01,\n",
       "       4.55866479e-10, 1.62795999e-10, 1.82048438e-08])"
      ]
     },
     "execution_count": 205,
     "metadata": {},
     "output_type": "execute_result"
    }
   ],
   "source": [
    "tol = 1e-6 # Numbers in solution smaller than this (in absolute value) treated as zeros\n",
    "group = 'M 19-30'\n",
    "\n",
    "# Now solve problem!  (Note that the linear program solver we'll use assumes\n",
    "# \"less-than-or-equal\" constraints.  We can switch back and forth by\n",
    "# multiplying $A$ and $b$ by $-1$.)\n",
    "\n",
    "dash_result = lp(dash_p, -DashA, -b[group], method='interior-point')\n",
    "\n",
    "dash_result"
   ]
  },
  {
   "cell_type": "code",
   "execution_count": 206,
   "metadata": {},
   "outputs": [
    {
     "name": "stdout",
     "output_type": "stream",
     "text": [
      "Cost of diet for M 19-30 is $3.96 per day.\n"
     ]
    }
   ],
   "source": [
    "print(\"Cost of diet for %s is $%4.2f per day.\" % (group,dash_result.fun))"
   ]
  },
  {
   "cell_type": "code",
   "execution_count": 207,
   "metadata": {},
   "outputs": [
    {
     "name": "stdout",
     "output_type": "stream",
     "text": [
      "\n",
      "You'll be eating (in 100s of grams or milliliters):\n",
      "Food\n",
      "Low-fat mozzarella cheese             0.407218\n",
      "Lima Beans                            0.507926\n",
      "Kidney beans (Canned)                 5.540602\n",
      "Broccoli                              0.789451\n",
      "Carrots                               0.951069\n",
      "Almonds, Low Sodium Lightly Salted    0.563153\n",
      "Milk, Fat-free                        0.309527\n",
      "Collards                              0.146101\n",
      "Tuna Canned                           0.788077\n",
      "dtype: float64\n"
     ]
    }
   ],
   "source": [
    "# Put back into nice series\n",
    "dash_diet = pd.Series(dash_result.x,index=dash_p.index)\n",
    "\n",
    "print(\"\\nYou'll be eating (in 100s of grams or milliliters):\")\n",
    "print(dash_diet[dash_diet >= tol])  # Drop items with quantities less than precision of calculation."
   ]
  },
  {
   "cell_type": "code",
   "execution_count": 208,
   "metadata": {},
   "outputs": [
    {
     "name": "stdout",
     "output_type": "stream",
     "text": [
      "\n",
      "With the following nutritional outcomes of interest:\n"
     ]
    },
    {
     "data": {
      "text/html": [
       "<div>\n",
       "<style scoped>\n",
       "    .dataframe tbody tr th:only-of-type {\n",
       "        vertical-align: middle;\n",
       "    }\n",
       "\n",
       "    .dataframe tbody tr th {\n",
       "        vertical-align: top;\n",
       "    }\n",
       "\n",
       "    .dataframe thead th {\n",
       "        text-align: right;\n",
       "    }\n",
       "</style>\n",
       "<table border=\"1\" class=\"dataframe\">\n",
       "  <thead>\n",
       "    <tr style=\"text-align: right;\">\n",
       "      <th></th>\n",
       "      <th>Outcome</th>\n",
       "      <th>Recommendation</th>\n",
       "    </tr>\n",
       "    <tr>\n",
       "      <th>Nutrition</th>\n",
       "      <th></th>\n",
       "      <th></th>\n",
       "    </tr>\n",
       "  </thead>\n",
       "  <tbody>\n",
       "    <tr>\n",
       "      <th>Energy</th>\n",
       "      <td>2532.744933</td>\n",
       "      <td>2400.0</td>\n",
       "    </tr>\n",
       "    <tr>\n",
       "      <th>Protein</th>\n",
       "      <td>110.890459</td>\n",
       "      <td>56.0</td>\n",
       "    </tr>\n",
       "    <tr>\n",
       "      <th>Fiber, total dietary</th>\n",
       "      <td>64.714801</td>\n",
       "      <td>33.6</td>\n",
       "    </tr>\n",
       "    <tr>\n",
       "      <th>Folate, DFE</th>\n",
       "      <td>490.295749</td>\n",
       "      <td>400.0</td>\n",
       "    </tr>\n",
       "    <tr>\n",
       "      <th>Calcium, Ca</th>\n",
       "      <td>1266.080747</td>\n",
       "      <td>1000.0</td>\n",
       "    </tr>\n",
       "    <tr>\n",
       "      <th>Carbohydrate, by difference</th>\n",
       "      <td>212.224218</td>\n",
       "      <td>130.0</td>\n",
       "    </tr>\n",
       "    <tr>\n",
       "      <th>Iron, Fe</th>\n",
       "      <td>19.714504</td>\n",
       "      <td>8.0</td>\n",
       "    </tr>\n",
       "    <tr>\n",
       "      <th>Magnesium, Mg</th>\n",
       "      <td>586.364485</td>\n",
       "      <td>400.0</td>\n",
       "    </tr>\n",
       "    <tr>\n",
       "      <th>Niacin</th>\n",
       "      <td>16.000000</td>\n",
       "      <td>16.0</td>\n",
       "    </tr>\n",
       "    <tr>\n",
       "      <th>Phosphorus, P</th>\n",
       "      <td>1790.761284</td>\n",
       "      <td>700.0</td>\n",
       "    </tr>\n",
       "    <tr>\n",
       "      <th>Potassium, K</th>\n",
       "      <td>4700.000000</td>\n",
       "      <td>4700.0</td>\n",
       "    </tr>\n",
       "    <tr>\n",
       "      <th>Riboflavin</th>\n",
       "      <td>1.617578</td>\n",
       "      <td>1.3</td>\n",
       "    </tr>\n",
       "    <tr>\n",
       "      <th>Thiamin</th>\n",
       "      <td>1.332459</td>\n",
       "      <td>1.2</td>\n",
       "    </tr>\n",
       "    <tr>\n",
       "      <th>Vitamin A, RAE</th>\n",
       "      <td>900.000001</td>\n",
       "      <td>900.0</td>\n",
       "    </tr>\n",
       "    <tr>\n",
       "      <th>Vitamin B-12</th>\n",
       "      <td>2.400000</td>\n",
       "      <td>2.4</td>\n",
       "    </tr>\n",
       "    <tr>\n",
       "      <th>Vitamin B-6</th>\n",
       "      <td>1.477604</td>\n",
       "      <td>1.3</td>\n",
       "    </tr>\n",
       "    <tr>\n",
       "      <th>Vitamin C, total ascorbic acid</th>\n",
       "      <td>90.000000</td>\n",
       "      <td>90.0</td>\n",
       "    </tr>\n",
       "    <tr>\n",
       "      <th>Vitamin E (alpha-tocopherol)</th>\n",
       "      <td>15.000000</td>\n",
       "      <td>15.0</td>\n",
       "    </tr>\n",
       "    <tr>\n",
       "      <th>Vitamin K (phylloquinone)</th>\n",
       "      <td>120.000000</td>\n",
       "      <td>120.0</td>\n",
       "    </tr>\n",
       "    <tr>\n",
       "      <th>Zinc, Zn</th>\n",
       "      <td>11.000000</td>\n",
       "      <td>11.0</td>\n",
       "    </tr>\n",
       "    <tr>\n",
       "      <th>Sodium, Na</th>\n",
       "      <td>2300.000000</td>\n",
       "      <td>2300.0</td>\n",
       "    </tr>\n",
       "  </tbody>\n",
       "</table>\n",
       "</div>"
      ],
      "text/plain": [
       "                                    Outcome  Recommendation\n",
       "Nutrition                                                  \n",
       "Energy                          2532.744933          2400.0\n",
       "Protein                          110.890459            56.0\n",
       "Fiber, total dietary              64.714801            33.6\n",
       "Folate, DFE                      490.295749           400.0\n",
       "Calcium, Ca                     1266.080747          1000.0\n",
       "Carbohydrate, by difference      212.224218           130.0\n",
       "Iron, Fe                          19.714504             8.0\n",
       "Magnesium, Mg                    586.364485           400.0\n",
       "Niacin                            16.000000            16.0\n",
       "Phosphorus, P                   1790.761284           700.0\n",
       "Potassium, K                    4700.000000          4700.0\n",
       "Riboflavin                         1.617578             1.3\n",
       "Thiamin                            1.332459             1.2\n",
       "Vitamin A, RAE                   900.000001           900.0\n",
       "Vitamin B-12                       2.400000             2.4\n",
       "Vitamin B-6                        1.477604             1.3\n",
       "Vitamin C, total ascorbic acid    90.000000            90.0\n",
       "Vitamin E (alpha-tocopherol)      15.000000            15.0\n",
       "Vitamin K (phylloquinone)        120.000000           120.0\n",
       "Zinc, Zn                          11.000000            11.0\n",
       "Sodium, Na                      2300.000000          2300.0"
      ]
     },
     "execution_count": 208,
     "metadata": {},
     "output_type": "execute_result"
    }
   ],
   "source": [
    "dash_tab = pd.DataFrame({\"Outcome\":np.abs(DashA).dot(dash_diet),\"Recommendation\":np.abs(b[group])})\n",
    "print(\"\\nWith the following nutritional outcomes of interest:\")\n",
    "dash_tab"
   ]
  },
  {
   "cell_type": "code",
   "execution_count": 209,
   "metadata": {},
   "outputs": [
    {
     "name": "stdout",
     "output_type": "stream",
     "text": [
      "\n",
      "Constraining nutrients are:\n",
      "['Niacin', 'Potassium, K', 'Vitamin A, RAE', 'Vitamin B-12', 'Vitamin C, total ascorbic acid', 'Vitamin E (alpha-tocopherol)', 'Vitamin K (phylloquinone)', 'Zinc, Zn', 'Sodium, Na']\n"
     ]
    }
   ],
   "source": [
    "print(\"\\nConstraining nutrients are:\")\n",
    "dash_excess = dash_tab.diff(axis=1).iloc[:,1]\n",
    "print(dash_excess.loc[np.abs(dash_excess) < tol].index.tolist())"
   ]
  },
  {
   "cell_type": "markdown",
   "metadata": {},
   "source": [
    "## Solve the Subsistence Problem <a id='Subsistence'></a>"
   ]
  },
  {
   "cell_type": "markdown",
   "metadata": {},
   "source": [
    "### Create the solve_subsistence_problem function <a id='Subsistence_function'></a>"
   ]
  },
  {
   "cell_type": "code",
   "execution_count": 210,
   "metadata": {},
   "outputs": [],
   "source": [
    "from  scipy.optimize import linprog as lp\n",
    "import numpy as np\n",
    "\n",
    "def solve_subsistence_problem(FoodNutrients,Prices,diet_min,diet_max,max_weight=None,tol=1e-6):\n",
    "    \"\"\"Solve Stigler's Subsistence Cost Problem.\n",
    "\n",
    "    Inputs:\n",
    "       - FoodNutrients : A pd.DataFrame with rows corresponding to foods, columns to nutrients.\n",
    "       - Prices : A pd.Series of prices for different foods\n",
    "       - diet_min : A pd.Series of DRIs, with index corresponding to columns of FoodNutrients,\n",
    "                    describing minimum intakes.\n",
    "       - diet_max : A pd.Series of DRIs, with index corresponding to columns of FoodNutrients,\n",
    "                    describing maximum intakes.\n",
    "       - max_weight : Maximum weight (in hectograms) allowed for diet.\n",
    "       - tol : Solution values smaller than this in absolute value treated as zeros.\n",
    "       \n",
    "    \"\"\"\n",
    "    p = Prices.apply(lambda x:x.magnitude).dropna()\n",
    "\n",
    "    # Compile list that we have both prices and nutritional info for; drop if either missing\n",
    "    use = list(set(p.index.tolist()).intersection(FoodNutrients.columns.tolist()))\n",
    "    p = p[use]\n",
    "\n",
    "    # Drop nutritional information for foods we don't know the price of,\n",
    "    # and replace missing nutrients with zeros.\n",
    "    Aall = FoodNutrients[p.index].fillna(0)\n",
    "\n",
    "    # Drop rows of A that we don't have constraints for.\n",
    "    Amin = Aall.loc[diet_min.index]\n",
    "\n",
    "    Amax = Aall.loc[diet_max.index]\n",
    "\n",
    "    # Minimum requirements involve multiplying constraint by -1 to make <=.\n",
    "    A = pd.concat([Amin,-Amax])\n",
    "\n",
    "    b = pd.concat([diet_min,-diet_max]) # Note sign change for max constraints\n",
    "\n",
    "    if max_weight is not None:\n",
    "        # Add up weights of foods consumed\n",
    "        A.loc['Hectograms'] = -1\n",
    "        b.loc['Hectograms'] = -max_weight\n",
    "        \n",
    "    # Now solve problem!  (Note that the linear program solver we'll use assumes\n",
    "    # \"less-than-or-equal\" constraints.  We can switch back and forth by\n",
    "    # multiplying $A$ and $b$ by $-1$.)\n",
    "\n",
    "    result = lp(p, -A, -b, method='interior-point')\n",
    "\n",
    "    result.A = A\n",
    "    result.b = b\n",
    "    \n",
    "    if result.success:\n",
    "        result.diet = pd.Series(result.x,index=p.index)\n",
    "    else: # No feasible solution?\n",
    "        result.diet = pd.Series(result.x,index=p.index)*np.nan  \n",
    "\n",
    "    return result"
   ]
  },
  {
   "cell_type": "markdown",
   "metadata": {},
   "source": [
    "### Results For Target Group <a id='Results'></a>"
   ]
  },
  {
   "cell_type": "markdown",
   "metadata": {},
   "source": [
    "#### Budget Friendly Diabetes Diet <a id='Budget4'></a>"
   ]
  },
  {
   "cell_type": "code",
   "execution_count": 211,
   "metadata": {},
   "outputs": [
    {
     "name": "stdout",
     "output_type": "stream",
     "text": [
      "Cost of diet for M 19-30 is $7.03 per day.\n",
      "\n",
      "\n",
      "Diet (in 100s of grams or milliliters):\n",
      "Food\n",
      "Navy Beans      0.539075\n",
      "Cabbage         0.997122\n",
      "Spinach         7.315484\n",
      "Liver (Pork)    0.902305\n",
      "Milk (Whole)    1.628001\n",
      "Wheat Cereal    0.313215\n",
      "Sugar           0.455579\n",
      "dtype: float64\n",
      "\n",
      "\n",
      "With the following nutritional outcomes of interest:\n",
      "                                    Outcome  Recommendation\n",
      "Nutrition                                                  \n",
      "Energy                          2400.000003          2400.0\n",
      "Protein                           60.402307            56.0\n",
      "Fiber, total dietary              33.600000            33.6\n",
      "Folate, DFE                     1653.368775           400.0\n",
      "Calcium, Ca                     1000.000000          1000.0\n",
      "Carbohydrate, by difference      148.346580           130.0\n",
      "Iron, Fe                          47.590071             8.0\n",
      "Magnesium, Mg                    624.609875           400.0\n",
      "Niacin                            25.136346            16.0\n",
      "Phosphorus, P                    713.781605           700.0\n",
      "Potassium, K                    4700.000000          4700.0\n",
      "Riboflavin                         4.635596             1.3\n",
      "Thiamin                            1.200000             1.2\n",
      "Vitamin A, RAE                  9302.735936           900.0\n",
      "Vitamin B-12                      25.201414             2.4\n",
      "Vitamin B-6                        2.752828             1.3\n",
      "Vitamin C, total ascorbic acid   264.888082            90.0\n",
      "Vitamin E (alpha-tocopherol)      15.000000            15.0\n",
      "Vitamin K (phylloquinone)       3608.428307           120.0\n",
      "Zinc, Zn                          11.000000            11.0\n",
      "Sodium, Na                       792.324184          2300.0\n",
      "\n",
      "\n",
      "Constraining nutrients are:\n",
      "['Energy', 'Fiber, total dietary', 'Calcium, Ca', 'Potassium, K', 'Thiamin', 'Vitamin E (alpha-tocopherol)', 'Zinc, Zn']\n"
     ]
    }
   ],
   "source": [
    "group = 'M 19-30'\n",
    "tol = 1e-6\n",
    "\n",
    "result = solve_subsistence_problem(FoodNutrients,Prices,diet_min[group],diet_max[group],tol=tol)\n",
    "\n",
    "print(\"Cost of diet for %s is $%4.2f per day.\\n\" % (group,result.fun))\n",
    "\n",
    "# Put back into nice series\n",
    "diet = result.diet\n",
    "\n",
    "print(\"\\nDiet (in 100s of grams or milliliters):\")\n",
    "print(diet[diet >= tol])  # Drop items with quantities less than precision of calculation.\n",
    "print()\n",
    "\n",
    "tab = pd.DataFrame({\"Outcome\":np.abs(result.A).dot(diet),\"Recommendation\":np.abs(result.b)})\n",
    "print(\"\\nWith the following nutritional outcomes of interest:\")\n",
    "print(tab)\n",
    "print()\n",
    "\n",
    "print(\"\\nConstraining nutrients are:\")\n",
    "excess = tab.diff(axis=1).iloc[:,1]\n",
    "print(excess.loc[np.abs(excess) < tol*100].index.tolist())"
   ]
  },
  {
   "cell_type": "code",
   "execution_count": 212,
   "metadata": {},
   "outputs": [
    {
     "name": "stdout",
     "output_type": "stream",
     "text": [
      "Cost of diet for M 19-30 is $2.61 per day.\n",
      "\n",
      "\n",
      "Diet (in 100s of grams or milliliters):\n",
      "Food\n",
      "Almonds                                    2.874843\n",
      "Spinach                                    0.171482\n",
      "Whole-grain cereal (Honey Nut Cheerios)    0.320000\n",
      "Salad greens                               0.139043\n",
      "Frozen vegetables                          2.279693\n",
      "Pinto beans                                0.951229\n",
      "Oranges                                    0.997706\n",
      "dtype: float64\n",
      "\n",
      "\n",
      "With the following nutritional outcomes of interest:\n",
      "                                    Outcome  Recommendation\n",
      "Nutrition                                                  \n",
      "Energy                          2813.976267          2400.0\n",
      "Protein                           89.170705            56.0\n",
      "Fiber, total dietary              77.204481            33.6\n",
      "Folate, DFE                      612.618086           400.0\n",
      "Calcium, Ca                     1000.000004          1000.0\n",
      "Carbohydrate, by difference      184.319576           130.0\n",
      "Iron, Fe                          26.718354             8.0\n",
      "Magnesium, Mg                    882.890716           400.0\n",
      "Niacin                            20.127896            16.0\n",
      "Phosphorus, P                   1565.932473           700.0\n",
      "Potassium, K                    4700.000012          4700.0\n",
      "Riboflavin                         4.198793             1.3\n",
      "Thiamin                            1.200000             1.2\n",
      "Vitamin A, RAE                   900.000001           900.0\n",
      "Vitamin B-12                       2.400000             2.4\n",
      "Vitamin B-6                        1.395635             1.3\n",
      "Vitamin C, total ascorbic acid    90.000000            90.0\n",
      "Vitamin E (alpha-tocopherol)      67.750986            15.0\n",
      "Vitamin K (phylloquinone)        120.000000           120.0\n",
      "Zinc, Zn                          15.825748            11.0\n",
      "Sodium, Na                       894.483653          2300.0\n",
      "\n",
      "\n",
      "Constraining nutrients are:\n",
      "['Calcium, Ca', 'Potassium, K', 'Thiamin', 'Vitamin A, RAE', 'Vitamin B-12', 'Vitamin C, total ascorbic acid', 'Vitamin K (phylloquinone)']\n"
     ]
    }
   ],
   "source": [
    "group = 'M 19-30'\n",
    "tol = 1e-6\n",
    "\n",
    "budget_result = solve_subsistence_problem(BudgetFoodNutrients,budget_friendly_diabetes_diet_prices,diet_min[group],diet_max[group],tol=tol)\n",
    "\n",
    "print(\"Cost of diet for %s is $%4.2f per day.\\n\" % (group,budget_result.fun))\n",
    "\n",
    "# Put back into nice series\n",
    "budget_diet = budget_result.diet\n",
    "\n",
    "print(\"\\nDiet (in 100s of grams or milliliters):\")\n",
    "print(budget_diet[budget_diet >= tol])  # Drop items with quantities less than precision of calculation.\n",
    "print()\n",
    "\n",
    "budget_tab = pd.DataFrame({\"Outcome\":np.abs(budget_result.A).dot(budget_diet),\"Recommendation\":np.abs(budget_result.b)})\n",
    "print(\"\\nWith the following nutritional outcomes of interest:\")\n",
    "print(budget_tab)\n",
    "print()\n",
    "\n",
    "print(\"\\nConstraining nutrients are:\")\n",
    "budget_excess = budget_tab.diff(axis=1).iloc[:,1]\n",
    "print(budget_excess.loc[np.abs(budget_excess) < tol*100].index.tolist())"
   ]
  },
  {
   "cell_type": "markdown",
   "metadata": {},
   "source": [
    "#### Dash Diet <a id='Dash4'></a>"
   ]
  },
  {
   "cell_type": "code",
   "execution_count": 213,
   "metadata": {},
   "outputs": [
    {
     "name": "stdout",
     "output_type": "stream",
     "text": [
      "Cost of diet for M 19-30 is $3.96 per day.\n",
      "\n",
      "\n",
      "Diet (in 100s of grams or milliliters):\n",
      "Food\n",
      "Low-fat mozzarella cheese             0.407218\n",
      "Lima Beans                            0.507926\n",
      "Kidney beans (Canned)                 5.540602\n",
      "Broccoli                              0.789451\n",
      "Carrots                               0.951069\n",
      "Almonds, Low Sodium Lightly Salted    0.563153\n",
      "Milk, Fat-free                        0.309527\n",
      "Collards                              0.146101\n",
      "Tuna Canned                           0.788077\n",
      "dtype: float64\n",
      "\n",
      "\n",
      "With the following nutritional outcomes of interest:\n",
      "                                    Outcome  Recommendation\n",
      "Nutrition                                                  \n",
      "Energy                          2532.744933          2400.0\n",
      "Protein                          110.890459            56.0\n",
      "Fiber, total dietary              64.714801            33.6\n",
      "Folate, DFE                      490.295749           400.0\n",
      "Calcium, Ca                     1266.080747          1000.0\n",
      "Carbohydrate, by difference      212.224218           130.0\n",
      "Iron, Fe                          19.714504             8.0\n",
      "Magnesium, Mg                    586.364485           400.0\n",
      "Niacin                            16.000000            16.0\n",
      "Phosphorus, P                   1790.761284           700.0\n",
      "Potassium, K                    4700.000000          4700.0\n",
      "Riboflavin                         1.617578             1.3\n",
      "Thiamin                            1.332459             1.2\n",
      "Vitamin A, RAE                   900.000001           900.0\n",
      "Vitamin B-12                       2.400000             2.4\n",
      "Vitamin B-6                        1.477604             1.3\n",
      "Vitamin C, total ascorbic acid    90.000000            90.0\n",
      "Vitamin E (alpha-tocopherol)      15.000000            15.0\n",
      "Vitamin K (phylloquinone)        120.000000           120.0\n",
      "Zinc, Zn                          11.000000            11.0\n",
      "Sodium, Na                      2300.000000          2300.0\n",
      "\n",
      "\n",
      "Constraining nutrients are:\n",
      "['Niacin', 'Potassium, K', 'Vitamin A, RAE', 'Vitamin B-12', 'Vitamin C, total ascorbic acid', 'Vitamin E (alpha-tocopherol)', 'Vitamin K (phylloquinone)', 'Zinc, Zn', 'Sodium, Na']\n"
     ]
    }
   ],
   "source": [
    "group = 'M 19-30'\n",
    "tol = 1e-6\n",
    "\n",
    "dash_result = solve_subsistence_problem(DashFoodNutrients,dash_diet_prices,diet_min[group],diet_max[group],tol=tol)\n",
    "\n",
    "print(\"Cost of diet for %s is $%4.2f per day.\\n\" % (group,dash_result.fun))\n",
    "\n",
    "# Put back into nice series\n",
    "dash_diet = dash_result.diet\n",
    "\n",
    "print(\"\\nDiet (in 100s of grams or milliliters):\")\n",
    "print(dash_diet[dash_diet >= tol])  # Drop items with quantities less than precision of calculation.\n",
    "print()\n",
    "\n",
    "dash_tab = pd.DataFrame({\"Outcome\":np.abs(dash_result.A).dot(dash_diet),\"Recommendation\":np.abs(dash_result.b)})\n",
    "print(\"\\nWith the following nutritional outcomes of interest:\")\n",
    "print(dash_tab)\n",
    "print()\n",
    "\n",
    "print(\"\\nConstraining nutrients are:\")\n",
    "dash_excess = dash_tab.diff(axis=1).iloc[:,1]\n",
    "print(dash_excess.loc[np.abs(dash_excess) < tol*100].index.tolist())"
   ]
  },
  {
   "cell_type": "markdown",
   "metadata": {},
   "source": [
    "### Plotting Foods vs Prices <a id='Plotting'></a>"
   ]
  },
  {
   "cell_type": "markdown",
   "metadata": {},
   "source": [
    "#### Budget Friendly Diabetes Diet <a id='Budget5'></a>"
   ]
  },
  {
   "cell_type": "code",
   "execution_count": 214,
   "metadata": {},
   "outputs": [
    {
     "data": {
      "text/html": [
       "        <script type=\"text/javascript\">\n",
       "        window.PlotlyConfig = {MathJaxConfig: 'local'};\n",
       "        if (window.MathJax) {MathJax.Hub.Config({SVG: {font: \"STIX-Web\"}});}\n",
       "        if (typeof require !== 'undefined') {\n",
       "        require.undef(\"plotly\");\n",
       "        requirejs.config({\n",
       "            paths: {\n",
       "                'plotly': ['https://cdn.plot.ly/plotly-latest.min']\n",
       "            }\n",
       "        });\n",
       "        require(['plotly'], function(Plotly) {\n",
       "            window._Plotly = Plotly;\n",
       "        });\n",
       "        }\n",
       "        </script>\n",
       "        "
      ]
     },
     "metadata": {},
     "output_type": "display_data"
    },
    {
     "data": {
      "application/vnd.plotly.v1+json": {
       "config": {
        "linkText": "Export to plot.ly",
        "plotlyServerURL": "https://plot.ly",
        "showLink": true
       },
       "data": [
        {
         "line": {
          "color": "rgba(255, 153, 51, 1.0)",
          "dash": "solid",
          "shape": "linear",
          "width": 1.3
         },
         "mode": "lines",
         "name": "Greek Yogurt",
         "text": "",
         "type": "scatter",
         "x": [
          0.10229448965378318,
          0.15344173448067477,
          0.18413008137680972,
          0.20458897930756637,
          0.225047877238323,
          0.24550677516907962,
          0.26596567309983626,
          0.2864245710305929,
          0.30688346896134955,
          0.40917795861513273,
          0.8183559172302655
         ],
         "y": [
          4.790007308677583e-10,
          6.464643065389027e-11,
          2.59455676814781e-07,
          8.973490844213209e-09,
          1.480445798449782e-08,
          1.5417834019037077e-06,
          2.18633021170951e-06,
          5.1020251338802604e-08,
          2.2224638374667665e-07,
          1.3902013016222825e-10,
          1.0509402502289713e-06
         ]
        },
        {
         "line": {
          "color": "rgba(55, 128, 191, 1.0)",
          "dash": "solid",
          "shape": "linear",
          "width": 1.3
         },
         "mode": "lines",
         "name": "Black Beans",
         "text": "",
         "type": "scatter",
         "x": [
          0.10229448965378318,
          0.15344173448067477,
          0.18413008137680972,
          0.20458897930756637,
          0.225047877238323,
          0.24550677516907962,
          0.26596567309983626,
          0.2864245710305929,
          0.30688346896134955,
          0.40917795861513273,
          0.8183559172302655
         ],
         "y": [
          1.266776080485095e-09,
          1.645861082002032e-10,
          6.488871067395775e-07,
          2.2630289025009966e-08,
          3.698428645586202e-08,
          3.7697718643005704e-06,
          5.296427305372551e-06,
          1.2423316083660411e-07,
          5.267616302439425e-07,
          3.1280870213246203e-10,
          1.2842462035761595e-07
         ]
        },
        {
         "line": {
          "color": "rgba(50, 171, 96, 1.0)",
          "dash": "solid",
          "shape": "linear",
          "width": 1.3
         },
         "mode": "lines",
         "name": "Almonds",
         "text": "",
         "type": "scatter",
         "x": [
          0.10229448965378318,
          0.15344173448067477,
          0.18413008137680972,
          0.20458897930756637,
          0.225047877238323,
          0.24550677516907962,
          0.26596567309983626,
          0.2864245710305929,
          0.30688346896134955,
          0.40917795861513273,
          0.8183559172302655
         ],
         "y": [
          3.239465641817044,
          2.874842519282557,
          2.874842692335335,
          2.8748425195338787,
          2.8748424703924464,
          2.8748373666793063,
          2.8748351783105495,
          2.8748421265938924,
          2.87484136452615,
          2.874842518217187,
          1.056251197124756
         ]
        },
        {
         "line": {
          "color": "rgba(128, 0, 128, 1.0)",
          "dash": "solid",
          "shape": "linear",
          "width": 1.3
         },
         "mode": "lines",
         "name": "Salsa",
         "text": "",
         "type": "scatter",
         "x": [
          0.10229448965378318,
          0.15344173448067477,
          0.18413008137680972,
          0.20458897930756637,
          0.225047877238323,
          0.24550677516907962,
          0.26596567309983626,
          0.2864245710305929,
          0.30688346896134955,
          0.40917795861513273,
          0.8183559172302655
         ],
         "y": [
          5.462725052703838e-10,
          2.4700778801610893e-10,
          3.0959406210895393e-07,
          3.152029022226779e-08,
          5.196719828696787e-08,
          1.8098352138586159e-06,
          2.548131833498586e-06,
          1.240868975053394e-07,
          3.958289991491638e-07,
          2.3774709420652536e-10,
          1.3608667633959855e-07
         ]
        },
        {
         "line": {
          "color": "rgba(219, 64, 82, 1.0)",
          "dash": "solid",
          "shape": "linear",
          "width": 1.3
         },
         "mode": "lines",
         "name": "Brown Rice",
         "text": "",
         "type": "scatter",
         "x": [
          0.10229448965378318,
          0.15344173448067477,
          0.18413008137680972,
          0.20458897930756637,
          0.225047877238323,
          0.24550677516907962,
          0.26596567309983626,
          0.2864245710305929,
          0.30688346896134955,
          0.40917795861513273,
          0.8183559172302655
         ],
         "y": [
          7.372368869327521e-10,
          1.0270106650950766e-10,
          3.5869793782069254e-07,
          1.350042918430373e-08,
          2.136813015238082e-08,
          1.8979086593465149e-06,
          2.648415992139491e-06,
          6.497005221181623e-08,
          2.529275364867958e-07,
          1.3833941256030514e-10,
          8.852220350304473e-08
         ]
        },
        {
         "line": {
          "color": "rgba(0, 128, 128, 1.0)",
          "dash": "solid",
          "shape": "linear",
          "width": 1.3
         },
         "mode": "lines",
         "name": "Green beans (canned)",
         "text": "",
         "type": "scatter",
         "x": [
          0.10229448965378318,
          0.15344173448067477,
          0.18413008137680972,
          0.20458897930756637,
          0.225047877238323,
          0.24550677516907962,
          0.26596567309983626,
          0.2864245710305929,
          0.30688346896134955,
          0.40917795861513273,
          0.8183559172302655
         ],
         "y": [
          1.3171637724681575e-09,
          3.512169162654043e-10,
          7.530763863264556e-07,
          4.2880652372869806e-08,
          1.8180705685243385e-08,
          3.824354026378982e-06,
          6.335786487049398e-06,
          5.355633939425812e-08,
          5.029459275575808e-07,
          3.178531782263242e-10,
          8.530298940128797e-07
         ]
        },
        {
         "line": {
          "color": "rgba(255, 255, 51, 1.0)",
          "dash": "solid",
          "shape": "linear",
          "width": 1.3
         },
         "mode": "lines",
         "name": "Spinach",
         "text": "",
         "type": "scatter",
         "x": [
          0.10229448965378318,
          0.15344173448067477,
          0.18413008137680972,
          0.20458897930756637,
          0.225047877238323,
          0.24550677516907962,
          0.26596567309983626,
          0.2864245710305929,
          0.30688346896134955,
          0.40917795861513273,
          0.8183559172302655
         ],
         "y": [
          4.865619666468895e-08,
          0.17148159830597082,
          0.17148097336417423,
          0.1714811891039142,
          0.17148093552290622,
          0.1714753637034254,
          0.17147229241468248,
          0.17148110841017103,
          0.17148393012895613,
          0.17148160761293296,
          0.24017755776479582
         ]
        },
        {
         "line": {
          "color": "rgba(128, 128, 0, 1.0)",
          "dash": "solid",
          "shape": "linear",
          "width": 1.3
         },
         "mode": "lines",
         "name": "Whole-grain cereal (Honey Nut Cheerios)",
         "text": "",
         "type": "scatter",
         "x": [
          0.10229448965378318,
          0.15344173448067477,
          0.18413008137680972,
          0.20458897930756637,
          0.225047877238323,
          0.24550677516907962,
          0.26596567309983626,
          0.2864245710305929,
          0.30688346896134955,
          0.40917795861513273,
          0.8183559172302655
         ],
         "y": [
          0.32000000075792195,
          0.3200000004946983,
          0.32000019129388774,
          0.3200000631904131,
          0.3200001106531584,
          0.320001531139969,
          0.3200021649395327,
          0.320000240882163,
          0.3200001736324955,
          0.32000000008392093,
          0.4414223294887582
         ]
        },
        {
         "line": {
          "color": "rgba(251, 128, 114, 1.0)",
          "dash": "solid",
          "shape": "linear",
          "width": 1.3
         },
         "mode": "lines",
         "name": "Oatmeal",
         "text": "",
         "type": "scatter",
         "x": [
          0.10229448965378318,
          0.15344173448067477,
          0.18413008137680972,
          0.20458897930756637,
          0.225047877238323,
          0.24550677516907962,
          0.26596567309983626,
          0.2864245710305929,
          0.30688346896134955,
          0.40917795861513273,
          0.8183559172302655
         ],
         "y": [
          5.641003048432373e-10,
          6.908633558923436e-11,
          2.8326542879713996e-07,
          9.297756304163779e-09,
          1.4981896643726992e-08,
          1.638420310366363e-06,
          2.2900143847566407e-06,
          5.062354962245526e-08,
          2.2332187000064004e-07,
          1.2608414152397903e-10,
          1.3602735554393861e-07
         ]
        },
        {
         "line": {
          "color": "rgba(128, 177, 211, 1.0)",
          "dash": "solid",
          "shape": "linear",
          "width": 1.3
         },
         "mode": "lines",
         "name": "Potatoes",
         "text": "",
         "type": "scatter",
         "x": [
          0.10229448965378318,
          0.15344173448067477,
          0.18413008137680972,
          0.20458897930756637,
          0.225047877238323,
          0.24550677516907962,
          0.26596567309983626,
          0.2864245710305929,
          0.30688346896134955,
          0.40917795861513273,
          0.8183559172302655
         ],
         "y": [
          5.013627563982157e-10,
          5.938510479302404e-11,
          2.3021119854849653e-07,
          7.48081736781161e-09,
          1.1719987623114063e-08,
          1.2922857688364524e-06,
          1.7689643086509235e-06,
          3.678717395700086e-08,
          1.6597036904211637e-07,
          8.516296385559679e-11,
          5.8152672067036e-08
         ]
        },
        {
         "line": {
          "color": "rgba(128, 177, 211, 0.8999999999999999)",
          "dash": "solid",
          "shape": "linear",
          "width": 1.3
         },
         "mode": "lines",
         "name": "Salad greens",
         "text": "",
         "type": "scatter",
         "x": [
          0.10229448965378318,
          0.15344173448067477,
          0.18413008137680972,
          0.20458897930756637,
          0.225047877238323,
          0.24550677516907962,
          0.26596567309983626,
          0.2864245710305929,
          0.30688346896134955,
          0.40917795861513273,
          0.8183559172302655
         ],
         "y": [
          0.5580447099282351,
          0.13904283347109975,
          0.13904437247258505,
          0.13904385700533792,
          0.13904450607743413,
          0.13905849736505926,
          0.13906600186270096,
          0.13904411327312508,
          0.13903707590790598,
          0.13904281039463914,
          1.3426169344708685e-05
         ]
        },
        {
         "line": {
          "color": "rgba(255, 153, 51, 0.8999999999999999)",
          "dash": "solid",
          "shape": "linear",
          "width": 1.3
         },
         "mode": "lines",
         "name": "Sweet Potato",
         "text": "",
         "type": "scatter",
         "x": [
          0.10229448965378318,
          0.15344173448067477,
          0.18413008137680972,
          0.20458897930756637,
          0.225047877238323,
          0.24550677516907962,
          0.26596567309983626,
          0.2864245710305929,
          0.30688346896134955,
          0.40917795861513273,
          0.8183559172302655
         ],
         "y": [
          3.859311797405998e-10,
          4.7494931297744145e-11,
          1.8090141729522337e-07,
          5.998220949977802e-09,
          9.362028474757487e-09,
          1.031385424403257e-06,
          1.4187408146712072e-06,
          2.9351156680501587e-08,
          1.3378031461537147e-07,
          6.969271828005586e-11,
          5.251752137919571e-08
         ]
        },
        {
         "line": {
          "color": "rgba(55, 128, 191, 0.8999999999999999)",
          "dash": "solid",
          "shape": "linear",
          "width": 1.3
         },
         "mode": "lines",
         "name": "Onions",
         "text": "",
         "type": "scatter",
         "x": [
          0.10229448965378318,
          0.15344173448067477,
          0.18413008137680972,
          0.20458897930756637,
          0.225047877238323,
          0.24550677516907962,
          0.26596567309983626,
          0.2864245710305929,
          0.30688346896134955,
          0.40917795861513273,
          0.8183559172302655
         ],
         "y": [
          2.2863563186907974e-09,
          2.840687704663446e-10,
          1.1509070202559474e-06,
          4.236776224525546e-08,
          6.569985391240882e-08,
          6.786712679879586e-06,
          9.516736255772134e-06,
          1.9619010999032253e-07,
          8.914063153325861e-07,
          4.979306815201789e-10,
          3.501124559765725e-07
         ]
        },
        {
         "line": {
          "color": "rgba(50, 171, 96, 0.8999999999999999)",
          "dash": "solid",
          "shape": "linear",
          "width": 1.3
         },
         "mode": "lines",
         "name": "Popcorn (kernels no additives)",
         "text": "",
         "type": "scatter",
         "x": [
          0.10229448965378318,
          0.15344173448067477,
          0.18413008137680972,
          0.20458897930756637,
          0.225047877238323,
          0.24550677516907962,
          0.26596567309983626,
          0.2864245710305929,
          0.30688346896134955,
          0.40917795861513273,
          0.8183559172302655
         ],
         "y": [
          6.181715377047576e-10,
          7.087498077349801e-11,
          3.3593056685007936e-07,
          1.1577333872779348e-08,
          1.9721591308152642e-08,
          1.7100628613725766e-06,
          2.423622248851246e-06,
          7.704407688617551e-08,
          2.2808809996581655e-07,
          1.196411902083999e-10,
          7.050373109272378e-08
         ]
        },
        {
         "line": {
          "color": "rgba(128, 0, 128, 0.8999999999999999)",
          "dash": "solid",
          "shape": "linear",
          "width": 1.3
         },
         "mode": "lines",
         "name": "Steel cut oats",
         "text": "",
         "type": "scatter",
         "x": [
          0.10229448965378318,
          0.15344173448067477,
          0.18413008137680972,
          0.20458897930756637,
          0.225047877238323,
          0.24550677516907962,
          0.26596567309983626,
          0.2864245710305929,
          0.30688346896134955,
          0.40917795861513273,
          0.8183559172302655
         ],
         "y": [
          4.207249159107017e-10,
          5.4196938689745666e-11,
          2.00373351298274e-07,
          7.105940430216877e-09,
          1.1230648847062284e-08,
          1.0800687456430978e-06,
          1.495758584685138e-06,
          3.4430035059602194e-08,
          1.4162840555873553e-07,
          7.544478403917261e-11,
          4.5084725373618356e-08
         ]
        },
        {
         "line": {
          "color": "rgba(219, 64, 82, 0.8999999999999999)",
          "dash": "solid",
          "shape": "linear",
          "width": 1.3
         },
         "mode": "lines",
         "name": "Frozen vegetables",
         "text": "",
         "type": "scatter",
         "x": [
          0.10229448965378318,
          0.15344173448067477,
          0.18413008137680972,
          0.20458897930756637,
          0.225047877238323,
          0.24550677516907962,
          0.26596567309983626,
          0.2864245710305929,
          0.30688346896134955,
          0.40917795861513273,
          0.8183559172302655
         ],
         "y": [
          1.7637600045792359,
          2.279692750220925,
          2.2796906579507,
          2.2796913045110596,
          2.279690364790878,
          2.2796703648572794,
          2.279660088320301,
          2.2796904872082098,
          2.2796995618084965,
          2.279692780053994,
          2.051201310293751
         ]
        },
        {
         "line": {
          "color": "rgba(0, 128, 128, 0.8999999999999999)",
          "dash": "solid",
          "shape": "linear",
          "width": 1.3
         },
         "mode": "lines",
         "name": "Apples",
         "text": "",
         "type": "scatter",
         "x": [
          0.10229448965378318,
          0.15344173448067477,
          0.18413008137680972,
          0.20458897930756637,
          0.225047877238323,
          0.24550677516907962,
          0.26596567309983626,
          0.2864245710305929,
          0.30688346896134955,
          0.40917795861513273,
          0.8183559172302655
         ],
         "y": [
          4.1324493270968994e-10,
          5.258312664796861e-11,
          1.9807571198200994e-07,
          6.9249946431946535e-09,
          1.1048314928967784e-08,
          1.0587662691264216e-06,
          1.4626215290731814e-06,
          3.470628586892065e-08,
          1.385013144270548e-07,
          7.318446207746535e-11,
          4.7084448477202623e-08
         ]
        },
        {
         "line": {
          "color": "rgba(255, 255, 51, 0.8999999999999999)",
          "dash": "solid",
          "shape": "linear",
          "width": 1.3
         },
         "mode": "lines",
         "name": "Strawberries",
         "text": "",
         "type": "scatter",
         "x": [
          0.10229448965378318,
          0.15344173448067477,
          0.18413008137680972,
          0.20458897930756637,
          0.225047877238323,
          0.24550677516907962,
          0.26596567309983626,
          0.2864245710305929,
          0.30688346896134955,
          0.40917795861513273,
          0.8183559172302655
         ],
         "y": [
          2.8872068795830373e-10,
          3.57985173352482e-11,
          1.393017269289236e-07,
          4.813142752649036e-09,
          7.824926953738201e-09,
          7.312704249497094e-07,
          1.0067928441299665e-06,
          2.5442535520612167e-08,
          9.605638965419e-08,
          5.131595037285762e-11,
          3.309933270902393e-08
         ]
        },
        {
         "line": {
          "color": "rgba(128, 128, 0, 0.8999999999999999)",
          "dash": "solid",
          "shape": "linear",
          "width": 1.3
         },
         "mode": "lines",
         "name": "Pinto beans",
         "text": "",
         "type": "scatter",
         "x": [
          0.10229448965378318,
          0.15344173448067477,
          0.18413008137680972,
          0.20458897930756637,
          0.225047877238323,
          0.24550677516907962,
          0.26596567309983626,
          0.2864245710305929,
          0.30688346896134955,
          0.40917795861513273,
          0.8183559172302655
         ],
         "y": [
          0.8564192515420445,
          0.9512289835806734,
          0.9512287512796672,
          0.9512290825402189,
          0.9512291609637815,
          0.9512299821757474,
          0.9512298962178676,
          0.9512291383673737,
          0.9512283085073959,
          0.9512289813252244,
          2.7727313872253207e-07
         ]
        },
        {
         "line": {
          "color": "rgba(251, 128, 114, 0.8999999999999999)",
          "dash": "solid",
          "shape": "linear",
          "width": 1.3
         },
         "mode": "lines",
         "name": "Broccoli",
         "text": "",
         "type": "scatter",
         "x": [
          0.10229448965378318,
          0.15344173448067477,
          0.18413008137680972,
          0.20458897930756637,
          0.225047877238323,
          0.24550677516907962,
          0.26596567309983626,
          0.2864245710305929,
          0.30688346896134955,
          0.40917795861513273,
          0.8183559172302655
         ],
         "y": [
          7.772203446123951e-10,
          7.32115771687951e-11,
          3.498193383715657e-07,
          9.627420343281121e-09,
          1.5391615163608926e-08,
          2.0305752780929597e-06,
          2.7190020232219014e-06,
          5.478860837432251e-08,
          2.5963089530882283e-07,
          1.2328380039461223e-10,
          9.104393909038201e-08
         ]
        },
        {
         "line": {
          "color": "rgba(251, 128, 114, 0.7999999999999998)",
          "dash": "solid",
          "shape": "linear",
          "width": 1.3
         },
         "mode": "lines",
         "name": "Peanut butter",
         "text": "",
         "type": "scatter",
         "x": [
          0.10229448965378318,
          0.15344173448067477,
          0.18413008137680972,
          0.20458897930756637,
          0.225047877238323,
          0.24550677516907962,
          0.26596567309983626,
          0.2864245710305929,
          0.30688346896134955,
          0.40917795861513273,
          0.8183559172302655
         ],
         "y": [
          1.7647295584563278e-09,
          3.828193508111481e-10,
          1.1848837468116344e-06,
          6.178236532239798e-08,
          1.1070743125077522e-07,
          7.891981174482893e-06,
          1.209386433407932e-05,
          4.801525915705462e-07,
          1.403878057644768e-06,
          1.6127165047207987e-09,
          7.212447110095538
         ]
        },
        {
         "line": {
          "color": "rgba(128, 177, 211, 0.7999999999999998)",
          "dash": "solid",
          "shape": "linear",
          "width": 1.3
         },
         "mode": "lines",
         "name": "Frozen fruit mix",
         "text": "",
         "type": "scatter",
         "x": [
          0.10229448965378318,
          0.15344173448067477,
          0.18413008137680972,
          0.20458897930756637,
          0.225047877238323,
          0.24550677516907962,
          0.26596567309983626,
          0.2864245710305929,
          0.30688346896134955,
          0.40917795861513273,
          0.8183559172302655
         ],
         "y": [
          5.137160746187976e-10,
          6.063670618588339e-11,
          2.336570419461357e-07,
          7.687131009566627e-09,
          1.2121359471203947e-08,
          1.293377526285429e-06,
          1.768154095446697e-06,
          3.8453512133537316e-08,
          1.656033698641361e-07,
          8.452949073295783e-11,
          5.441469647229472e-08
         ]
        },
        {
         "line": {
          "color": "rgba(255, 153, 51, 0.7999999999999998)",
          "dash": "solid",
          "shape": "linear",
          "width": 1.3
         },
         "mode": "lines",
         "name": "Bananas",
         "text": "",
         "type": "scatter",
         "x": [
          0.10229448965378318,
          0.15344173448067477,
          0.18413008137680972,
          0.20458897930756637,
          0.225047877238323,
          0.24550677516907962,
          0.26596567309983626,
          0.2864245710305929,
          0.30688346896134955,
          0.40917795861513273,
          0.8183559172302655
         ],
         "y": [
          7.904233728949749e-10,
          8.989678252447189e-11,
          3.515545843509301e-07,
          1.1289199073503114e-08,
          1.738242529032876e-08,
          2.0337353937088887e-06,
          2.7679329623449717e-06,
          5.363945765098178e-08,
          2.5425892551184943e-07,
          1.3001085844403207e-10,
          7.635101389354959e-08
         ]
        },
        {
         "line": {
          "color": "rgba(55, 128, 191, 0.7999999999999998)",
          "dash": "solid",
          "shape": "linear",
          "width": 1.3
         },
         "mode": "lines",
         "name": "Oranges",
         "text": "",
         "type": "scatter",
         "x": [
          0.10229448965378318,
          0.15344173448067477,
          0.18413008137680972,
          0.20458897930756637,
          0.225047877238323,
          0.24550677516907962,
          0.26596567309983626,
          0.2864245710305929,
          0.30688346896134955,
          0.40917795861513273,
          0.8183559172302655
         ],
         "y": [
          1.102827117988389,
          0.9977056980737067,
          0.99770545592674,
          0.9977059453900395,
          0.9977061021380721,
          0.9977060800798012,
          0.9977069063802338,
          0.9977059473035579,
          0.9977038087187162,
          0.9977056922174411,
          0.9858628932093801
         ]
        }
       ],
       "layout": {
        "legend": {
         "bgcolor": "#F5F6F9",
         "font": {
          "color": "#4D5663"
         }
        },
        "paper_bgcolor": "#F5F6F9",
        "plot_bgcolor": "#F5F6F9",
        "template": {
         "data": {
          "bar": [
           {
            "error_x": {
             "color": "#2a3f5f"
            },
            "error_y": {
             "color": "#2a3f5f"
            },
            "marker": {
             "line": {
              "color": "#E5ECF6",
              "width": 0.5
             }
            },
            "type": "bar"
           }
          ],
          "barpolar": [
           {
            "marker": {
             "line": {
              "color": "#E5ECF6",
              "width": 0.5
             }
            },
            "type": "barpolar"
           }
          ],
          "carpet": [
           {
            "aaxis": {
             "endlinecolor": "#2a3f5f",
             "gridcolor": "white",
             "linecolor": "white",
             "minorgridcolor": "white",
             "startlinecolor": "#2a3f5f"
            },
            "baxis": {
             "endlinecolor": "#2a3f5f",
             "gridcolor": "white",
             "linecolor": "white",
             "minorgridcolor": "white",
             "startlinecolor": "#2a3f5f"
            },
            "type": "carpet"
           }
          ],
          "choropleth": [
           {
            "colorbar": {
             "outlinewidth": 0,
             "ticks": ""
            },
            "type": "choropleth"
           }
          ],
          "contour": [
           {
            "colorbar": {
             "outlinewidth": 0,
             "ticks": ""
            },
            "colorscale": [
             [
              0,
              "#0d0887"
             ],
             [
              0.1111111111111111,
              "#46039f"
             ],
             [
              0.2222222222222222,
              "#7201a8"
             ],
             [
              0.3333333333333333,
              "#9c179e"
             ],
             [
              0.4444444444444444,
              "#bd3786"
             ],
             [
              0.5555555555555556,
              "#d8576b"
             ],
             [
              0.6666666666666666,
              "#ed7953"
             ],
             [
              0.7777777777777778,
              "#fb9f3a"
             ],
             [
              0.8888888888888888,
              "#fdca26"
             ],
             [
              1,
              "#f0f921"
             ]
            ],
            "type": "contour"
           }
          ],
          "contourcarpet": [
           {
            "colorbar": {
             "outlinewidth": 0,
             "ticks": ""
            },
            "type": "contourcarpet"
           }
          ],
          "heatmap": [
           {
            "colorbar": {
             "outlinewidth": 0,
             "ticks": ""
            },
            "colorscale": [
             [
              0,
              "#0d0887"
             ],
             [
              0.1111111111111111,
              "#46039f"
             ],
             [
              0.2222222222222222,
              "#7201a8"
             ],
             [
              0.3333333333333333,
              "#9c179e"
             ],
             [
              0.4444444444444444,
              "#bd3786"
             ],
             [
              0.5555555555555556,
              "#d8576b"
             ],
             [
              0.6666666666666666,
              "#ed7953"
             ],
             [
              0.7777777777777778,
              "#fb9f3a"
             ],
             [
              0.8888888888888888,
              "#fdca26"
             ],
             [
              1,
              "#f0f921"
             ]
            ],
            "type": "heatmap"
           }
          ],
          "heatmapgl": [
           {
            "colorbar": {
             "outlinewidth": 0,
             "ticks": ""
            },
            "colorscale": [
             [
              0,
              "#0d0887"
             ],
             [
              0.1111111111111111,
              "#46039f"
             ],
             [
              0.2222222222222222,
              "#7201a8"
             ],
             [
              0.3333333333333333,
              "#9c179e"
             ],
             [
              0.4444444444444444,
              "#bd3786"
             ],
             [
              0.5555555555555556,
              "#d8576b"
             ],
             [
              0.6666666666666666,
              "#ed7953"
             ],
             [
              0.7777777777777778,
              "#fb9f3a"
             ],
             [
              0.8888888888888888,
              "#fdca26"
             ],
             [
              1,
              "#f0f921"
             ]
            ],
            "type": "heatmapgl"
           }
          ],
          "histogram": [
           {
            "marker": {
             "colorbar": {
              "outlinewidth": 0,
              "ticks": ""
             }
            },
            "type": "histogram"
           }
          ],
          "histogram2d": [
           {
            "colorbar": {
             "outlinewidth": 0,
             "ticks": ""
            },
            "colorscale": [
             [
              0,
              "#0d0887"
             ],
             [
              0.1111111111111111,
              "#46039f"
             ],
             [
              0.2222222222222222,
              "#7201a8"
             ],
             [
              0.3333333333333333,
              "#9c179e"
             ],
             [
              0.4444444444444444,
              "#bd3786"
             ],
             [
              0.5555555555555556,
              "#d8576b"
             ],
             [
              0.6666666666666666,
              "#ed7953"
             ],
             [
              0.7777777777777778,
              "#fb9f3a"
             ],
             [
              0.8888888888888888,
              "#fdca26"
             ],
             [
              1,
              "#f0f921"
             ]
            ],
            "type": "histogram2d"
           }
          ],
          "histogram2dcontour": [
           {
            "colorbar": {
             "outlinewidth": 0,
             "ticks": ""
            },
            "colorscale": [
             [
              0,
              "#0d0887"
             ],
             [
              0.1111111111111111,
              "#46039f"
             ],
             [
              0.2222222222222222,
              "#7201a8"
             ],
             [
              0.3333333333333333,
              "#9c179e"
             ],
             [
              0.4444444444444444,
              "#bd3786"
             ],
             [
              0.5555555555555556,
              "#d8576b"
             ],
             [
              0.6666666666666666,
              "#ed7953"
             ],
             [
              0.7777777777777778,
              "#fb9f3a"
             ],
             [
              0.8888888888888888,
              "#fdca26"
             ],
             [
              1,
              "#f0f921"
             ]
            ],
            "type": "histogram2dcontour"
           }
          ],
          "mesh3d": [
           {
            "colorbar": {
             "outlinewidth": 0,
             "ticks": ""
            },
            "type": "mesh3d"
           }
          ],
          "parcoords": [
           {
            "line": {
             "colorbar": {
              "outlinewidth": 0,
              "ticks": ""
             }
            },
            "type": "parcoords"
           }
          ],
          "pie": [
           {
            "automargin": true,
            "type": "pie"
           }
          ],
          "scatter": [
           {
            "marker": {
             "colorbar": {
              "outlinewidth": 0,
              "ticks": ""
             }
            },
            "type": "scatter"
           }
          ],
          "scatter3d": [
           {
            "line": {
             "colorbar": {
              "outlinewidth": 0,
              "ticks": ""
             }
            },
            "marker": {
             "colorbar": {
              "outlinewidth": 0,
              "ticks": ""
             }
            },
            "type": "scatter3d"
           }
          ],
          "scattercarpet": [
           {
            "marker": {
             "colorbar": {
              "outlinewidth": 0,
              "ticks": ""
             }
            },
            "type": "scattercarpet"
           }
          ],
          "scattergeo": [
           {
            "marker": {
             "colorbar": {
              "outlinewidth": 0,
              "ticks": ""
             }
            },
            "type": "scattergeo"
           }
          ],
          "scattergl": [
           {
            "marker": {
             "colorbar": {
              "outlinewidth": 0,
              "ticks": ""
             }
            },
            "type": "scattergl"
           }
          ],
          "scattermapbox": [
           {
            "marker": {
             "colorbar": {
              "outlinewidth": 0,
              "ticks": ""
             }
            },
            "type": "scattermapbox"
           }
          ],
          "scatterpolar": [
           {
            "marker": {
             "colorbar": {
              "outlinewidth": 0,
              "ticks": ""
             }
            },
            "type": "scatterpolar"
           }
          ],
          "scatterpolargl": [
           {
            "marker": {
             "colorbar": {
              "outlinewidth": 0,
              "ticks": ""
             }
            },
            "type": "scatterpolargl"
           }
          ],
          "scatterternary": [
           {
            "marker": {
             "colorbar": {
              "outlinewidth": 0,
              "ticks": ""
             }
            },
            "type": "scatterternary"
           }
          ],
          "surface": [
           {
            "colorbar": {
             "outlinewidth": 0,
             "ticks": ""
            },
            "colorscale": [
             [
              0,
              "#0d0887"
             ],
             [
              0.1111111111111111,
              "#46039f"
             ],
             [
              0.2222222222222222,
              "#7201a8"
             ],
             [
              0.3333333333333333,
              "#9c179e"
             ],
             [
              0.4444444444444444,
              "#bd3786"
             ],
             [
              0.5555555555555556,
              "#d8576b"
             ],
             [
              0.6666666666666666,
              "#ed7953"
             ],
             [
              0.7777777777777778,
              "#fb9f3a"
             ],
             [
              0.8888888888888888,
              "#fdca26"
             ],
             [
              1,
              "#f0f921"
             ]
            ],
            "type": "surface"
           }
          ],
          "table": [
           {
            "cells": {
             "fill": {
              "color": "#EBF0F8"
             },
             "line": {
              "color": "white"
             }
            },
            "header": {
             "fill": {
              "color": "#C8D4E3"
             },
             "line": {
              "color": "white"
             }
            },
            "type": "table"
           }
          ]
         },
         "layout": {
          "annotationdefaults": {
           "arrowcolor": "#2a3f5f",
           "arrowhead": 0,
           "arrowwidth": 1
          },
          "autotypenumbers": "strict",
          "coloraxis": {
           "colorbar": {
            "outlinewidth": 0,
            "ticks": ""
           }
          },
          "colorscale": {
           "diverging": [
            [
             0,
             "#8e0152"
            ],
            [
             0.1,
             "#c51b7d"
            ],
            [
             0.2,
             "#de77ae"
            ],
            [
             0.3,
             "#f1b6da"
            ],
            [
             0.4,
             "#fde0ef"
            ],
            [
             0.5,
             "#f7f7f7"
            ],
            [
             0.6,
             "#e6f5d0"
            ],
            [
             0.7,
             "#b8e186"
            ],
            [
             0.8,
             "#7fbc41"
            ],
            [
             0.9,
             "#4d9221"
            ],
            [
             1,
             "#276419"
            ]
           ],
           "sequential": [
            [
             0,
             "#0d0887"
            ],
            [
             0.1111111111111111,
             "#46039f"
            ],
            [
             0.2222222222222222,
             "#7201a8"
            ],
            [
             0.3333333333333333,
             "#9c179e"
            ],
            [
             0.4444444444444444,
             "#bd3786"
            ],
            [
             0.5555555555555556,
             "#d8576b"
            ],
            [
             0.6666666666666666,
             "#ed7953"
            ],
            [
             0.7777777777777778,
             "#fb9f3a"
            ],
            [
             0.8888888888888888,
             "#fdca26"
            ],
            [
             1,
             "#f0f921"
            ]
           ],
           "sequentialminus": [
            [
             0,
             "#0d0887"
            ],
            [
             0.1111111111111111,
             "#46039f"
            ],
            [
             0.2222222222222222,
             "#7201a8"
            ],
            [
             0.3333333333333333,
             "#9c179e"
            ],
            [
             0.4444444444444444,
             "#bd3786"
            ],
            [
             0.5555555555555556,
             "#d8576b"
            ],
            [
             0.6666666666666666,
             "#ed7953"
            ],
            [
             0.7777777777777778,
             "#fb9f3a"
            ],
            [
             0.8888888888888888,
             "#fdca26"
            ],
            [
             1,
             "#f0f921"
            ]
           ]
          },
          "colorway": [
           "#636efa",
           "#EF553B",
           "#00cc96",
           "#ab63fa",
           "#FFA15A",
           "#19d3f3",
           "#FF6692",
           "#B6E880",
           "#FF97FF",
           "#FECB52"
          ],
          "font": {
           "color": "#2a3f5f"
          },
          "geo": {
           "bgcolor": "white",
           "lakecolor": "white",
           "landcolor": "#E5ECF6",
           "showlakes": true,
           "showland": true,
           "subunitcolor": "white"
          },
          "hoverlabel": {
           "align": "left"
          },
          "hovermode": "closest",
          "mapbox": {
           "style": "light"
          },
          "paper_bgcolor": "white",
          "plot_bgcolor": "#E5ECF6",
          "polar": {
           "angularaxis": {
            "gridcolor": "white",
            "linecolor": "white",
            "ticks": ""
           },
           "bgcolor": "#E5ECF6",
           "radialaxis": {
            "gridcolor": "white",
            "linecolor": "white",
            "ticks": ""
           }
          },
          "scene": {
           "xaxis": {
            "backgroundcolor": "#E5ECF6",
            "gridcolor": "white",
            "gridwidth": 2,
            "linecolor": "white",
            "showbackground": true,
            "ticks": "",
            "zerolinecolor": "white"
           },
           "yaxis": {
            "backgroundcolor": "#E5ECF6",
            "gridcolor": "white",
            "gridwidth": 2,
            "linecolor": "white",
            "showbackground": true,
            "ticks": "",
            "zerolinecolor": "white"
           },
           "zaxis": {
            "backgroundcolor": "#E5ECF6",
            "gridcolor": "white",
            "gridwidth": 2,
            "linecolor": "white",
            "showbackground": true,
            "ticks": "",
            "zerolinecolor": "white"
           }
          },
          "shapedefaults": {
           "line": {
            "color": "#2a3f5f"
           }
          },
          "ternary": {
           "aaxis": {
            "gridcolor": "white",
            "linecolor": "white",
            "ticks": ""
           },
           "baxis": {
            "gridcolor": "white",
            "linecolor": "white",
            "ticks": ""
           },
           "bgcolor": "#E5ECF6",
           "caxis": {
            "gridcolor": "white",
            "linecolor": "white",
            "ticks": ""
           }
          },
          "title": {
           "x": 0.05
          },
          "xaxis": {
           "automargin": true,
           "gridcolor": "white",
           "linecolor": "white",
           "ticks": "",
           "title": {
            "standoff": 15
           },
           "zerolinecolor": "white",
           "zerolinewidth": 2
          },
          "yaxis": {
           "automargin": true,
           "gridcolor": "white",
           "linecolor": "white",
           "ticks": "",
           "title": {
            "standoff": 15
           },
           "zerolinecolor": "white",
           "zerolinewidth": 2
          }
         }
        },
        "title": {
         "font": {
          "color": "#4D5663"
         }
        },
        "xaxis": {
         "gridcolor": "#E1E5ED",
         "showgrid": true,
         "tickfont": {
          "color": "#4D5663"
         },
         "title": {
          "font": {
           "color": "#4D5663"
          },
          "text": "Almonds Price"
         },
         "zerolinecolor": "#E1E5ED"
        },
        "yaxis": {
         "gridcolor": "#E1E5ED",
         "showgrid": true,
         "tickfont": {
          "color": "#4D5663"
         },
         "title": {
          "font": {
           "color": "#4D5663"
          },
          "text": "Hectograms"
         },
         "zerolinecolor": "#E1E5ED"
        }
       }
      },
      "text/html": [
       "<div>                            <div id=\"da28eca0-a8b5-4b09-b72a-4eae7c209e7b\" class=\"plotly-graph-div\" style=\"height:525px; width:100%;\"></div>            <script type=\"text/javascript\">                require([\"plotly\"], function(Plotly) {                    window.PLOTLYENV=window.PLOTLYENV || {};\n",
       "                    window.PLOTLYENV.BASE_URL='https://plot.ly';                                    if (document.getElementById(\"da28eca0-a8b5-4b09-b72a-4eae7c209e7b\")) {                    Plotly.newPlot(                        \"da28eca0-a8b5-4b09-b72a-4eae7c209e7b\",                        [{\"line\": {\"color\": \"rgba(255, 153, 51, 1.0)\", \"dash\": \"solid\", \"shape\": \"linear\", \"width\": 1.3}, \"mode\": \"lines\", \"name\": \"Greek Yogurt\", \"text\": \"\", \"type\": \"scatter\", \"x\": [0.10229448965378318, 0.15344173448067477, 0.18413008137680972, 0.20458897930756637, 0.225047877238323, 0.24550677516907962, 0.26596567309983626, 0.2864245710305929, 0.30688346896134955, 0.40917795861513273, 0.8183559172302655], \"y\": [4.790007308677583e-10, 6.464643065389027e-11, 2.59455676814781e-07, 8.973490844213209e-09, 1.480445798449782e-08, 1.5417834019037077e-06, 2.18633021170951e-06, 5.1020251338802604e-08, 2.2224638374667665e-07, 1.3902013016222825e-10, 1.0509402502289713e-06]}, {\"line\": {\"color\": \"rgba(55, 128, 191, 1.0)\", \"dash\": \"solid\", \"shape\": \"linear\", \"width\": 1.3}, \"mode\": \"lines\", \"name\": \"Black Beans\", \"text\": \"\", \"type\": \"scatter\", \"x\": [0.10229448965378318, 0.15344173448067477, 0.18413008137680972, 0.20458897930756637, 0.225047877238323, 0.24550677516907962, 0.26596567309983626, 0.2864245710305929, 0.30688346896134955, 0.40917795861513273, 0.8183559172302655], \"y\": [1.266776080485095e-09, 1.645861082002032e-10, 6.488871067395775e-07, 2.2630289025009966e-08, 3.698428645586202e-08, 3.7697718643005704e-06, 5.296427305372551e-06, 1.2423316083660411e-07, 5.267616302439425e-07, 3.1280870213246203e-10, 1.2842462035761595e-07]}, {\"line\": {\"color\": \"rgba(50, 171, 96, 1.0)\", \"dash\": \"solid\", \"shape\": \"linear\", \"width\": 1.3}, \"mode\": \"lines\", \"name\": \"Almonds\", \"text\": \"\", \"type\": \"scatter\", \"x\": [0.10229448965378318, 0.15344173448067477, 0.18413008137680972, 0.20458897930756637, 0.225047877238323, 0.24550677516907962, 0.26596567309983626, 0.2864245710305929, 0.30688346896134955, 0.40917795861513273, 0.8183559172302655], \"y\": [3.239465641817044, 2.874842519282557, 2.874842692335335, 2.8748425195338787, 2.8748424703924464, 2.8748373666793063, 2.8748351783105495, 2.8748421265938924, 2.87484136452615, 2.874842518217187, 1.056251197124756]}, {\"line\": {\"color\": \"rgba(128, 0, 128, 1.0)\", \"dash\": \"solid\", \"shape\": \"linear\", \"width\": 1.3}, \"mode\": \"lines\", \"name\": \"Salsa\", \"text\": \"\", \"type\": \"scatter\", \"x\": [0.10229448965378318, 0.15344173448067477, 0.18413008137680972, 0.20458897930756637, 0.225047877238323, 0.24550677516907962, 0.26596567309983626, 0.2864245710305929, 0.30688346896134955, 0.40917795861513273, 0.8183559172302655], \"y\": [5.462725052703838e-10, 2.4700778801610893e-10, 3.0959406210895393e-07, 3.152029022226779e-08, 5.196719828696787e-08, 1.8098352138586159e-06, 2.548131833498586e-06, 1.240868975053394e-07, 3.958289991491638e-07, 2.3774709420652536e-10, 1.3608667633959855e-07]}, {\"line\": {\"color\": \"rgba(219, 64, 82, 1.0)\", \"dash\": \"solid\", \"shape\": \"linear\", \"width\": 1.3}, \"mode\": \"lines\", \"name\": \"Brown Rice\", \"text\": \"\", \"type\": \"scatter\", \"x\": [0.10229448965378318, 0.15344173448067477, 0.18413008137680972, 0.20458897930756637, 0.225047877238323, 0.24550677516907962, 0.26596567309983626, 0.2864245710305929, 0.30688346896134955, 0.40917795861513273, 0.8183559172302655], \"y\": [7.372368869327521e-10, 1.0270106650950766e-10, 3.5869793782069254e-07, 1.350042918430373e-08, 2.136813015238082e-08, 1.8979086593465149e-06, 2.648415992139491e-06, 6.497005221181623e-08, 2.529275364867958e-07, 1.3833941256030514e-10, 8.852220350304473e-08]}, {\"line\": {\"color\": \"rgba(0, 128, 128, 1.0)\", \"dash\": \"solid\", \"shape\": \"linear\", \"width\": 1.3}, \"mode\": \"lines\", \"name\": \"Green beans (canned)\", \"text\": \"\", \"type\": \"scatter\", \"x\": [0.10229448965378318, 0.15344173448067477, 0.18413008137680972, 0.20458897930756637, 0.225047877238323, 0.24550677516907962, 0.26596567309983626, 0.2864245710305929, 0.30688346896134955, 0.40917795861513273, 0.8183559172302655], \"y\": [1.3171637724681575e-09, 3.512169162654043e-10, 7.530763863264556e-07, 4.2880652372869806e-08, 1.8180705685243385e-08, 3.824354026378982e-06, 6.335786487049398e-06, 5.355633939425812e-08, 5.029459275575808e-07, 3.178531782263242e-10, 8.530298940128797e-07]}, {\"line\": {\"color\": \"rgba(255, 255, 51, 1.0)\", \"dash\": \"solid\", \"shape\": \"linear\", \"width\": 1.3}, \"mode\": \"lines\", \"name\": \"Spinach\", \"text\": \"\", \"type\": \"scatter\", \"x\": [0.10229448965378318, 0.15344173448067477, 0.18413008137680972, 0.20458897930756637, 0.225047877238323, 0.24550677516907962, 0.26596567309983626, 0.2864245710305929, 0.30688346896134955, 0.40917795861513273, 0.8183559172302655], \"y\": [4.865619666468895e-08, 0.17148159830597082, 0.17148097336417423, 0.1714811891039142, 0.17148093552290622, 0.1714753637034254, 0.17147229241468248, 0.17148110841017103, 0.17148393012895613, 0.17148160761293296, 0.24017755776479582]}, {\"line\": {\"color\": \"rgba(128, 128, 0, 1.0)\", \"dash\": \"solid\", \"shape\": \"linear\", \"width\": 1.3}, \"mode\": \"lines\", \"name\": \"Whole-grain cereal (Honey Nut Cheerios)\", \"text\": \"\", \"type\": \"scatter\", \"x\": [0.10229448965378318, 0.15344173448067477, 0.18413008137680972, 0.20458897930756637, 0.225047877238323, 0.24550677516907962, 0.26596567309983626, 0.2864245710305929, 0.30688346896134955, 0.40917795861513273, 0.8183559172302655], \"y\": [0.32000000075792195, 0.3200000004946983, 0.32000019129388774, 0.3200000631904131, 0.3200001106531584, 0.320001531139969, 0.3200021649395327, 0.320000240882163, 0.3200001736324955, 0.32000000008392093, 0.4414223294887582]}, {\"line\": {\"color\": \"rgba(251, 128, 114, 1.0)\", \"dash\": \"solid\", \"shape\": \"linear\", \"width\": 1.3}, \"mode\": \"lines\", \"name\": \"Oatmeal\", \"text\": \"\", \"type\": \"scatter\", \"x\": [0.10229448965378318, 0.15344173448067477, 0.18413008137680972, 0.20458897930756637, 0.225047877238323, 0.24550677516907962, 0.26596567309983626, 0.2864245710305929, 0.30688346896134955, 0.40917795861513273, 0.8183559172302655], \"y\": [5.641003048432373e-10, 6.908633558923436e-11, 2.8326542879713996e-07, 9.297756304163779e-09, 1.4981896643726992e-08, 1.638420310366363e-06, 2.2900143847566407e-06, 5.062354962245526e-08, 2.2332187000064004e-07, 1.2608414152397903e-10, 1.3602735554393861e-07]}, {\"line\": {\"color\": \"rgba(128, 177, 211, 1.0)\", \"dash\": \"solid\", \"shape\": \"linear\", \"width\": 1.3}, \"mode\": \"lines\", \"name\": \"Potatoes\", \"text\": \"\", \"type\": \"scatter\", \"x\": [0.10229448965378318, 0.15344173448067477, 0.18413008137680972, 0.20458897930756637, 0.225047877238323, 0.24550677516907962, 0.26596567309983626, 0.2864245710305929, 0.30688346896134955, 0.40917795861513273, 0.8183559172302655], \"y\": [5.013627563982157e-10, 5.938510479302404e-11, 2.3021119854849653e-07, 7.48081736781161e-09, 1.1719987623114063e-08, 1.2922857688364524e-06, 1.7689643086509235e-06, 3.678717395700086e-08, 1.6597036904211637e-07, 8.516296385559679e-11, 5.8152672067036e-08]}, {\"line\": {\"color\": \"rgba(128, 177, 211, 0.8999999999999999)\", \"dash\": \"solid\", \"shape\": \"linear\", \"width\": 1.3}, \"mode\": \"lines\", \"name\": \"Salad greens\", \"text\": \"\", \"type\": \"scatter\", \"x\": [0.10229448965378318, 0.15344173448067477, 0.18413008137680972, 0.20458897930756637, 0.225047877238323, 0.24550677516907962, 0.26596567309983626, 0.2864245710305929, 0.30688346896134955, 0.40917795861513273, 0.8183559172302655], \"y\": [0.5580447099282351, 0.13904283347109975, 0.13904437247258505, 0.13904385700533792, 0.13904450607743413, 0.13905849736505926, 0.13906600186270096, 0.13904411327312508, 0.13903707590790598, 0.13904281039463914, 1.3426169344708685e-05]}, {\"line\": {\"color\": \"rgba(255, 153, 51, 0.8999999999999999)\", \"dash\": \"solid\", \"shape\": \"linear\", \"width\": 1.3}, \"mode\": \"lines\", \"name\": \"Sweet Potato\", \"text\": \"\", \"type\": \"scatter\", \"x\": [0.10229448965378318, 0.15344173448067477, 0.18413008137680972, 0.20458897930756637, 0.225047877238323, 0.24550677516907962, 0.26596567309983626, 0.2864245710305929, 0.30688346896134955, 0.40917795861513273, 0.8183559172302655], \"y\": [3.859311797405998e-10, 4.7494931297744145e-11, 1.8090141729522337e-07, 5.998220949977802e-09, 9.362028474757487e-09, 1.031385424403257e-06, 1.4187408146712072e-06, 2.9351156680501587e-08, 1.3378031461537147e-07, 6.969271828005586e-11, 5.251752137919571e-08]}, {\"line\": {\"color\": \"rgba(55, 128, 191, 0.8999999999999999)\", \"dash\": \"solid\", \"shape\": \"linear\", \"width\": 1.3}, \"mode\": \"lines\", \"name\": \"Onions\", \"text\": \"\", \"type\": \"scatter\", \"x\": [0.10229448965378318, 0.15344173448067477, 0.18413008137680972, 0.20458897930756637, 0.225047877238323, 0.24550677516907962, 0.26596567309983626, 0.2864245710305929, 0.30688346896134955, 0.40917795861513273, 0.8183559172302655], \"y\": [2.2863563186907974e-09, 2.840687704663446e-10, 1.1509070202559474e-06, 4.236776224525546e-08, 6.569985391240882e-08, 6.786712679879586e-06, 9.516736255772134e-06, 1.9619010999032253e-07, 8.914063153325861e-07, 4.979306815201789e-10, 3.501124559765725e-07]}, {\"line\": {\"color\": \"rgba(50, 171, 96, 0.8999999999999999)\", \"dash\": \"solid\", \"shape\": \"linear\", \"width\": 1.3}, \"mode\": \"lines\", \"name\": \"Popcorn (kernels no additives)\", \"text\": \"\", \"type\": \"scatter\", \"x\": [0.10229448965378318, 0.15344173448067477, 0.18413008137680972, 0.20458897930756637, 0.225047877238323, 0.24550677516907962, 0.26596567309983626, 0.2864245710305929, 0.30688346896134955, 0.40917795861513273, 0.8183559172302655], \"y\": [6.181715377047576e-10, 7.087498077349801e-11, 3.3593056685007936e-07, 1.1577333872779348e-08, 1.9721591308152642e-08, 1.7100628613725766e-06, 2.423622248851246e-06, 7.704407688617551e-08, 2.2808809996581655e-07, 1.196411902083999e-10, 7.050373109272378e-08]}, {\"line\": {\"color\": \"rgba(128, 0, 128, 0.8999999999999999)\", \"dash\": \"solid\", \"shape\": \"linear\", \"width\": 1.3}, \"mode\": \"lines\", \"name\": \"Steel cut oats\", \"text\": \"\", \"type\": \"scatter\", \"x\": [0.10229448965378318, 0.15344173448067477, 0.18413008137680972, 0.20458897930756637, 0.225047877238323, 0.24550677516907962, 0.26596567309983626, 0.2864245710305929, 0.30688346896134955, 0.40917795861513273, 0.8183559172302655], \"y\": [4.207249159107017e-10, 5.4196938689745666e-11, 2.00373351298274e-07, 7.105940430216877e-09, 1.1230648847062284e-08, 1.0800687456430978e-06, 1.495758584685138e-06, 3.4430035059602194e-08, 1.4162840555873553e-07, 7.544478403917261e-11, 4.5084725373618356e-08]}, {\"line\": {\"color\": \"rgba(219, 64, 82, 0.8999999999999999)\", \"dash\": \"solid\", \"shape\": \"linear\", \"width\": 1.3}, \"mode\": \"lines\", \"name\": \"Frozen vegetables\", \"text\": \"\", \"type\": \"scatter\", \"x\": [0.10229448965378318, 0.15344173448067477, 0.18413008137680972, 0.20458897930756637, 0.225047877238323, 0.24550677516907962, 0.26596567309983626, 0.2864245710305929, 0.30688346896134955, 0.40917795861513273, 0.8183559172302655], \"y\": [1.7637600045792359, 2.279692750220925, 2.2796906579507, 2.2796913045110596, 2.279690364790878, 2.2796703648572794, 2.279660088320301, 2.2796904872082098, 2.2796995618084965, 2.279692780053994, 2.051201310293751]}, {\"line\": {\"color\": \"rgba(0, 128, 128, 0.8999999999999999)\", \"dash\": \"solid\", \"shape\": \"linear\", \"width\": 1.3}, \"mode\": \"lines\", \"name\": \"Apples\", \"text\": \"\", \"type\": \"scatter\", \"x\": [0.10229448965378318, 0.15344173448067477, 0.18413008137680972, 0.20458897930756637, 0.225047877238323, 0.24550677516907962, 0.26596567309983626, 0.2864245710305929, 0.30688346896134955, 0.40917795861513273, 0.8183559172302655], \"y\": [4.1324493270968994e-10, 5.258312664796861e-11, 1.9807571198200994e-07, 6.9249946431946535e-09, 1.1048314928967784e-08, 1.0587662691264216e-06, 1.4626215290731814e-06, 3.470628586892065e-08, 1.385013144270548e-07, 7.318446207746535e-11, 4.7084448477202623e-08]}, {\"line\": {\"color\": \"rgba(255, 255, 51, 0.8999999999999999)\", \"dash\": \"solid\", \"shape\": \"linear\", \"width\": 1.3}, \"mode\": \"lines\", \"name\": \"Strawberries\", \"text\": \"\", \"type\": \"scatter\", \"x\": [0.10229448965378318, 0.15344173448067477, 0.18413008137680972, 0.20458897930756637, 0.225047877238323, 0.24550677516907962, 0.26596567309983626, 0.2864245710305929, 0.30688346896134955, 0.40917795861513273, 0.8183559172302655], \"y\": [2.8872068795830373e-10, 3.57985173352482e-11, 1.393017269289236e-07, 4.813142752649036e-09, 7.824926953738201e-09, 7.312704249497094e-07, 1.0067928441299665e-06, 2.5442535520612167e-08, 9.605638965419e-08, 5.131595037285762e-11, 3.309933270902393e-08]}, {\"line\": {\"color\": \"rgba(128, 128, 0, 0.8999999999999999)\", \"dash\": \"solid\", \"shape\": \"linear\", \"width\": 1.3}, \"mode\": \"lines\", \"name\": \"Pinto beans\", \"text\": \"\", \"type\": \"scatter\", \"x\": [0.10229448965378318, 0.15344173448067477, 0.18413008137680972, 0.20458897930756637, 0.225047877238323, 0.24550677516907962, 0.26596567309983626, 0.2864245710305929, 0.30688346896134955, 0.40917795861513273, 0.8183559172302655], \"y\": [0.8564192515420445, 0.9512289835806734, 0.9512287512796672, 0.9512290825402189, 0.9512291609637815, 0.9512299821757474, 0.9512298962178676, 0.9512291383673737, 0.9512283085073959, 0.9512289813252244, 2.7727313872253207e-07]}, {\"line\": {\"color\": \"rgba(251, 128, 114, 0.8999999999999999)\", \"dash\": \"solid\", \"shape\": \"linear\", \"width\": 1.3}, \"mode\": \"lines\", \"name\": \"Broccoli\", \"text\": \"\", \"type\": \"scatter\", \"x\": [0.10229448965378318, 0.15344173448067477, 0.18413008137680972, 0.20458897930756637, 0.225047877238323, 0.24550677516907962, 0.26596567309983626, 0.2864245710305929, 0.30688346896134955, 0.40917795861513273, 0.8183559172302655], \"y\": [7.772203446123951e-10, 7.32115771687951e-11, 3.498193383715657e-07, 9.627420343281121e-09, 1.5391615163608926e-08, 2.0305752780929597e-06, 2.7190020232219014e-06, 5.478860837432251e-08, 2.5963089530882283e-07, 1.2328380039461223e-10, 9.104393909038201e-08]}, {\"line\": {\"color\": \"rgba(251, 128, 114, 0.7999999999999998)\", \"dash\": \"solid\", \"shape\": \"linear\", \"width\": 1.3}, \"mode\": \"lines\", \"name\": \"Peanut butter\", \"text\": \"\", \"type\": \"scatter\", \"x\": [0.10229448965378318, 0.15344173448067477, 0.18413008137680972, 0.20458897930756637, 0.225047877238323, 0.24550677516907962, 0.26596567309983626, 0.2864245710305929, 0.30688346896134955, 0.40917795861513273, 0.8183559172302655], \"y\": [1.7647295584563278e-09, 3.828193508111481e-10, 1.1848837468116344e-06, 6.178236532239798e-08, 1.1070743125077522e-07, 7.891981174482893e-06, 1.209386433407932e-05, 4.801525915705462e-07, 1.403878057644768e-06, 1.6127165047207987e-09, 7.212447110095538]}, {\"line\": {\"color\": \"rgba(128, 177, 211, 0.7999999999999998)\", \"dash\": \"solid\", \"shape\": \"linear\", \"width\": 1.3}, \"mode\": \"lines\", \"name\": \"Frozen fruit mix\", \"text\": \"\", \"type\": \"scatter\", \"x\": [0.10229448965378318, 0.15344173448067477, 0.18413008137680972, 0.20458897930756637, 0.225047877238323, 0.24550677516907962, 0.26596567309983626, 0.2864245710305929, 0.30688346896134955, 0.40917795861513273, 0.8183559172302655], \"y\": [5.137160746187976e-10, 6.063670618588339e-11, 2.336570419461357e-07, 7.687131009566627e-09, 1.2121359471203947e-08, 1.293377526285429e-06, 1.768154095446697e-06, 3.8453512133537316e-08, 1.656033698641361e-07, 8.452949073295783e-11, 5.441469647229472e-08]}, {\"line\": {\"color\": \"rgba(255, 153, 51, 0.7999999999999998)\", \"dash\": \"solid\", \"shape\": \"linear\", \"width\": 1.3}, \"mode\": \"lines\", \"name\": \"Bananas\", \"text\": \"\", \"type\": \"scatter\", \"x\": [0.10229448965378318, 0.15344173448067477, 0.18413008137680972, 0.20458897930756637, 0.225047877238323, 0.24550677516907962, 0.26596567309983626, 0.2864245710305929, 0.30688346896134955, 0.40917795861513273, 0.8183559172302655], \"y\": [7.904233728949749e-10, 8.989678252447189e-11, 3.515545843509301e-07, 1.1289199073503114e-08, 1.738242529032876e-08, 2.0337353937088887e-06, 2.7679329623449717e-06, 5.363945765098178e-08, 2.5425892551184943e-07, 1.3001085844403207e-10, 7.635101389354959e-08]}, {\"line\": {\"color\": \"rgba(55, 128, 191, 0.7999999999999998)\", \"dash\": \"solid\", \"shape\": \"linear\", \"width\": 1.3}, \"mode\": \"lines\", \"name\": \"Oranges\", \"text\": \"\", \"type\": \"scatter\", \"x\": [0.10229448965378318, 0.15344173448067477, 0.18413008137680972, 0.20458897930756637, 0.225047877238323, 0.24550677516907962, 0.26596567309983626, 0.2864245710305929, 0.30688346896134955, 0.40917795861513273, 0.8183559172302655], \"y\": [1.102827117988389, 0.9977056980737067, 0.99770545592674, 0.9977059453900395, 0.9977061021380721, 0.9977060800798012, 0.9977069063802338, 0.9977059473035579, 0.9977038087187162, 0.9977056922174411, 0.9858628932093801]}],                        {\"legend\": {\"bgcolor\": \"#F5F6F9\", \"font\": {\"color\": \"#4D5663\"}}, \"paper_bgcolor\": \"#F5F6F9\", \"plot_bgcolor\": \"#F5F6F9\", \"template\": {\"data\": {\"bar\": [{\"error_x\": {\"color\": \"#2a3f5f\"}, \"error_y\": {\"color\": \"#2a3f5f\"}, \"marker\": {\"line\": {\"color\": \"#E5ECF6\", \"width\": 0.5}}, \"type\": \"bar\"}], \"barpolar\": [{\"marker\": {\"line\": {\"color\": \"#E5ECF6\", \"width\": 0.5}}, \"type\": \"barpolar\"}], \"carpet\": [{\"aaxis\": {\"endlinecolor\": \"#2a3f5f\", \"gridcolor\": \"white\", \"linecolor\": \"white\", \"minorgridcolor\": \"white\", \"startlinecolor\": \"#2a3f5f\"}, \"baxis\": {\"endlinecolor\": \"#2a3f5f\", \"gridcolor\": \"white\", \"linecolor\": \"white\", \"minorgridcolor\": \"white\", \"startlinecolor\": \"#2a3f5f\"}, \"type\": \"carpet\"}], \"choropleth\": [{\"colorbar\": {\"outlinewidth\": 0, \"ticks\": \"\"}, \"type\": \"choropleth\"}], \"contour\": [{\"colorbar\": {\"outlinewidth\": 0, \"ticks\": \"\"}, \"colorscale\": [[0.0, \"#0d0887\"], [0.1111111111111111, \"#46039f\"], [0.2222222222222222, \"#7201a8\"], [0.3333333333333333, \"#9c179e\"], [0.4444444444444444, \"#bd3786\"], [0.5555555555555556, \"#d8576b\"], [0.6666666666666666, \"#ed7953\"], [0.7777777777777778, \"#fb9f3a\"], [0.8888888888888888, \"#fdca26\"], [1.0, \"#f0f921\"]], \"type\": \"contour\"}], \"contourcarpet\": [{\"colorbar\": {\"outlinewidth\": 0, \"ticks\": \"\"}, \"type\": \"contourcarpet\"}], \"heatmap\": [{\"colorbar\": {\"outlinewidth\": 0, \"ticks\": \"\"}, \"colorscale\": [[0.0, \"#0d0887\"], [0.1111111111111111, \"#46039f\"], [0.2222222222222222, \"#7201a8\"], [0.3333333333333333, \"#9c179e\"], [0.4444444444444444, \"#bd3786\"], [0.5555555555555556, \"#d8576b\"], [0.6666666666666666, \"#ed7953\"], [0.7777777777777778, \"#fb9f3a\"], [0.8888888888888888, \"#fdca26\"], [1.0, \"#f0f921\"]], \"type\": \"heatmap\"}], \"heatmapgl\": [{\"colorbar\": {\"outlinewidth\": 0, \"ticks\": \"\"}, \"colorscale\": [[0.0, \"#0d0887\"], [0.1111111111111111, \"#46039f\"], [0.2222222222222222, \"#7201a8\"], [0.3333333333333333, \"#9c179e\"], [0.4444444444444444, \"#bd3786\"], [0.5555555555555556, \"#d8576b\"], [0.6666666666666666, \"#ed7953\"], [0.7777777777777778, \"#fb9f3a\"], [0.8888888888888888, \"#fdca26\"], [1.0, \"#f0f921\"]], \"type\": \"heatmapgl\"}], \"histogram\": [{\"marker\": {\"colorbar\": {\"outlinewidth\": 0, \"ticks\": \"\"}}, \"type\": \"histogram\"}], \"histogram2d\": [{\"colorbar\": {\"outlinewidth\": 0, \"ticks\": \"\"}, \"colorscale\": [[0.0, \"#0d0887\"], [0.1111111111111111, \"#46039f\"], [0.2222222222222222, \"#7201a8\"], [0.3333333333333333, \"#9c179e\"], [0.4444444444444444, \"#bd3786\"], [0.5555555555555556, \"#d8576b\"], [0.6666666666666666, \"#ed7953\"], [0.7777777777777778, \"#fb9f3a\"], [0.8888888888888888, \"#fdca26\"], [1.0, \"#f0f921\"]], \"type\": \"histogram2d\"}], \"histogram2dcontour\": [{\"colorbar\": {\"outlinewidth\": 0, \"ticks\": \"\"}, \"colorscale\": [[0.0, \"#0d0887\"], [0.1111111111111111, \"#46039f\"], [0.2222222222222222, \"#7201a8\"], [0.3333333333333333, \"#9c179e\"], [0.4444444444444444, \"#bd3786\"], [0.5555555555555556, \"#d8576b\"], [0.6666666666666666, \"#ed7953\"], [0.7777777777777778, \"#fb9f3a\"], [0.8888888888888888, \"#fdca26\"], [1.0, \"#f0f921\"]], \"type\": \"histogram2dcontour\"}], \"mesh3d\": [{\"colorbar\": {\"outlinewidth\": 0, \"ticks\": \"\"}, \"type\": \"mesh3d\"}], \"parcoords\": [{\"line\": {\"colorbar\": {\"outlinewidth\": 0, \"ticks\": \"\"}}, \"type\": \"parcoords\"}], \"pie\": [{\"automargin\": true, \"type\": \"pie\"}], \"scatter\": [{\"marker\": {\"colorbar\": {\"outlinewidth\": 0, \"ticks\": \"\"}}, \"type\": \"scatter\"}], \"scatter3d\": [{\"line\": {\"colorbar\": {\"outlinewidth\": 0, \"ticks\": \"\"}}, \"marker\": {\"colorbar\": {\"outlinewidth\": 0, \"ticks\": \"\"}}, \"type\": \"scatter3d\"}], \"scattercarpet\": [{\"marker\": {\"colorbar\": {\"outlinewidth\": 0, \"ticks\": \"\"}}, \"type\": \"scattercarpet\"}], \"scattergeo\": [{\"marker\": {\"colorbar\": {\"outlinewidth\": 0, \"ticks\": \"\"}}, \"type\": \"scattergeo\"}], \"scattergl\": [{\"marker\": {\"colorbar\": {\"outlinewidth\": 0, \"ticks\": \"\"}}, \"type\": \"scattergl\"}], \"scattermapbox\": [{\"marker\": {\"colorbar\": {\"outlinewidth\": 0, \"ticks\": \"\"}}, \"type\": \"scattermapbox\"}], \"scatterpolar\": [{\"marker\": {\"colorbar\": {\"outlinewidth\": 0, \"ticks\": \"\"}}, \"type\": \"scatterpolar\"}], \"scatterpolargl\": [{\"marker\": {\"colorbar\": {\"outlinewidth\": 0, \"ticks\": \"\"}}, \"type\": \"scatterpolargl\"}], \"scatterternary\": [{\"marker\": {\"colorbar\": {\"outlinewidth\": 0, \"ticks\": \"\"}}, \"type\": \"scatterternary\"}], \"surface\": [{\"colorbar\": {\"outlinewidth\": 0, \"ticks\": \"\"}, \"colorscale\": [[0.0, \"#0d0887\"], [0.1111111111111111, \"#46039f\"], [0.2222222222222222, \"#7201a8\"], [0.3333333333333333, \"#9c179e\"], [0.4444444444444444, \"#bd3786\"], [0.5555555555555556, \"#d8576b\"], [0.6666666666666666, \"#ed7953\"], [0.7777777777777778, \"#fb9f3a\"], [0.8888888888888888, \"#fdca26\"], [1.0, \"#f0f921\"]], \"type\": \"surface\"}], \"table\": [{\"cells\": {\"fill\": {\"color\": \"#EBF0F8\"}, \"line\": {\"color\": \"white\"}}, \"header\": {\"fill\": {\"color\": \"#C8D4E3\"}, \"line\": {\"color\": \"white\"}}, \"type\": \"table\"}]}, \"layout\": {\"annotationdefaults\": {\"arrowcolor\": \"#2a3f5f\", \"arrowhead\": 0, \"arrowwidth\": 1}, \"autotypenumbers\": \"strict\", \"coloraxis\": {\"colorbar\": {\"outlinewidth\": 0, \"ticks\": \"\"}}, \"colorscale\": {\"diverging\": [[0, \"#8e0152\"], [0.1, \"#c51b7d\"], [0.2, \"#de77ae\"], [0.3, \"#f1b6da\"], [0.4, \"#fde0ef\"], [0.5, \"#f7f7f7\"], [0.6, \"#e6f5d0\"], [0.7, \"#b8e186\"], [0.8, \"#7fbc41\"], [0.9, \"#4d9221\"], [1, \"#276419\"]], \"sequential\": [[0.0, \"#0d0887\"], [0.1111111111111111, \"#46039f\"], [0.2222222222222222, \"#7201a8\"], [0.3333333333333333, \"#9c179e\"], [0.4444444444444444, \"#bd3786\"], [0.5555555555555556, \"#d8576b\"], [0.6666666666666666, \"#ed7953\"], [0.7777777777777778, \"#fb9f3a\"], [0.8888888888888888, \"#fdca26\"], [1.0, \"#f0f921\"]], \"sequentialminus\": [[0.0, \"#0d0887\"], [0.1111111111111111, \"#46039f\"], [0.2222222222222222, \"#7201a8\"], [0.3333333333333333, \"#9c179e\"], [0.4444444444444444, \"#bd3786\"], [0.5555555555555556, \"#d8576b\"], [0.6666666666666666, \"#ed7953\"], [0.7777777777777778, \"#fb9f3a\"], [0.8888888888888888, \"#fdca26\"], [1.0, \"#f0f921\"]]}, \"colorway\": [\"#636efa\", \"#EF553B\", \"#00cc96\", \"#ab63fa\", \"#FFA15A\", \"#19d3f3\", \"#FF6692\", \"#B6E880\", \"#FF97FF\", \"#FECB52\"], \"font\": {\"color\": \"#2a3f5f\"}, \"geo\": {\"bgcolor\": \"white\", \"lakecolor\": \"white\", \"landcolor\": \"#E5ECF6\", \"showlakes\": true, \"showland\": true, \"subunitcolor\": \"white\"}, \"hoverlabel\": {\"align\": \"left\"}, \"hovermode\": \"closest\", \"mapbox\": {\"style\": \"light\"}, \"paper_bgcolor\": \"white\", \"plot_bgcolor\": \"#E5ECF6\", \"polar\": {\"angularaxis\": {\"gridcolor\": \"white\", \"linecolor\": \"white\", \"ticks\": \"\"}, \"bgcolor\": \"#E5ECF6\", \"radialaxis\": {\"gridcolor\": \"white\", \"linecolor\": \"white\", \"ticks\": \"\"}}, \"scene\": {\"xaxis\": {\"backgroundcolor\": \"#E5ECF6\", \"gridcolor\": \"white\", \"gridwidth\": 2, \"linecolor\": \"white\", \"showbackground\": true, \"ticks\": \"\", \"zerolinecolor\": \"white\"}, \"yaxis\": {\"backgroundcolor\": \"#E5ECF6\", \"gridcolor\": \"white\", \"gridwidth\": 2, \"linecolor\": \"white\", \"showbackground\": true, \"ticks\": \"\", \"zerolinecolor\": \"white\"}, \"zaxis\": {\"backgroundcolor\": \"#E5ECF6\", \"gridcolor\": \"white\", \"gridwidth\": 2, \"linecolor\": \"white\", \"showbackground\": true, \"ticks\": \"\", \"zerolinecolor\": \"white\"}}, \"shapedefaults\": {\"line\": {\"color\": \"#2a3f5f\"}}, \"ternary\": {\"aaxis\": {\"gridcolor\": \"white\", \"linecolor\": \"white\", \"ticks\": \"\"}, \"baxis\": {\"gridcolor\": \"white\", \"linecolor\": \"white\", \"ticks\": \"\"}, \"bgcolor\": \"#E5ECF6\", \"caxis\": {\"gridcolor\": \"white\", \"linecolor\": \"white\", \"ticks\": \"\"}}, \"title\": {\"x\": 0.05}, \"xaxis\": {\"automargin\": true, \"gridcolor\": \"white\", \"linecolor\": \"white\", \"ticks\": \"\", \"title\": {\"standoff\": 15}, \"zerolinecolor\": \"white\", \"zerolinewidth\": 2}, \"yaxis\": {\"automargin\": true, \"gridcolor\": \"white\", \"linecolor\": \"white\", \"ticks\": \"\", \"title\": {\"standoff\": 15}, \"zerolinecolor\": \"white\", \"zerolinewidth\": 2}}}, \"title\": {\"font\": {\"color\": \"#4D5663\"}}, \"xaxis\": {\"gridcolor\": \"#E1E5ED\", \"showgrid\": true, \"tickfont\": {\"color\": \"#4D5663\"}, \"title\": {\"font\": {\"color\": \"#4D5663\"}, \"text\": \"Almonds Price\"}, \"zerolinecolor\": \"#E1E5ED\"}, \"yaxis\": {\"gridcolor\": \"#E1E5ED\", \"showgrid\": true, \"tickfont\": {\"color\": \"#4D5663\"}, \"title\": {\"font\": {\"color\": \"#4D5663\"}, \"text\": \"Hectograms\"}, \"zerolinecolor\": \"#E1E5ED\"}},                        {\"showLink\": true, \"linkText\": \"Export to plot.ly\", \"plotlyServerURL\": \"https://plot.ly\", \"responsive\": true}                    ).then(function(){\n",
       "                            \n",
       "var gd = document.getElementById('da28eca0-a8b5-4b09-b72a-4eae7c209e7b');\n",
       "var x = new MutationObserver(function (mutations, observer) {{\n",
       "        var display = window.getComputedStyle(gd).display;\n",
       "        if (!display || display === 'none') {{\n",
       "            console.log([gd, 'removed!']);\n",
       "            Plotly.purge(gd);\n",
       "            observer.disconnect();\n",
       "        }}\n",
       "}});\n",
       "\n",
       "// Listen for the removal of the full notebook cells\n",
       "var notebookContainer = gd.closest('#notebook-container');\n",
       "if (notebookContainer) {{\n",
       "    x.observe(notebookContainer, {childList: true});\n",
       "}}\n",
       "\n",
       "// Listen for the clearing of the current output cell\n",
       "var outputEl = gd.closest('.output');\n",
       "if (outputEl) {{\n",
       "    x.observe(outputEl, {childList: true});\n",
       "}}\n",
       "\n",
       "                        })                };                });            </script>        </div>"
      ]
     },
     "metadata": {},
     "output_type": "display_data"
    }
   ],
   "source": [
    "import cufflinks as cf\n",
    "cf.go_offline()\n",
    "\n",
    "ReferenceGood = 'Almonds'\n",
    "\n",
    "scale = [0.5,0.75,0.9,1.,1.1,1.2,1.3,1.4,1.5,2,4]\n",
    "\n",
    "cost0 = solve_subsistence_problem(BudgetFoodNutrients,budget_friendly_diabetes_diet_prices,diet_min[group],diet_max[group],tol=tol)\n",
    "\n",
    "my_p = budget_friendly_diabetes_diet_prices.copy()\n",
    "\n",
    "diet = {}\n",
    "for s in scale:\n",
    "\n",
    "    my_p[ReferenceGood] = budget_friendly_diabetes_diet_prices[ReferenceGood]*s\n",
    "    result = solve_subsistence_problem(BudgetFoodNutrients,my_p,diet_min[group],diet_max[group],max_weight=12,tol=tol)\n",
    "    diet[my_p[ReferenceGood]] = result.diet\n",
    "\n",
    "Diet_response = pd.DataFrame(diet).T\n",
    "Diet_response.index.name = '%s Price' % ReferenceGood\n",
    "\n",
    "Diet_response.reset_index(inplace=True)\n",
    "\n",
    "# Get rid of units for index (cufflinks chokes)\n",
    "Diet_response['%s Price' % ReferenceGood] = Diet_response['%s Price' % ReferenceGood].apply(lambda x: x.magnitude)\n",
    "\n",
    "Diet_response = Diet_response.set_index('%s Price' % ReferenceGood)\n",
    "\n",
    "# Just look at goods consumed in quantities greater than error tolerance\n",
    "Diet_response.loc[:,(Diet_response>tol).sum()>0].iplot(xTitle='%s Price' % ReferenceGood,yTitle='Hectograms')"
   ]
  },
  {
   "cell_type": "markdown",
   "metadata": {},
   "source": [
    "#### Dash Diet <a id='Dash5'></a>"
   ]
  },
  {
   "cell_type": "code",
   "execution_count": 215,
   "metadata": {},
   "outputs": [
    {
     "data": {
      "text/html": [
       "        <script type=\"text/javascript\">\n",
       "        window.PlotlyConfig = {MathJaxConfig: 'local'};\n",
       "        if (window.MathJax) {MathJax.Hub.Config({SVG: {font: \"STIX-Web\"}});}\n",
       "        if (typeof require !== 'undefined') {\n",
       "        require.undef(\"plotly\");\n",
       "        requirejs.config({\n",
       "            paths: {\n",
       "                'plotly': ['https://cdn.plot.ly/plotly-latest.min']\n",
       "            }\n",
       "        });\n",
       "        require(['plotly'], function(Plotly) {\n",
       "            window._Plotly = Plotly;\n",
       "        });\n",
       "        }\n",
       "        </script>\n",
       "        "
      ]
     },
     "metadata": {},
     "output_type": "display_data"
    },
    {
     "data": {
      "application/vnd.plotly.v1+json": {
       "config": {
        "linkText": "Export to plot.ly",
        "plotlyServerURL": "https://plot.ly",
        "showLink": true
       },
       "data": [
        {
         "line": {
          "color": "rgba(255, 153, 51, 1.0)",
          "dash": "solid",
          "shape": "linear",
          "width": 1.3
         },
         "mode": "lines",
         "name": "Corn",
         "text": "",
         "type": "scatter",
         "x": [
          0.054617747534834185,
          0.08192662130225128,
          0.09831194556270154,
          0.10923549506966837,
          0.12015904457663522,
          0.13108259408360204,
          0.14200614359056887,
          0.1529296930975357,
          0.16385324260450257,
          0.21847099013933674,
          0.4369419802786735
         ],
         "y": [
          6.729067594451284e-10,
          1.4544828372073253e-09,
          1.936932045796858e-12,
          3.4985895498970134e-09,
          1.3424876623882845e-08,
          5.95377040799004e-09,
          1.851709707843649e-07,
          3.5061091855838374e-10,
          0.9784992940588705,
          4.139818726846692,
          4.139818776718324
         ]
        },
        {
         "line": {
          "color": "rgba(55, 128, 191, 1.0)",
          "dash": "solid",
          "shape": "linear",
          "width": 1.3
         },
         "mode": "lines",
         "name": "Low-fat mozzarella cheese",
         "text": "",
         "type": "scatter",
         "x": [
          0.054617747534834185,
          0.08192662130225128,
          0.09831194556270154,
          0.10923549506966837,
          0.12015904457663522,
          0.13108259408360204,
          0.14200614359056887,
          0.1529296930975357,
          0.16385324260450257,
          0.21847099013933674,
          0.4369419802786735
         ],
         "y": [
          0.259012767649183,
          0.2590127785316053,
          0.4072183773963174,
          0.40721837735683153,
          0.40721838268233607,
          0.4072183790381028,
          0.4072184183825995,
          0.4072183769491804,
          0.6812724098872752,
          1.3839313573135503,
          1.3839313627976475
         ]
        },
        {
         "line": {
          "color": "rgba(50, 171, 96, 1.0)",
          "dash": "solid",
          "shape": "linear",
          "width": 1.3
         },
         "mode": "lines",
         "name": "Lima Beans",
         "text": "",
         "type": "scatter",
         "x": [
          0.054617747534834185,
          0.08192662130225128,
          0.09831194556270154,
          0.10923549506966837,
          0.12015904457663522,
          0.13108259408360204,
          0.14200614359056887,
          0.1529296930975357,
          0.16385324260450257,
          0.21847099013933674,
          0.4369419802786735
         ],
         "y": [
          0.5902765205473153,
          0.5902765204814848,
          0.5079256251528764,
          0.507925623910108,
          0.5079256191280571,
          0.5079256233607551,
          0.5079255736906925,
          0.5079256260378062,
          0.20714581594874482,
          0.8881352551304907,
          0.8881352370045889
         ]
        },
        {
         "line": {
          "color": "rgba(128, 0, 128, 1.0)",
          "dash": "solid",
          "shape": "linear",
          "width": 1.3
         },
         "mode": "lines",
         "name": "Kidney beans (Canned)",
         "text": "",
         "type": "scatter",
         "x": [
          0.054617747534834185,
          0.08192662130225128,
          0.09831194556270154,
          0.10923549506966837,
          0.12015904457663522,
          0.13108259408360204,
          0.14200614359056887,
          0.1529296930975357,
          0.16385324260450257,
          0.21847099013933674,
          0.4369419802786735
         ],
         "y": [
          5.734746920115014,
          5.734746891882429,
          5.540601747194829,
          5.540601748193667,
          5.540601738983996,
          5.540601744668612,
          5.540601685024717,
          5.540601745736292,
          5.149230257009887,
          3.9658855083861253e-10,
          8.431120489287431e-10
         ]
        },
        {
         "line": {
          "color": "rgba(219, 64, 82, 1.0)",
          "dash": "solid",
          "shape": "linear",
          "width": 1.3
         },
         "mode": "lines",
         "name": "Broccoli",
         "text": "",
         "type": "scatter",
         "x": [
          0.054617747534834185,
          0.08192662130225128,
          0.09831194556270154,
          0.10923549506966837,
          0.12015904457663522,
          0.13108259408360204,
          0.14200614359056887,
          0.1529296930975357,
          0.16385324260450257,
          0.21847099013933674,
          0.4369419802786735
         ],
         "y": [
          0.7944713572975247,
          0.7944713967298935,
          0.7894508673201663,
          0.7894508608341813,
          0.7894508462566099,
          0.7894508661766364,
          0.7894508393063913,
          0.7894508658804912,
          0.7056519850828599,
          0.5144338438588579,
          0.5144338246866246
         ]
        },
        {
         "line": {
          "color": "rgba(0, 128, 128, 1.0)",
          "dash": "solid",
          "shape": "linear",
          "width": 1.3
         },
         "mode": "lines",
         "name": "Carrots",
         "text": "",
         "type": "scatter",
         "x": [
          0.054617747534834185,
          0.08192662130225128,
          0.09831194556270154,
          0.10923549506966837,
          0.12015904457663522,
          0.13108259408360204,
          0.14200614359056887,
          0.1529296930975357,
          0.16385324260450257,
          0.21847099013933674,
          0.4369419802786735
         ],
         "y": [
          0.97559237312747,
          0.9755923721964044,
          0.9510688589882524,
          0.9510688586403122,
          0.9510688572700762,
          0.9510688586377365,
          0.9510688498779465,
          0.9510688590067267,
          0.8945148870417784,
          0.7289246047917229,
          0.7289246020331203
         ]
        },
        {
         "line": {
          "color": "rgba(255, 255, 51, 1.0)",
          "dash": "solid",
          "shape": "linear",
          "width": 1.3
         },
         "mode": "lines",
         "name": "Almonds, Low Sodium Lightly Salted",
         "text": "",
         "type": "scatter",
         "x": [
          0.054617747534834185,
          0.08192662130225128,
          0.09831194556270154,
          0.10923549506966837,
          0.12015904457663522,
          0.13108259408360204,
          0.14200614359056887,
          0.1529296930975357,
          0.16385324260450257,
          0.21847099013933674,
          0.4369419802786735
         ],
         "y": [
          0.5602960254206693,
          0.5602960261334856,
          0.5631526138359125,
          0.5631526136350038,
          0.5631526133156883,
          0.5631526138213927,
          0.5631526145286411,
          0.5631526137128,
          0.5702210852680718,
          0.5432888921128054,
          0.543288890618431
         ]
        },
        {
         "line": {
          "color": "rgba(128, 128, 0, 1.0)",
          "dash": "solid",
          "shape": "linear",
          "width": 1.3
         },
         "mode": "lines",
         "name": "Milk, Fat-free",
         "text": "",
         "type": "scatter",
         "x": [
          0.054617747534834185,
          0.08192662130225128,
          0.09831194556270154,
          0.10923549506966837,
          0.12015904457663522,
          0.13108259408360204,
          0.14200614359056887,
          0.1529296930975357,
          0.16385324260450257,
          0.21847099013933674,
          0.4369419802786735
         ],
         "y": [
          0.17611554156928338,
          0.17611555554946148,
          0.30952701039777614,
          0.3095270094273012,
          0.309527012364041,
          0.30952701188467346,
          0.3095270471135222,
          0.3095270096020184,
          0.560779834800507,
          0.699896429723114,
          0.6998964471156554
         ]
        },
        {
         "line": {
          "color": "rgba(251, 128, 114, 1.0)",
          "dash": "solid",
          "shape": "linear",
          "width": 1.3
         },
         "mode": "lines",
         "name": "Collards",
         "text": "",
         "type": "scatter",
         "x": [
          0.054617747534834185,
          0.08192662130225128,
          0.09831194556270154,
          0.10923549506966837,
          0.12015904457663522,
          0.13108259408360204,
          0.14200614359056887,
          0.1529296930975357,
          0.16385324260450257,
          0.21847099013933674,
          0.4369419802786735
         ],
         "y": [
          0.14181825103116125,
          0.1418182511970399,
          0.14610066966084734,
          0.14610067022595888,
          0.14610067200281424,
          0.14610066979352693,
          0.1461006724758151,
          0.14610066998924337,
          0.15621403439743287,
          0.22724127924737142,
          0.22724128602506158
         ]
        },
        {
         "line": {
          "color": "rgba(128, 177, 211, 1.0)",
          "dash": "solid",
          "shape": "linear",
          "width": 1.3
         },
         "mode": "lines",
         "name": "Tuna Canned",
         "text": "",
         "type": "scatter",
         "x": [
          0.054617747534834185,
          0.08192662130225128,
          0.09831194556270154,
          0.10923549506966837,
          0.12015904457663522,
          0.13108259408360204,
          0.14200614359056887,
          0.1529296930975357,
          0.16385324260450257,
          0.21847099013933674,
          0.4369419802786735
         ],
         "y": [
          0.841131616152756,
          0.8411316121998752,
          0.7880774680134555,
          0.7880774678486834,
          0.7880774657372511,
          0.7880774673804775,
          0.7880774527570664,
          0.7880774681558026,
          0.6899725225159152,
          0.43843702374346233,
          0.43843701934308743
         ]
        }
       ],
       "layout": {
        "legend": {
         "bgcolor": "#F5F6F9",
         "font": {
          "color": "#4D5663"
         }
        },
        "paper_bgcolor": "#F5F6F9",
        "plot_bgcolor": "#F5F6F9",
        "template": {
         "data": {
          "bar": [
           {
            "error_x": {
             "color": "#2a3f5f"
            },
            "error_y": {
             "color": "#2a3f5f"
            },
            "marker": {
             "line": {
              "color": "#E5ECF6",
              "width": 0.5
             }
            },
            "type": "bar"
           }
          ],
          "barpolar": [
           {
            "marker": {
             "line": {
              "color": "#E5ECF6",
              "width": 0.5
             }
            },
            "type": "barpolar"
           }
          ],
          "carpet": [
           {
            "aaxis": {
             "endlinecolor": "#2a3f5f",
             "gridcolor": "white",
             "linecolor": "white",
             "minorgridcolor": "white",
             "startlinecolor": "#2a3f5f"
            },
            "baxis": {
             "endlinecolor": "#2a3f5f",
             "gridcolor": "white",
             "linecolor": "white",
             "minorgridcolor": "white",
             "startlinecolor": "#2a3f5f"
            },
            "type": "carpet"
           }
          ],
          "choropleth": [
           {
            "colorbar": {
             "outlinewidth": 0,
             "ticks": ""
            },
            "type": "choropleth"
           }
          ],
          "contour": [
           {
            "colorbar": {
             "outlinewidth": 0,
             "ticks": ""
            },
            "colorscale": [
             [
              0,
              "#0d0887"
             ],
             [
              0.1111111111111111,
              "#46039f"
             ],
             [
              0.2222222222222222,
              "#7201a8"
             ],
             [
              0.3333333333333333,
              "#9c179e"
             ],
             [
              0.4444444444444444,
              "#bd3786"
             ],
             [
              0.5555555555555556,
              "#d8576b"
             ],
             [
              0.6666666666666666,
              "#ed7953"
             ],
             [
              0.7777777777777778,
              "#fb9f3a"
             ],
             [
              0.8888888888888888,
              "#fdca26"
             ],
             [
              1,
              "#f0f921"
             ]
            ],
            "type": "contour"
           }
          ],
          "contourcarpet": [
           {
            "colorbar": {
             "outlinewidth": 0,
             "ticks": ""
            },
            "type": "contourcarpet"
           }
          ],
          "heatmap": [
           {
            "colorbar": {
             "outlinewidth": 0,
             "ticks": ""
            },
            "colorscale": [
             [
              0,
              "#0d0887"
             ],
             [
              0.1111111111111111,
              "#46039f"
             ],
             [
              0.2222222222222222,
              "#7201a8"
             ],
             [
              0.3333333333333333,
              "#9c179e"
             ],
             [
              0.4444444444444444,
              "#bd3786"
             ],
             [
              0.5555555555555556,
              "#d8576b"
             ],
             [
              0.6666666666666666,
              "#ed7953"
             ],
             [
              0.7777777777777778,
              "#fb9f3a"
             ],
             [
              0.8888888888888888,
              "#fdca26"
             ],
             [
              1,
              "#f0f921"
             ]
            ],
            "type": "heatmap"
           }
          ],
          "heatmapgl": [
           {
            "colorbar": {
             "outlinewidth": 0,
             "ticks": ""
            },
            "colorscale": [
             [
              0,
              "#0d0887"
             ],
             [
              0.1111111111111111,
              "#46039f"
             ],
             [
              0.2222222222222222,
              "#7201a8"
             ],
             [
              0.3333333333333333,
              "#9c179e"
             ],
             [
              0.4444444444444444,
              "#bd3786"
             ],
             [
              0.5555555555555556,
              "#d8576b"
             ],
             [
              0.6666666666666666,
              "#ed7953"
             ],
             [
              0.7777777777777778,
              "#fb9f3a"
             ],
             [
              0.8888888888888888,
              "#fdca26"
             ],
             [
              1,
              "#f0f921"
             ]
            ],
            "type": "heatmapgl"
           }
          ],
          "histogram": [
           {
            "marker": {
             "colorbar": {
              "outlinewidth": 0,
              "ticks": ""
             }
            },
            "type": "histogram"
           }
          ],
          "histogram2d": [
           {
            "colorbar": {
             "outlinewidth": 0,
             "ticks": ""
            },
            "colorscale": [
             [
              0,
              "#0d0887"
             ],
             [
              0.1111111111111111,
              "#46039f"
             ],
             [
              0.2222222222222222,
              "#7201a8"
             ],
             [
              0.3333333333333333,
              "#9c179e"
             ],
             [
              0.4444444444444444,
              "#bd3786"
             ],
             [
              0.5555555555555556,
              "#d8576b"
             ],
             [
              0.6666666666666666,
              "#ed7953"
             ],
             [
              0.7777777777777778,
              "#fb9f3a"
             ],
             [
              0.8888888888888888,
              "#fdca26"
             ],
             [
              1,
              "#f0f921"
             ]
            ],
            "type": "histogram2d"
           }
          ],
          "histogram2dcontour": [
           {
            "colorbar": {
             "outlinewidth": 0,
             "ticks": ""
            },
            "colorscale": [
             [
              0,
              "#0d0887"
             ],
             [
              0.1111111111111111,
              "#46039f"
             ],
             [
              0.2222222222222222,
              "#7201a8"
             ],
             [
              0.3333333333333333,
              "#9c179e"
             ],
             [
              0.4444444444444444,
              "#bd3786"
             ],
             [
              0.5555555555555556,
              "#d8576b"
             ],
             [
              0.6666666666666666,
              "#ed7953"
             ],
             [
              0.7777777777777778,
              "#fb9f3a"
             ],
             [
              0.8888888888888888,
              "#fdca26"
             ],
             [
              1,
              "#f0f921"
             ]
            ],
            "type": "histogram2dcontour"
           }
          ],
          "mesh3d": [
           {
            "colorbar": {
             "outlinewidth": 0,
             "ticks": ""
            },
            "type": "mesh3d"
           }
          ],
          "parcoords": [
           {
            "line": {
             "colorbar": {
              "outlinewidth": 0,
              "ticks": ""
             }
            },
            "type": "parcoords"
           }
          ],
          "pie": [
           {
            "automargin": true,
            "type": "pie"
           }
          ],
          "scatter": [
           {
            "marker": {
             "colorbar": {
              "outlinewidth": 0,
              "ticks": ""
             }
            },
            "type": "scatter"
           }
          ],
          "scatter3d": [
           {
            "line": {
             "colorbar": {
              "outlinewidth": 0,
              "ticks": ""
             }
            },
            "marker": {
             "colorbar": {
              "outlinewidth": 0,
              "ticks": ""
             }
            },
            "type": "scatter3d"
           }
          ],
          "scattercarpet": [
           {
            "marker": {
             "colorbar": {
              "outlinewidth": 0,
              "ticks": ""
             }
            },
            "type": "scattercarpet"
           }
          ],
          "scattergeo": [
           {
            "marker": {
             "colorbar": {
              "outlinewidth": 0,
              "ticks": ""
             }
            },
            "type": "scattergeo"
           }
          ],
          "scattergl": [
           {
            "marker": {
             "colorbar": {
              "outlinewidth": 0,
              "ticks": ""
             }
            },
            "type": "scattergl"
           }
          ],
          "scattermapbox": [
           {
            "marker": {
             "colorbar": {
              "outlinewidth": 0,
              "ticks": ""
             }
            },
            "type": "scattermapbox"
           }
          ],
          "scatterpolar": [
           {
            "marker": {
             "colorbar": {
              "outlinewidth": 0,
              "ticks": ""
             }
            },
            "type": "scatterpolar"
           }
          ],
          "scatterpolargl": [
           {
            "marker": {
             "colorbar": {
              "outlinewidth": 0,
              "ticks": ""
             }
            },
            "type": "scatterpolargl"
           }
          ],
          "scatterternary": [
           {
            "marker": {
             "colorbar": {
              "outlinewidth": 0,
              "ticks": ""
             }
            },
            "type": "scatterternary"
           }
          ],
          "surface": [
           {
            "colorbar": {
             "outlinewidth": 0,
             "ticks": ""
            },
            "colorscale": [
             [
              0,
              "#0d0887"
             ],
             [
              0.1111111111111111,
              "#46039f"
             ],
             [
              0.2222222222222222,
              "#7201a8"
             ],
             [
              0.3333333333333333,
              "#9c179e"
             ],
             [
              0.4444444444444444,
              "#bd3786"
             ],
             [
              0.5555555555555556,
              "#d8576b"
             ],
             [
              0.6666666666666666,
              "#ed7953"
             ],
             [
              0.7777777777777778,
              "#fb9f3a"
             ],
             [
              0.8888888888888888,
              "#fdca26"
             ],
             [
              1,
              "#f0f921"
             ]
            ],
            "type": "surface"
           }
          ],
          "table": [
           {
            "cells": {
             "fill": {
              "color": "#EBF0F8"
             },
             "line": {
              "color": "white"
             }
            },
            "header": {
             "fill": {
              "color": "#C8D4E3"
             },
             "line": {
              "color": "white"
             }
            },
            "type": "table"
           }
          ]
         },
         "layout": {
          "annotationdefaults": {
           "arrowcolor": "#2a3f5f",
           "arrowhead": 0,
           "arrowwidth": 1
          },
          "autotypenumbers": "strict",
          "coloraxis": {
           "colorbar": {
            "outlinewidth": 0,
            "ticks": ""
           }
          },
          "colorscale": {
           "diverging": [
            [
             0,
             "#8e0152"
            ],
            [
             0.1,
             "#c51b7d"
            ],
            [
             0.2,
             "#de77ae"
            ],
            [
             0.3,
             "#f1b6da"
            ],
            [
             0.4,
             "#fde0ef"
            ],
            [
             0.5,
             "#f7f7f7"
            ],
            [
             0.6,
             "#e6f5d0"
            ],
            [
             0.7,
             "#b8e186"
            ],
            [
             0.8,
             "#7fbc41"
            ],
            [
             0.9,
             "#4d9221"
            ],
            [
             1,
             "#276419"
            ]
           ],
           "sequential": [
            [
             0,
             "#0d0887"
            ],
            [
             0.1111111111111111,
             "#46039f"
            ],
            [
             0.2222222222222222,
             "#7201a8"
            ],
            [
             0.3333333333333333,
             "#9c179e"
            ],
            [
             0.4444444444444444,
             "#bd3786"
            ],
            [
             0.5555555555555556,
             "#d8576b"
            ],
            [
             0.6666666666666666,
             "#ed7953"
            ],
            [
             0.7777777777777778,
             "#fb9f3a"
            ],
            [
             0.8888888888888888,
             "#fdca26"
            ],
            [
             1,
             "#f0f921"
            ]
           ],
           "sequentialminus": [
            [
             0,
             "#0d0887"
            ],
            [
             0.1111111111111111,
             "#46039f"
            ],
            [
             0.2222222222222222,
             "#7201a8"
            ],
            [
             0.3333333333333333,
             "#9c179e"
            ],
            [
             0.4444444444444444,
             "#bd3786"
            ],
            [
             0.5555555555555556,
             "#d8576b"
            ],
            [
             0.6666666666666666,
             "#ed7953"
            ],
            [
             0.7777777777777778,
             "#fb9f3a"
            ],
            [
             0.8888888888888888,
             "#fdca26"
            ],
            [
             1,
             "#f0f921"
            ]
           ]
          },
          "colorway": [
           "#636efa",
           "#EF553B",
           "#00cc96",
           "#ab63fa",
           "#FFA15A",
           "#19d3f3",
           "#FF6692",
           "#B6E880",
           "#FF97FF",
           "#FECB52"
          ],
          "font": {
           "color": "#2a3f5f"
          },
          "geo": {
           "bgcolor": "white",
           "lakecolor": "white",
           "landcolor": "#E5ECF6",
           "showlakes": true,
           "showland": true,
           "subunitcolor": "white"
          },
          "hoverlabel": {
           "align": "left"
          },
          "hovermode": "closest",
          "mapbox": {
           "style": "light"
          },
          "paper_bgcolor": "white",
          "plot_bgcolor": "#E5ECF6",
          "polar": {
           "angularaxis": {
            "gridcolor": "white",
            "linecolor": "white",
            "ticks": ""
           },
           "bgcolor": "#E5ECF6",
           "radialaxis": {
            "gridcolor": "white",
            "linecolor": "white",
            "ticks": ""
           }
          },
          "scene": {
           "xaxis": {
            "backgroundcolor": "#E5ECF6",
            "gridcolor": "white",
            "gridwidth": 2,
            "linecolor": "white",
            "showbackground": true,
            "ticks": "",
            "zerolinecolor": "white"
           },
           "yaxis": {
            "backgroundcolor": "#E5ECF6",
            "gridcolor": "white",
            "gridwidth": 2,
            "linecolor": "white",
            "showbackground": true,
            "ticks": "",
            "zerolinecolor": "white"
           },
           "zaxis": {
            "backgroundcolor": "#E5ECF6",
            "gridcolor": "white",
            "gridwidth": 2,
            "linecolor": "white",
            "showbackground": true,
            "ticks": "",
            "zerolinecolor": "white"
           }
          },
          "shapedefaults": {
           "line": {
            "color": "#2a3f5f"
           }
          },
          "ternary": {
           "aaxis": {
            "gridcolor": "white",
            "linecolor": "white",
            "ticks": ""
           },
           "baxis": {
            "gridcolor": "white",
            "linecolor": "white",
            "ticks": ""
           },
           "bgcolor": "#E5ECF6",
           "caxis": {
            "gridcolor": "white",
            "linecolor": "white",
            "ticks": ""
           }
          },
          "title": {
           "x": 0.05
          },
          "xaxis": {
           "automargin": true,
           "gridcolor": "white",
           "linecolor": "white",
           "ticks": "",
           "title": {
            "standoff": 15
           },
           "zerolinecolor": "white",
           "zerolinewidth": 2
          },
          "yaxis": {
           "automargin": true,
           "gridcolor": "white",
           "linecolor": "white",
           "ticks": "",
           "title": {
            "standoff": 15
           },
           "zerolinecolor": "white",
           "zerolinewidth": 2
          }
         }
        },
        "title": {
         "font": {
          "color": "#4D5663"
         }
        },
        "xaxis": {
         "gridcolor": "#E1E5ED",
         "showgrid": true,
         "tickfont": {
          "color": "#4D5663"
         },
         "title": {
          "font": {
           "color": "#4D5663"
          },
          "text": "Kidney beans (Canned) Price"
         },
         "zerolinecolor": "#E1E5ED"
        },
        "yaxis": {
         "gridcolor": "#E1E5ED",
         "showgrid": true,
         "tickfont": {
          "color": "#4D5663"
         },
         "title": {
          "font": {
           "color": "#4D5663"
          },
          "text": "Hectograms"
         },
         "zerolinecolor": "#E1E5ED"
        }
       }
      },
      "text/html": [
       "<div>                            <div id=\"e6ca2121-b448-4b06-9ed4-3dbfd82b1321\" class=\"plotly-graph-div\" style=\"height:525px; width:100%;\"></div>            <script type=\"text/javascript\">                require([\"plotly\"], function(Plotly) {                    window.PLOTLYENV=window.PLOTLYENV || {};\n",
       "                    window.PLOTLYENV.BASE_URL='https://plot.ly';                                    if (document.getElementById(\"e6ca2121-b448-4b06-9ed4-3dbfd82b1321\")) {                    Plotly.newPlot(                        \"e6ca2121-b448-4b06-9ed4-3dbfd82b1321\",                        [{\"line\": {\"color\": \"rgba(255, 153, 51, 1.0)\", \"dash\": \"solid\", \"shape\": \"linear\", \"width\": 1.3}, \"mode\": \"lines\", \"name\": \"Corn\", \"text\": \"\", \"type\": \"scatter\", \"x\": [0.054617747534834185, 0.08192662130225128, 0.09831194556270154, 0.10923549506966837, 0.12015904457663522, 0.13108259408360204, 0.14200614359056887, 0.1529296930975357, 0.16385324260450257, 0.21847099013933674, 0.4369419802786735], \"y\": [6.729067594451284e-10, 1.4544828372073253e-09, 1.936932045796858e-12, 3.4985895498970134e-09, 1.3424876623882845e-08, 5.95377040799004e-09, 1.851709707843649e-07, 3.5061091855838374e-10, 0.9784992940588705, 4.139818726846692, 4.139818776718324]}, {\"line\": {\"color\": \"rgba(55, 128, 191, 1.0)\", \"dash\": \"solid\", \"shape\": \"linear\", \"width\": 1.3}, \"mode\": \"lines\", \"name\": \"Low-fat mozzarella cheese\", \"text\": \"\", \"type\": \"scatter\", \"x\": [0.054617747534834185, 0.08192662130225128, 0.09831194556270154, 0.10923549506966837, 0.12015904457663522, 0.13108259408360204, 0.14200614359056887, 0.1529296930975357, 0.16385324260450257, 0.21847099013933674, 0.4369419802786735], \"y\": [0.259012767649183, 0.2590127785316053, 0.4072183773963174, 0.40721837735683153, 0.40721838268233607, 0.4072183790381028, 0.4072184183825995, 0.4072183769491804, 0.6812724098872752, 1.3839313573135503, 1.3839313627976475]}, {\"line\": {\"color\": \"rgba(50, 171, 96, 1.0)\", \"dash\": \"solid\", \"shape\": \"linear\", \"width\": 1.3}, \"mode\": \"lines\", \"name\": \"Lima Beans\", \"text\": \"\", \"type\": \"scatter\", \"x\": [0.054617747534834185, 0.08192662130225128, 0.09831194556270154, 0.10923549506966837, 0.12015904457663522, 0.13108259408360204, 0.14200614359056887, 0.1529296930975357, 0.16385324260450257, 0.21847099013933674, 0.4369419802786735], \"y\": [0.5902765205473153, 0.5902765204814848, 0.5079256251528764, 0.507925623910108, 0.5079256191280571, 0.5079256233607551, 0.5079255736906925, 0.5079256260378062, 0.20714581594874482, 0.8881352551304907, 0.8881352370045889]}, {\"line\": {\"color\": \"rgba(128, 0, 128, 1.0)\", \"dash\": \"solid\", \"shape\": \"linear\", \"width\": 1.3}, \"mode\": \"lines\", \"name\": \"Kidney beans (Canned)\", \"text\": \"\", \"type\": \"scatter\", \"x\": [0.054617747534834185, 0.08192662130225128, 0.09831194556270154, 0.10923549506966837, 0.12015904457663522, 0.13108259408360204, 0.14200614359056887, 0.1529296930975357, 0.16385324260450257, 0.21847099013933674, 0.4369419802786735], \"y\": [5.734746920115014, 5.734746891882429, 5.540601747194829, 5.540601748193667, 5.540601738983996, 5.540601744668612, 5.540601685024717, 5.540601745736292, 5.149230257009887, 3.9658855083861253e-10, 8.431120489287431e-10]}, {\"line\": {\"color\": \"rgba(219, 64, 82, 1.0)\", \"dash\": \"solid\", \"shape\": \"linear\", \"width\": 1.3}, \"mode\": \"lines\", \"name\": \"Broccoli\", \"text\": \"\", \"type\": \"scatter\", \"x\": [0.054617747534834185, 0.08192662130225128, 0.09831194556270154, 0.10923549506966837, 0.12015904457663522, 0.13108259408360204, 0.14200614359056887, 0.1529296930975357, 0.16385324260450257, 0.21847099013933674, 0.4369419802786735], \"y\": [0.7944713572975247, 0.7944713967298935, 0.7894508673201663, 0.7894508608341813, 0.7894508462566099, 0.7894508661766364, 0.7894508393063913, 0.7894508658804912, 0.7056519850828599, 0.5144338438588579, 0.5144338246866246]}, {\"line\": {\"color\": \"rgba(0, 128, 128, 1.0)\", \"dash\": \"solid\", \"shape\": \"linear\", \"width\": 1.3}, \"mode\": \"lines\", \"name\": \"Carrots\", \"text\": \"\", \"type\": \"scatter\", \"x\": [0.054617747534834185, 0.08192662130225128, 0.09831194556270154, 0.10923549506966837, 0.12015904457663522, 0.13108259408360204, 0.14200614359056887, 0.1529296930975357, 0.16385324260450257, 0.21847099013933674, 0.4369419802786735], \"y\": [0.97559237312747, 0.9755923721964044, 0.9510688589882524, 0.9510688586403122, 0.9510688572700762, 0.9510688586377365, 0.9510688498779465, 0.9510688590067267, 0.8945148870417784, 0.7289246047917229, 0.7289246020331203]}, {\"line\": {\"color\": \"rgba(255, 255, 51, 1.0)\", \"dash\": \"solid\", \"shape\": \"linear\", \"width\": 1.3}, \"mode\": \"lines\", \"name\": \"Almonds, Low Sodium Lightly Salted\", \"text\": \"\", \"type\": \"scatter\", \"x\": [0.054617747534834185, 0.08192662130225128, 0.09831194556270154, 0.10923549506966837, 0.12015904457663522, 0.13108259408360204, 0.14200614359056887, 0.1529296930975357, 0.16385324260450257, 0.21847099013933674, 0.4369419802786735], \"y\": [0.5602960254206693, 0.5602960261334856, 0.5631526138359125, 0.5631526136350038, 0.5631526133156883, 0.5631526138213927, 0.5631526145286411, 0.5631526137128, 0.5702210852680718, 0.5432888921128054, 0.543288890618431]}, {\"line\": {\"color\": \"rgba(128, 128, 0, 1.0)\", \"dash\": \"solid\", \"shape\": \"linear\", \"width\": 1.3}, \"mode\": \"lines\", \"name\": \"Milk, Fat-free\", \"text\": \"\", \"type\": \"scatter\", \"x\": [0.054617747534834185, 0.08192662130225128, 0.09831194556270154, 0.10923549506966837, 0.12015904457663522, 0.13108259408360204, 0.14200614359056887, 0.1529296930975357, 0.16385324260450257, 0.21847099013933674, 0.4369419802786735], \"y\": [0.17611554156928338, 0.17611555554946148, 0.30952701039777614, 0.3095270094273012, 0.309527012364041, 0.30952701188467346, 0.3095270471135222, 0.3095270096020184, 0.560779834800507, 0.699896429723114, 0.6998964471156554]}, {\"line\": {\"color\": \"rgba(251, 128, 114, 1.0)\", \"dash\": \"solid\", \"shape\": \"linear\", \"width\": 1.3}, \"mode\": \"lines\", \"name\": \"Collards\", \"text\": \"\", \"type\": \"scatter\", \"x\": [0.054617747534834185, 0.08192662130225128, 0.09831194556270154, 0.10923549506966837, 0.12015904457663522, 0.13108259408360204, 0.14200614359056887, 0.1529296930975357, 0.16385324260450257, 0.21847099013933674, 0.4369419802786735], \"y\": [0.14181825103116125, 0.1418182511970399, 0.14610066966084734, 0.14610067022595888, 0.14610067200281424, 0.14610066979352693, 0.1461006724758151, 0.14610066998924337, 0.15621403439743287, 0.22724127924737142, 0.22724128602506158]}, {\"line\": {\"color\": \"rgba(128, 177, 211, 1.0)\", \"dash\": \"solid\", \"shape\": \"linear\", \"width\": 1.3}, \"mode\": \"lines\", \"name\": \"Tuna Canned\", \"text\": \"\", \"type\": \"scatter\", \"x\": [0.054617747534834185, 0.08192662130225128, 0.09831194556270154, 0.10923549506966837, 0.12015904457663522, 0.13108259408360204, 0.14200614359056887, 0.1529296930975357, 0.16385324260450257, 0.21847099013933674, 0.4369419802786735], \"y\": [0.841131616152756, 0.8411316121998752, 0.7880774680134555, 0.7880774678486834, 0.7880774657372511, 0.7880774673804775, 0.7880774527570664, 0.7880774681558026, 0.6899725225159152, 0.43843702374346233, 0.43843701934308743]}],                        {\"legend\": {\"bgcolor\": \"#F5F6F9\", \"font\": {\"color\": \"#4D5663\"}}, \"paper_bgcolor\": \"#F5F6F9\", \"plot_bgcolor\": \"#F5F6F9\", \"template\": {\"data\": {\"bar\": [{\"error_x\": {\"color\": \"#2a3f5f\"}, \"error_y\": {\"color\": \"#2a3f5f\"}, \"marker\": {\"line\": {\"color\": \"#E5ECF6\", \"width\": 0.5}}, \"type\": \"bar\"}], \"barpolar\": [{\"marker\": {\"line\": {\"color\": \"#E5ECF6\", \"width\": 0.5}}, \"type\": \"barpolar\"}], \"carpet\": [{\"aaxis\": {\"endlinecolor\": \"#2a3f5f\", \"gridcolor\": \"white\", \"linecolor\": \"white\", \"minorgridcolor\": \"white\", \"startlinecolor\": \"#2a3f5f\"}, \"baxis\": {\"endlinecolor\": \"#2a3f5f\", \"gridcolor\": \"white\", \"linecolor\": \"white\", \"minorgridcolor\": \"white\", \"startlinecolor\": \"#2a3f5f\"}, \"type\": \"carpet\"}], \"choropleth\": [{\"colorbar\": {\"outlinewidth\": 0, \"ticks\": \"\"}, \"type\": \"choropleth\"}], \"contour\": [{\"colorbar\": {\"outlinewidth\": 0, \"ticks\": \"\"}, \"colorscale\": [[0.0, \"#0d0887\"], [0.1111111111111111, \"#46039f\"], [0.2222222222222222, \"#7201a8\"], [0.3333333333333333, \"#9c179e\"], [0.4444444444444444, \"#bd3786\"], [0.5555555555555556, \"#d8576b\"], [0.6666666666666666, \"#ed7953\"], [0.7777777777777778, \"#fb9f3a\"], [0.8888888888888888, \"#fdca26\"], [1.0, \"#f0f921\"]], \"type\": \"contour\"}], \"contourcarpet\": [{\"colorbar\": {\"outlinewidth\": 0, \"ticks\": \"\"}, \"type\": \"contourcarpet\"}], \"heatmap\": [{\"colorbar\": {\"outlinewidth\": 0, \"ticks\": \"\"}, \"colorscale\": [[0.0, \"#0d0887\"], [0.1111111111111111, \"#46039f\"], [0.2222222222222222, \"#7201a8\"], [0.3333333333333333, \"#9c179e\"], [0.4444444444444444, \"#bd3786\"], [0.5555555555555556, \"#d8576b\"], [0.6666666666666666, \"#ed7953\"], [0.7777777777777778, \"#fb9f3a\"], [0.8888888888888888, \"#fdca26\"], [1.0, \"#f0f921\"]], \"type\": \"heatmap\"}], \"heatmapgl\": [{\"colorbar\": {\"outlinewidth\": 0, \"ticks\": \"\"}, \"colorscale\": [[0.0, \"#0d0887\"], [0.1111111111111111, \"#46039f\"], [0.2222222222222222, \"#7201a8\"], [0.3333333333333333, \"#9c179e\"], [0.4444444444444444, \"#bd3786\"], [0.5555555555555556, \"#d8576b\"], [0.6666666666666666, \"#ed7953\"], [0.7777777777777778, \"#fb9f3a\"], [0.8888888888888888, \"#fdca26\"], [1.0, \"#f0f921\"]], \"type\": \"heatmapgl\"}], \"histogram\": [{\"marker\": {\"colorbar\": {\"outlinewidth\": 0, \"ticks\": \"\"}}, \"type\": \"histogram\"}], \"histogram2d\": [{\"colorbar\": {\"outlinewidth\": 0, \"ticks\": \"\"}, \"colorscale\": [[0.0, \"#0d0887\"], [0.1111111111111111, \"#46039f\"], [0.2222222222222222, \"#7201a8\"], [0.3333333333333333, \"#9c179e\"], [0.4444444444444444, \"#bd3786\"], [0.5555555555555556, \"#d8576b\"], [0.6666666666666666, \"#ed7953\"], [0.7777777777777778, \"#fb9f3a\"], [0.8888888888888888, \"#fdca26\"], [1.0, \"#f0f921\"]], \"type\": \"histogram2d\"}], \"histogram2dcontour\": [{\"colorbar\": {\"outlinewidth\": 0, \"ticks\": \"\"}, \"colorscale\": [[0.0, \"#0d0887\"], [0.1111111111111111, \"#46039f\"], [0.2222222222222222, \"#7201a8\"], [0.3333333333333333, \"#9c179e\"], [0.4444444444444444, \"#bd3786\"], [0.5555555555555556, \"#d8576b\"], [0.6666666666666666, \"#ed7953\"], [0.7777777777777778, \"#fb9f3a\"], [0.8888888888888888, \"#fdca26\"], [1.0, \"#f0f921\"]], \"type\": \"histogram2dcontour\"}], \"mesh3d\": [{\"colorbar\": {\"outlinewidth\": 0, \"ticks\": \"\"}, \"type\": \"mesh3d\"}], \"parcoords\": [{\"line\": {\"colorbar\": {\"outlinewidth\": 0, \"ticks\": \"\"}}, \"type\": \"parcoords\"}], \"pie\": [{\"automargin\": true, \"type\": \"pie\"}], \"scatter\": [{\"marker\": {\"colorbar\": {\"outlinewidth\": 0, \"ticks\": \"\"}}, \"type\": \"scatter\"}], \"scatter3d\": [{\"line\": {\"colorbar\": {\"outlinewidth\": 0, \"ticks\": \"\"}}, \"marker\": {\"colorbar\": {\"outlinewidth\": 0, \"ticks\": \"\"}}, \"type\": \"scatter3d\"}], \"scattercarpet\": [{\"marker\": {\"colorbar\": {\"outlinewidth\": 0, \"ticks\": \"\"}}, \"type\": \"scattercarpet\"}], \"scattergeo\": [{\"marker\": {\"colorbar\": {\"outlinewidth\": 0, \"ticks\": \"\"}}, \"type\": \"scattergeo\"}], \"scattergl\": [{\"marker\": {\"colorbar\": {\"outlinewidth\": 0, \"ticks\": \"\"}}, \"type\": \"scattergl\"}], \"scattermapbox\": [{\"marker\": {\"colorbar\": {\"outlinewidth\": 0, \"ticks\": \"\"}}, \"type\": \"scattermapbox\"}], \"scatterpolar\": [{\"marker\": {\"colorbar\": {\"outlinewidth\": 0, \"ticks\": \"\"}}, \"type\": \"scatterpolar\"}], \"scatterpolargl\": [{\"marker\": {\"colorbar\": {\"outlinewidth\": 0, \"ticks\": \"\"}}, \"type\": \"scatterpolargl\"}], \"scatterternary\": [{\"marker\": {\"colorbar\": {\"outlinewidth\": 0, \"ticks\": \"\"}}, \"type\": \"scatterternary\"}], \"surface\": [{\"colorbar\": {\"outlinewidth\": 0, \"ticks\": \"\"}, \"colorscale\": [[0.0, \"#0d0887\"], [0.1111111111111111, \"#46039f\"], [0.2222222222222222, \"#7201a8\"], [0.3333333333333333, \"#9c179e\"], [0.4444444444444444, \"#bd3786\"], [0.5555555555555556, \"#d8576b\"], [0.6666666666666666, \"#ed7953\"], [0.7777777777777778, \"#fb9f3a\"], [0.8888888888888888, \"#fdca26\"], [1.0, \"#f0f921\"]], \"type\": \"surface\"}], \"table\": [{\"cells\": {\"fill\": {\"color\": \"#EBF0F8\"}, \"line\": {\"color\": \"white\"}}, \"header\": {\"fill\": {\"color\": \"#C8D4E3\"}, \"line\": {\"color\": \"white\"}}, \"type\": \"table\"}]}, \"layout\": {\"annotationdefaults\": {\"arrowcolor\": \"#2a3f5f\", \"arrowhead\": 0, \"arrowwidth\": 1}, \"autotypenumbers\": \"strict\", \"coloraxis\": {\"colorbar\": {\"outlinewidth\": 0, \"ticks\": \"\"}}, \"colorscale\": {\"diverging\": [[0, \"#8e0152\"], [0.1, \"#c51b7d\"], [0.2, \"#de77ae\"], [0.3, \"#f1b6da\"], [0.4, \"#fde0ef\"], [0.5, \"#f7f7f7\"], [0.6, \"#e6f5d0\"], [0.7, \"#b8e186\"], [0.8, \"#7fbc41\"], [0.9, \"#4d9221\"], [1, \"#276419\"]], \"sequential\": [[0.0, \"#0d0887\"], [0.1111111111111111, \"#46039f\"], [0.2222222222222222, \"#7201a8\"], [0.3333333333333333, \"#9c179e\"], [0.4444444444444444, \"#bd3786\"], [0.5555555555555556, \"#d8576b\"], [0.6666666666666666, \"#ed7953\"], [0.7777777777777778, \"#fb9f3a\"], [0.8888888888888888, \"#fdca26\"], [1.0, \"#f0f921\"]], \"sequentialminus\": [[0.0, \"#0d0887\"], [0.1111111111111111, \"#46039f\"], [0.2222222222222222, \"#7201a8\"], [0.3333333333333333, \"#9c179e\"], [0.4444444444444444, \"#bd3786\"], [0.5555555555555556, \"#d8576b\"], [0.6666666666666666, \"#ed7953\"], [0.7777777777777778, \"#fb9f3a\"], [0.8888888888888888, \"#fdca26\"], [1.0, \"#f0f921\"]]}, \"colorway\": [\"#636efa\", \"#EF553B\", \"#00cc96\", \"#ab63fa\", \"#FFA15A\", \"#19d3f3\", \"#FF6692\", \"#B6E880\", \"#FF97FF\", \"#FECB52\"], \"font\": {\"color\": \"#2a3f5f\"}, \"geo\": {\"bgcolor\": \"white\", \"lakecolor\": \"white\", \"landcolor\": \"#E5ECF6\", \"showlakes\": true, \"showland\": true, \"subunitcolor\": \"white\"}, \"hoverlabel\": {\"align\": \"left\"}, \"hovermode\": \"closest\", \"mapbox\": {\"style\": \"light\"}, \"paper_bgcolor\": \"white\", \"plot_bgcolor\": \"#E5ECF6\", \"polar\": {\"angularaxis\": {\"gridcolor\": \"white\", \"linecolor\": \"white\", \"ticks\": \"\"}, \"bgcolor\": \"#E5ECF6\", \"radialaxis\": {\"gridcolor\": \"white\", \"linecolor\": \"white\", \"ticks\": \"\"}}, \"scene\": {\"xaxis\": {\"backgroundcolor\": \"#E5ECF6\", \"gridcolor\": \"white\", \"gridwidth\": 2, \"linecolor\": \"white\", \"showbackground\": true, \"ticks\": \"\", \"zerolinecolor\": \"white\"}, \"yaxis\": {\"backgroundcolor\": \"#E5ECF6\", \"gridcolor\": \"white\", \"gridwidth\": 2, \"linecolor\": \"white\", \"showbackground\": true, \"ticks\": \"\", \"zerolinecolor\": \"white\"}, \"zaxis\": {\"backgroundcolor\": \"#E5ECF6\", \"gridcolor\": \"white\", \"gridwidth\": 2, \"linecolor\": \"white\", \"showbackground\": true, \"ticks\": \"\", \"zerolinecolor\": \"white\"}}, \"shapedefaults\": {\"line\": {\"color\": \"#2a3f5f\"}}, \"ternary\": {\"aaxis\": {\"gridcolor\": \"white\", \"linecolor\": \"white\", \"ticks\": \"\"}, \"baxis\": {\"gridcolor\": \"white\", \"linecolor\": \"white\", \"ticks\": \"\"}, \"bgcolor\": \"#E5ECF6\", \"caxis\": {\"gridcolor\": \"white\", \"linecolor\": \"white\", \"ticks\": \"\"}}, \"title\": {\"x\": 0.05}, \"xaxis\": {\"automargin\": true, \"gridcolor\": \"white\", \"linecolor\": \"white\", \"ticks\": \"\", \"title\": {\"standoff\": 15}, \"zerolinecolor\": \"white\", \"zerolinewidth\": 2}, \"yaxis\": {\"automargin\": true, \"gridcolor\": \"white\", \"linecolor\": \"white\", \"ticks\": \"\", \"title\": {\"standoff\": 15}, \"zerolinecolor\": \"white\", \"zerolinewidth\": 2}}}, \"title\": {\"font\": {\"color\": \"#4D5663\"}}, \"xaxis\": {\"gridcolor\": \"#E1E5ED\", \"showgrid\": true, \"tickfont\": {\"color\": \"#4D5663\"}, \"title\": {\"font\": {\"color\": \"#4D5663\"}, \"text\": \"Kidney beans (Canned) Price\"}, \"zerolinecolor\": \"#E1E5ED\"}, \"yaxis\": {\"gridcolor\": \"#E1E5ED\", \"showgrid\": true, \"tickfont\": {\"color\": \"#4D5663\"}, \"title\": {\"font\": {\"color\": \"#4D5663\"}, \"text\": \"Hectograms\"}, \"zerolinecolor\": \"#E1E5ED\"}},                        {\"showLink\": true, \"linkText\": \"Export to plot.ly\", \"plotlyServerURL\": \"https://plot.ly\", \"responsive\": true}                    ).then(function(){\n",
       "                            \n",
       "var gd = document.getElementById('e6ca2121-b448-4b06-9ed4-3dbfd82b1321');\n",
       "var x = new MutationObserver(function (mutations, observer) {{\n",
       "        var display = window.getComputedStyle(gd).display;\n",
       "        if (!display || display === 'none') {{\n",
       "            console.log([gd, 'removed!']);\n",
       "            Plotly.purge(gd);\n",
       "            observer.disconnect();\n",
       "        }}\n",
       "}});\n",
       "\n",
       "// Listen for the removal of the full notebook cells\n",
       "var notebookContainer = gd.closest('#notebook-container');\n",
       "if (notebookContainer) {{\n",
       "    x.observe(notebookContainer, {childList: true});\n",
       "}}\n",
       "\n",
       "// Listen for the clearing of the current output cell\n",
       "var outputEl = gd.closest('.output');\n",
       "if (outputEl) {{\n",
       "    x.observe(outputEl, {childList: true});\n",
       "}}\n",
       "\n",
       "                        })                };                });            </script>        </div>"
      ]
     },
     "metadata": {},
     "output_type": "display_data"
    }
   ],
   "source": [
    "import cufflinks as cf\n",
    "cf.go_offline()\n",
    "\n",
    "ReferenceGood = 'Kidney beans (Canned)'\n",
    "\n",
    "scale = [0.5,0.75,0.9,1.,1.1,1.2,1.3,1.4,1.5,2,4]\n",
    "\n",
    "cost0 = solve_subsistence_problem(DashFoodNutrients,dash_diet_prices,diet_min[group],diet_max[group],tol=tol)\n",
    "\n",
    "my_p = dash_diet_prices.copy()\n",
    "\n",
    "diet = {}\n",
    "for s in scale:\n",
    "\n",
    "    my_p[ReferenceGood] = dash_diet_prices[ReferenceGood]*s\n",
    "    result = solve_subsistence_problem(DashFoodNutrients,my_p,diet_min[group],diet_max[group],max_weight=12,tol=tol)\n",
    "    diet[my_p[ReferenceGood]] = result.diet\n",
    "\n",
    "Diet_response = pd.DataFrame(diet).T\n",
    "Diet_response.index.name = '%s Price' % ReferenceGood\n",
    "\n",
    "Diet_response.reset_index(inplace=True)\n",
    "\n",
    "# Get rid of units for index (cufflinks chokes)\n",
    "Diet_response['%s Price' % ReferenceGood] = Diet_response['%s Price' % ReferenceGood].apply(lambda x: x.magnitude)\n",
    "\n",
    "Diet_response = Diet_response.set_index('%s Price' % ReferenceGood)\n",
    "\n",
    "# Just look at goods consumed in quantities greater than error tolerance\n",
    "Diet_response.loc[:,(Diet_response>tol).sum()>0].iplot(xTitle='%s Price' % ReferenceGood,yTitle='Hectograms')"
   ]
  },
  {
   "cell_type": "code",
   "execution_count": null,
   "metadata": {},
   "outputs": [],
   "source": []
  }
 ],
 "metadata": {
  "kernelspec": {
   "display_name": "Python 3",
   "language": "python",
   "name": "python3"
  },
  "language_info": {
   "codemirror_mode": {
    "name": "ipython",
    "version": 3
   },
   "file_extension": ".py",
   "mimetype": "text/x-python",
   "name": "python",
   "nbconvert_exporter": "python",
   "pygments_lexer": "ipython3",
   "version": "3.8.6"
  }
 },
 "nbformat": 4,
 "nbformat_minor": 4
}
